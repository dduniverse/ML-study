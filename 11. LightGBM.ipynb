{
  "nbformat": 4,
  "nbformat_minor": 0,
  "metadata": {
    "colab": {
      "provenance": [],
      "authorship_tag": "ABX9TyN4AsV30tkVlgy/1FgHEo+o",
      "include_colab_link": true
    },
    "kernelspec": {
      "name": "python3",
      "display_name": "Python 3"
    },
    "language_info": {
      "name": "python"
    }
  },
  "cells": [
    {
      "cell_type": "markdown",
      "metadata": {
        "id": "view-in-github",
        "colab_type": "text"
      },
      "source": [
        "<a href=\"https://colab.research.google.com/github/dduniverse/ML-study/blob/main/11.%20LightGBM.ipynb\" target=\"_parent\"><img src=\"https://colab.research.google.com/assets/colab-badge.svg\" alt=\"Open In Colab\"/></a>"
      ]
    },
    {
      "cell_type": "markdown",
      "source": [
        "# LightGBM\n",
        "XGBoost 이후로 나온 최신 부스팅 모델\n",
        "- 리프 중심 트리 분할 방식 사용\n",
        "\n",
        "|장점|단점|\n",
        "|---|---|\n",
        "|XGBoost보다도 빠르고 높은 정확도를 보여주는 경우가 많음|복잡한 모델인 만큼, 해석에 어려움이 있음|\n",
        "|예측에 영향을 미친 변수의 중요도를 확인할 수 있음|하이퍼파라미터 튜닝이 까다로움|\n",
        "|변수 종류가 많고 데이터가 클수록 상대적으로 뛰어난 성능을 보여줌| |\n",
        "\n",
        "\n",
        "- 종속변수가 연속형 데이터인 경우든 범주형 데이터인 경우든 모두 사용할 수 있음\n",
        "- 이미지나 자연어가 아닌 표로 정리된 데이터라면 거의 모든 상황에서 활용할 수 있음"
      ],
      "metadata": {
        "id": "fcntbFPEwdj9"
      }
    },
    {
      "cell_type": "markdown",
      "source": [
        "## 라이브러리 및 데이터 불러오기"
      ],
      "metadata": {
        "id": "DVYPl_GKxG7n"
      }
    },
    {
      "cell_type": "code",
      "execution_count": 1,
      "metadata": {
        "id": "fMgNLHX6wZTZ"
      },
      "outputs": [],
      "source": [
        "import pandas as pd\n",
        "import numpy as np\n",
        "import matplotlib.pyplot as plt\n",
        "import seaborn as sns"
      ]
    },
    {
      "cell_type": "code",
      "source": [
        "file_url = 'https://media.githubusercontent.com/media/musthave-ML10/data_source/main/fraud.csv'\n",
        "data = pd.read_csv(file_url)\n",
        "data.head()"
      ],
      "metadata": {
        "colab": {
          "base_uri": "https://localhost:8080/",
          "height": 577
        },
        "id": "8KfZuIkWxNkg",
        "outputId": "3e35868e-e2de-41b0-e866-b0e8d1a2e7b9"
      },
      "execution_count": 2,
      "outputs": [
        {
          "output_type": "execute_result",
          "data": {
            "text/plain": [
              "  trans_date_trans_time            cc_num                            merchant  \\\n",
              "0   2019-01-01 00:00:18  2703186189652095          fraud_Rippin, Kub and Mann   \n",
              "1   2019-01-01 00:00:44      630423337322     fraud_Heller, Gutmann and Zieme   \n",
              "2   2019-01-01 00:00:51    38859492057661                fraud_Lind-Buckridge   \n",
              "3   2019-01-01 00:01:16  3534093764340240  fraud_Kutch, Hermiston and Farrell   \n",
              "4   2019-01-01 00:03:06   375534208663984                 fraud_Keeling-Crist   \n",
              "\n",
              "        category     amt      first     last gender  \\\n",
              "0       misc_net    4.97   Jennifer    Banks      F   \n",
              "1    grocery_pos  107.23  Stephanie     Gill      F   \n",
              "2  entertainment  220.11     Edward  Sanchez      M   \n",
              "3  gas_transport   45.00     Jeremy    White      M   \n",
              "4       misc_pos   41.96      Tyler   Garcia      M   \n",
              "\n",
              "                         street            city  ...      lat      long  \\\n",
              "0                561 Perry Cove  Moravian Falls  ...  36.0788  -81.1781   \n",
              "1  43039 Riley Greens Suite 393          Orient  ...  48.8878 -118.2105   \n",
              "2      594 White Dale Suite 530      Malad City  ...  42.1808 -112.2620   \n",
              "3   9443 Cynthia Court Apt. 038         Boulder  ...  46.2306 -112.1138   \n",
              "4              408 Bradley Rest        Doe Hill  ...  38.4207  -79.4629   \n",
              "\n",
              "   city_pop                                job         dob  \\\n",
              "0      3495          Psychologist, counselling  1988-03-09   \n",
              "1       149  Special educational needs teacher  1978-06-21   \n",
              "2      4154        Nature conservation officer  1962-01-19   \n",
              "3      1939                    Patent attorney  1967-01-12   \n",
              "4        99     Dance movement psychotherapist  1986-03-28   \n",
              "\n",
              "                          trans_num   unix_time  merch_lat  merch_long  \\\n",
              "0  0b242abb623afc578575680df30655b9  1325376018  36.011293  -82.048315   \n",
              "1  1f76529f8574734946361c461b024d99  1325376044  49.159047 -118.186462   \n",
              "2  a1a22d70485983eac12b5b88dad1cf95  1325376051  43.150704 -112.154481   \n",
              "3  6b849c168bdad6f867558c3793159a81  1325376076  47.034331 -112.561071   \n",
              "4  a41d7549acf90789359a9aa5346dcb46  1325376186  38.674999  -78.632459   \n",
              "\n",
              "   is_fraud  \n",
              "0         0  \n",
              "1         0  \n",
              "2         0  \n",
              "3         0  \n",
              "4         0  \n",
              "\n",
              "[5 rows x 22 columns]"
            ],
            "text/html": [
              "\n",
              "  <div id=\"df-4b7fe7bb-ab51-4f43-b708-b0dcde21bfc5\">\n",
              "    <div class=\"colab-df-container\">\n",
              "      <div>\n",
              "<style scoped>\n",
              "    .dataframe tbody tr th:only-of-type {\n",
              "        vertical-align: middle;\n",
              "    }\n",
              "\n",
              "    .dataframe tbody tr th {\n",
              "        vertical-align: top;\n",
              "    }\n",
              "\n",
              "    .dataframe thead th {\n",
              "        text-align: right;\n",
              "    }\n",
              "</style>\n",
              "<table border=\"1\" class=\"dataframe\">\n",
              "  <thead>\n",
              "    <tr style=\"text-align: right;\">\n",
              "      <th></th>\n",
              "      <th>trans_date_trans_time</th>\n",
              "      <th>cc_num</th>\n",
              "      <th>merchant</th>\n",
              "      <th>category</th>\n",
              "      <th>amt</th>\n",
              "      <th>first</th>\n",
              "      <th>last</th>\n",
              "      <th>gender</th>\n",
              "      <th>street</th>\n",
              "      <th>city</th>\n",
              "      <th>...</th>\n",
              "      <th>lat</th>\n",
              "      <th>long</th>\n",
              "      <th>city_pop</th>\n",
              "      <th>job</th>\n",
              "      <th>dob</th>\n",
              "      <th>trans_num</th>\n",
              "      <th>unix_time</th>\n",
              "      <th>merch_lat</th>\n",
              "      <th>merch_long</th>\n",
              "      <th>is_fraud</th>\n",
              "    </tr>\n",
              "  </thead>\n",
              "  <tbody>\n",
              "    <tr>\n",
              "      <th>0</th>\n",
              "      <td>2019-01-01 00:00:18</td>\n",
              "      <td>2703186189652095</td>\n",
              "      <td>fraud_Rippin, Kub and Mann</td>\n",
              "      <td>misc_net</td>\n",
              "      <td>4.97</td>\n",
              "      <td>Jennifer</td>\n",
              "      <td>Banks</td>\n",
              "      <td>F</td>\n",
              "      <td>561 Perry Cove</td>\n",
              "      <td>Moravian Falls</td>\n",
              "      <td>...</td>\n",
              "      <td>36.0788</td>\n",
              "      <td>-81.1781</td>\n",
              "      <td>3495</td>\n",
              "      <td>Psychologist, counselling</td>\n",
              "      <td>1988-03-09</td>\n",
              "      <td>0b242abb623afc578575680df30655b9</td>\n",
              "      <td>1325376018</td>\n",
              "      <td>36.011293</td>\n",
              "      <td>-82.048315</td>\n",
              "      <td>0</td>\n",
              "    </tr>\n",
              "    <tr>\n",
              "      <th>1</th>\n",
              "      <td>2019-01-01 00:00:44</td>\n",
              "      <td>630423337322</td>\n",
              "      <td>fraud_Heller, Gutmann and Zieme</td>\n",
              "      <td>grocery_pos</td>\n",
              "      <td>107.23</td>\n",
              "      <td>Stephanie</td>\n",
              "      <td>Gill</td>\n",
              "      <td>F</td>\n",
              "      <td>43039 Riley Greens Suite 393</td>\n",
              "      <td>Orient</td>\n",
              "      <td>...</td>\n",
              "      <td>48.8878</td>\n",
              "      <td>-118.2105</td>\n",
              "      <td>149</td>\n",
              "      <td>Special educational needs teacher</td>\n",
              "      <td>1978-06-21</td>\n",
              "      <td>1f76529f8574734946361c461b024d99</td>\n",
              "      <td>1325376044</td>\n",
              "      <td>49.159047</td>\n",
              "      <td>-118.186462</td>\n",
              "      <td>0</td>\n",
              "    </tr>\n",
              "    <tr>\n",
              "      <th>2</th>\n",
              "      <td>2019-01-01 00:00:51</td>\n",
              "      <td>38859492057661</td>\n",
              "      <td>fraud_Lind-Buckridge</td>\n",
              "      <td>entertainment</td>\n",
              "      <td>220.11</td>\n",
              "      <td>Edward</td>\n",
              "      <td>Sanchez</td>\n",
              "      <td>M</td>\n",
              "      <td>594 White Dale Suite 530</td>\n",
              "      <td>Malad City</td>\n",
              "      <td>...</td>\n",
              "      <td>42.1808</td>\n",
              "      <td>-112.2620</td>\n",
              "      <td>4154</td>\n",
              "      <td>Nature conservation officer</td>\n",
              "      <td>1962-01-19</td>\n",
              "      <td>a1a22d70485983eac12b5b88dad1cf95</td>\n",
              "      <td>1325376051</td>\n",
              "      <td>43.150704</td>\n",
              "      <td>-112.154481</td>\n",
              "      <td>0</td>\n",
              "    </tr>\n",
              "    <tr>\n",
              "      <th>3</th>\n",
              "      <td>2019-01-01 00:01:16</td>\n",
              "      <td>3534093764340240</td>\n",
              "      <td>fraud_Kutch, Hermiston and Farrell</td>\n",
              "      <td>gas_transport</td>\n",
              "      <td>45.00</td>\n",
              "      <td>Jeremy</td>\n",
              "      <td>White</td>\n",
              "      <td>M</td>\n",
              "      <td>9443 Cynthia Court Apt. 038</td>\n",
              "      <td>Boulder</td>\n",
              "      <td>...</td>\n",
              "      <td>46.2306</td>\n",
              "      <td>-112.1138</td>\n",
              "      <td>1939</td>\n",
              "      <td>Patent attorney</td>\n",
              "      <td>1967-01-12</td>\n",
              "      <td>6b849c168bdad6f867558c3793159a81</td>\n",
              "      <td>1325376076</td>\n",
              "      <td>47.034331</td>\n",
              "      <td>-112.561071</td>\n",
              "      <td>0</td>\n",
              "    </tr>\n",
              "    <tr>\n",
              "      <th>4</th>\n",
              "      <td>2019-01-01 00:03:06</td>\n",
              "      <td>375534208663984</td>\n",
              "      <td>fraud_Keeling-Crist</td>\n",
              "      <td>misc_pos</td>\n",
              "      <td>41.96</td>\n",
              "      <td>Tyler</td>\n",
              "      <td>Garcia</td>\n",
              "      <td>M</td>\n",
              "      <td>408 Bradley Rest</td>\n",
              "      <td>Doe Hill</td>\n",
              "      <td>...</td>\n",
              "      <td>38.4207</td>\n",
              "      <td>-79.4629</td>\n",
              "      <td>99</td>\n",
              "      <td>Dance movement psychotherapist</td>\n",
              "      <td>1986-03-28</td>\n",
              "      <td>a41d7549acf90789359a9aa5346dcb46</td>\n",
              "      <td>1325376186</td>\n",
              "      <td>38.674999</td>\n",
              "      <td>-78.632459</td>\n",
              "      <td>0</td>\n",
              "    </tr>\n",
              "  </tbody>\n",
              "</table>\n",
              "<p>5 rows × 22 columns</p>\n",
              "</div>\n",
              "      <button class=\"colab-df-convert\" onclick=\"convertToInteractive('df-4b7fe7bb-ab51-4f43-b708-b0dcde21bfc5')\"\n",
              "              title=\"Convert this dataframe to an interactive table.\"\n",
              "              style=\"display:none;\">\n",
              "        \n",
              "  <svg xmlns=\"http://www.w3.org/2000/svg\" height=\"24px\"viewBox=\"0 0 24 24\"\n",
              "       width=\"24px\">\n",
              "    <path d=\"M0 0h24v24H0V0z\" fill=\"none\"/>\n",
              "    <path d=\"M18.56 5.44l.94 2.06.94-2.06 2.06-.94-2.06-.94-.94-2.06-.94 2.06-2.06.94zm-11 1L8.5 8.5l.94-2.06 2.06-.94-2.06-.94L8.5 2.5l-.94 2.06-2.06.94zm10 10l.94 2.06.94-2.06 2.06-.94-2.06-.94-.94-2.06-.94 2.06-2.06.94z\"/><path d=\"M17.41 7.96l-1.37-1.37c-.4-.4-.92-.59-1.43-.59-.52 0-1.04.2-1.43.59L10.3 9.45l-7.72 7.72c-.78.78-.78 2.05 0 2.83L4 21.41c.39.39.9.59 1.41.59.51 0 1.02-.2 1.41-.59l7.78-7.78 2.81-2.81c.8-.78.8-2.07 0-2.86zM5.41 20L4 18.59l7.72-7.72 1.47 1.35L5.41 20z\"/>\n",
              "  </svg>\n",
              "      </button>\n",
              "      \n",
              "  <style>\n",
              "    .colab-df-container {\n",
              "      display:flex;\n",
              "      flex-wrap:wrap;\n",
              "      gap: 12px;\n",
              "    }\n",
              "\n",
              "    .colab-df-convert {\n",
              "      background-color: #E8F0FE;\n",
              "      border: none;\n",
              "      border-radius: 50%;\n",
              "      cursor: pointer;\n",
              "      display: none;\n",
              "      fill: #1967D2;\n",
              "      height: 32px;\n",
              "      padding: 0 0 0 0;\n",
              "      width: 32px;\n",
              "    }\n",
              "\n",
              "    .colab-df-convert:hover {\n",
              "      background-color: #E2EBFA;\n",
              "      box-shadow: 0px 1px 2px rgba(60, 64, 67, 0.3), 0px 1px 3px 1px rgba(60, 64, 67, 0.15);\n",
              "      fill: #174EA6;\n",
              "    }\n",
              "\n",
              "    [theme=dark] .colab-df-convert {\n",
              "      background-color: #3B4455;\n",
              "      fill: #D2E3FC;\n",
              "    }\n",
              "\n",
              "    [theme=dark] .colab-df-convert:hover {\n",
              "      background-color: #434B5C;\n",
              "      box-shadow: 0px 1px 3px 1px rgba(0, 0, 0, 0.15);\n",
              "      filter: drop-shadow(0px 1px 2px rgba(0, 0, 0, 0.3));\n",
              "      fill: #FFFFFF;\n",
              "    }\n",
              "  </style>\n",
              "\n",
              "      <script>\n",
              "        const buttonEl =\n",
              "          document.querySelector('#df-4b7fe7bb-ab51-4f43-b708-b0dcde21bfc5 button.colab-df-convert');\n",
              "        buttonEl.style.display =\n",
              "          google.colab.kernel.accessAllowed ? 'block' : 'none';\n",
              "\n",
              "        async function convertToInteractive(key) {\n",
              "          const element = document.querySelector('#df-4b7fe7bb-ab51-4f43-b708-b0dcde21bfc5');\n",
              "          const dataTable =\n",
              "            await google.colab.kernel.invokeFunction('convertToInteractive',\n",
              "                                                     [key], {});\n",
              "          if (!dataTable) return;\n",
              "\n",
              "          const docLinkHtml = 'Like what you see? Visit the ' +\n",
              "            '<a target=\"_blank\" href=https://colab.research.google.com/notebooks/data_table.ipynb>data table notebook</a>'\n",
              "            + ' to learn more about interactive tables.';\n",
              "          element.innerHTML = '';\n",
              "          dataTable['output_type'] = 'display_data';\n",
              "          await google.colab.output.renderOutput(dataTable, element);\n",
              "          const docLink = document.createElement('div');\n",
              "          docLink.innerHTML = docLinkHtml;\n",
              "          element.appendChild(docLink);\n",
              "        }\n",
              "      </script>\n",
              "    </div>\n",
              "  </div>\n",
              "  "
            ]
          },
          "metadata": {},
          "execution_count": 2
        }
      ]
    },
    {
      "cell_type": "code",
      "source": [
        "data.info()"
      ],
      "metadata": {
        "colab": {
          "base_uri": "https://localhost:8080/"
        },
        "id": "3LF0ciW2xW0_",
        "outputId": "d5a79d73-a52b-4880-8935-e4acaa686d92"
      },
      "execution_count": 3,
      "outputs": [
        {
          "output_type": "stream",
          "name": "stdout",
          "text": [
            "<class 'pandas.core.frame.DataFrame'>\n",
            "RangeIndex: 1852394 entries, 0 to 1852393\n",
            "Data columns (total 22 columns):\n",
            " #   Column                 Dtype  \n",
            "---  ------                 -----  \n",
            " 0   trans_date_trans_time  object \n",
            " 1   cc_num                 int64  \n",
            " 2   merchant               object \n",
            " 3   category               object \n",
            " 4   amt                    float64\n",
            " 5   first                  object \n",
            " 6   last                   object \n",
            " 7   gender                 object \n",
            " 8   street                 object \n",
            " 9   city                   object \n",
            " 10  state                  object \n",
            " 11  zip                    int64  \n",
            " 12  lat                    float64\n",
            " 13  long                   float64\n",
            " 14  city_pop               int64  \n",
            " 15  job                    object \n",
            " 16  dob                    object \n",
            " 17  trans_num              object \n",
            " 18  unix_time              int64  \n",
            " 19  merch_lat              float64\n",
            " 20  merch_long             float64\n",
            " 21  is_fraud               int64  \n",
            "dtypes: float64(5), int64(5), object(12)\n",
            "memory usage: 310.9+ MB\n"
          ]
        }
      ]
    },
    {
      "cell_type": "markdown",
      "source": [
        "- trans_data_trans_time: 거래 시간\n",
        "- cc_num: 카드 번호(고유값)\n",
        "- merchant: 거래 상점\n",
        "- category: 거래 상점의 범주(애완용품, 여행, 엔터테인먼트 등)\n",
        "- amt: 거래 금액\n",
        "- first/last: 이름\n",
        "- gender: 성별\n",
        "- street/city/state/zip: 고객 거주지 정보\n",
        "- lat/long: 고객 주소에 대한 위도 및 경도\n",
        "- city_pop: 고객의 zipcode에 속하는 인구 수\n",
        "- job: 직업\n",
        "- dob: 생년월일\n",
        "- trans_num: 거래 번호\n",
        "- unix_time: 거래 시간(유닉스 타임스탬프 형식)\n",
        "- merch_lat/merch_long: 상점 위치에 대한 위도 및 경도\n",
        "- is_fraud: 사기거래 여부"
      ],
      "metadata": {
        "id": "Ay50sSyOxYyF"
      }
    },
    {
      "cell_type": "code",
      "source": [
        "data.info(show_counts=True) # Non-Null Count 보이도록 출력"
      ],
      "metadata": {
        "colab": {
          "base_uri": "https://localhost:8080/"
        },
        "id": "2S6igKq7x_24",
        "outputId": "6651e194-3fa8-4ecc-f993-7e5736bc36ca"
      },
      "execution_count": 4,
      "outputs": [
        {
          "output_type": "stream",
          "name": "stdout",
          "text": [
            "<class 'pandas.core.frame.DataFrame'>\n",
            "RangeIndex: 1852394 entries, 0 to 1852393\n",
            "Data columns (total 22 columns):\n",
            " #   Column                 Non-Null Count    Dtype  \n",
            "---  ------                 --------------    -----  \n",
            " 0   trans_date_trans_time  1852394 non-null  object \n",
            " 1   cc_num                 1852394 non-null  int64  \n",
            " 2   merchant               1852394 non-null  object \n",
            " 3   category               1852394 non-null  object \n",
            " 4   amt                    1852394 non-null  float64\n",
            " 5   first                  1852394 non-null  object \n",
            " 6   last                   1852394 non-null  object \n",
            " 7   gender                 1852394 non-null  object \n",
            " 8   street                 1852394 non-null  object \n",
            " 9   city                   1852394 non-null  object \n",
            " 10  state                  1852394 non-null  object \n",
            " 11  zip                    1852394 non-null  int64  \n",
            " 12  lat                    1852394 non-null  float64\n",
            " 13  long                   1852394 non-null  float64\n",
            " 14  city_pop               1852394 non-null  int64  \n",
            " 15  job                    1852394 non-null  object \n",
            " 16  dob                    1852394 non-null  object \n",
            " 17  trans_num              1852394 non-null  object \n",
            " 18  unix_time              1852394 non-null  int64  \n",
            " 19  merch_lat              1852394 non-null  float64\n",
            " 20  merch_long             1852394 non-null  float64\n",
            " 21  is_fraud               1852394 non-null  int64  \n",
            "dtypes: float64(5), int64(5), object(12)\n",
            "memory usage: 310.9+ MB\n"
          ]
        }
      ]
    },
    {
      "cell_type": "markdown",
      "source": [
        "판다스에서는 데이터가 너무 클 때면 Non-null count를 생략하고 보여줌\n",
        "- `show_counts`\n",
        "\n",
        "\n",
        "결측치는 존재하지 않으며, 자료형이 맞지 않는 데이터가 있음\n",
        "- trans_date_trans_time은 날짜/시간 형태이므로 datetime으로 바꿔주어야 함"
      ],
      "metadata": {
        "id": "7nn7sY2tyXE6"
      }
    },
    {
      "cell_type": "code",
      "source": [
        "round(data.describe(), 2)"
      ],
      "metadata": {
        "colab": {
          "base_uri": "https://localhost:8080/",
          "height": 300
        },
        "id": "OBGq8ImgyMQw",
        "outputId": "6d58c719-f46e-42ab-f0d7-e3461f7a3592"
      },
      "execution_count": 5,
      "outputs": [
        {
          "output_type": "execute_result",
          "data": {
            "text/plain": [
              "             cc_num         amt         zip         lat        long  \\\n",
              "count  1.852394e+06  1852394.00  1852394.00  1852394.00  1852394.00   \n",
              "mean   4.173860e+17       70.06    48813.26       38.54      -90.23   \n",
              "std    1.309115e+18      159.25    26881.85        5.07       13.75   \n",
              "min    6.041621e+10        1.00     1257.00       20.03     -165.67   \n",
              "25%    1.800429e+14        9.64    26237.00       34.67      -96.80   \n",
              "50%    3.521417e+15       47.45    48174.00       39.35      -87.48   \n",
              "75%    4.642255e+15       83.10    72042.00       41.94      -80.16   \n",
              "max    4.992346e+18    28948.90    99921.00       66.69      -67.95   \n",
              "\n",
              "         city_pop     unix_time   merch_lat  merch_long    is_fraud  \n",
              "count  1852394.00  1.852394e+06  1852394.00  1852394.00  1852394.00  \n",
              "mean     88643.67  1.358674e+09       38.54      -90.23        0.01  \n",
              "std     301487.62  1.819508e+07        5.11       13.76        0.07  \n",
              "min         23.00  1.325376e+09       19.03     -166.67        0.00  \n",
              "25%        741.00  1.343017e+09       34.74      -96.90        0.00  \n",
              "50%       2443.00  1.357089e+09       39.37      -87.44        0.00  \n",
              "75%      20328.00  1.374581e+09       41.96      -80.25        0.00  \n",
              "max    2906700.00  1.388534e+09       67.51      -66.95        1.00  "
            ],
            "text/html": [
              "\n",
              "  <div id=\"df-17391ecc-5ce6-4e02-9489-f2ff9a228f8c\">\n",
              "    <div class=\"colab-df-container\">\n",
              "      <div>\n",
              "<style scoped>\n",
              "    .dataframe tbody tr th:only-of-type {\n",
              "        vertical-align: middle;\n",
              "    }\n",
              "\n",
              "    .dataframe tbody tr th {\n",
              "        vertical-align: top;\n",
              "    }\n",
              "\n",
              "    .dataframe thead th {\n",
              "        text-align: right;\n",
              "    }\n",
              "</style>\n",
              "<table border=\"1\" class=\"dataframe\">\n",
              "  <thead>\n",
              "    <tr style=\"text-align: right;\">\n",
              "      <th></th>\n",
              "      <th>cc_num</th>\n",
              "      <th>amt</th>\n",
              "      <th>zip</th>\n",
              "      <th>lat</th>\n",
              "      <th>long</th>\n",
              "      <th>city_pop</th>\n",
              "      <th>unix_time</th>\n",
              "      <th>merch_lat</th>\n",
              "      <th>merch_long</th>\n",
              "      <th>is_fraud</th>\n",
              "    </tr>\n",
              "  </thead>\n",
              "  <tbody>\n",
              "    <tr>\n",
              "      <th>count</th>\n",
              "      <td>1.852394e+06</td>\n",
              "      <td>1852394.00</td>\n",
              "      <td>1852394.00</td>\n",
              "      <td>1852394.00</td>\n",
              "      <td>1852394.00</td>\n",
              "      <td>1852394.00</td>\n",
              "      <td>1.852394e+06</td>\n",
              "      <td>1852394.00</td>\n",
              "      <td>1852394.00</td>\n",
              "      <td>1852394.00</td>\n",
              "    </tr>\n",
              "    <tr>\n",
              "      <th>mean</th>\n",
              "      <td>4.173860e+17</td>\n",
              "      <td>70.06</td>\n",
              "      <td>48813.26</td>\n",
              "      <td>38.54</td>\n",
              "      <td>-90.23</td>\n",
              "      <td>88643.67</td>\n",
              "      <td>1.358674e+09</td>\n",
              "      <td>38.54</td>\n",
              "      <td>-90.23</td>\n",
              "      <td>0.01</td>\n",
              "    </tr>\n",
              "    <tr>\n",
              "      <th>std</th>\n",
              "      <td>1.309115e+18</td>\n",
              "      <td>159.25</td>\n",
              "      <td>26881.85</td>\n",
              "      <td>5.07</td>\n",
              "      <td>13.75</td>\n",
              "      <td>301487.62</td>\n",
              "      <td>1.819508e+07</td>\n",
              "      <td>5.11</td>\n",
              "      <td>13.76</td>\n",
              "      <td>0.07</td>\n",
              "    </tr>\n",
              "    <tr>\n",
              "      <th>min</th>\n",
              "      <td>6.041621e+10</td>\n",
              "      <td>1.00</td>\n",
              "      <td>1257.00</td>\n",
              "      <td>20.03</td>\n",
              "      <td>-165.67</td>\n",
              "      <td>23.00</td>\n",
              "      <td>1.325376e+09</td>\n",
              "      <td>19.03</td>\n",
              "      <td>-166.67</td>\n",
              "      <td>0.00</td>\n",
              "    </tr>\n",
              "    <tr>\n",
              "      <th>25%</th>\n",
              "      <td>1.800429e+14</td>\n",
              "      <td>9.64</td>\n",
              "      <td>26237.00</td>\n",
              "      <td>34.67</td>\n",
              "      <td>-96.80</td>\n",
              "      <td>741.00</td>\n",
              "      <td>1.343017e+09</td>\n",
              "      <td>34.74</td>\n",
              "      <td>-96.90</td>\n",
              "      <td>0.00</td>\n",
              "    </tr>\n",
              "    <tr>\n",
              "      <th>50%</th>\n",
              "      <td>3.521417e+15</td>\n",
              "      <td>47.45</td>\n",
              "      <td>48174.00</td>\n",
              "      <td>39.35</td>\n",
              "      <td>-87.48</td>\n",
              "      <td>2443.00</td>\n",
              "      <td>1.357089e+09</td>\n",
              "      <td>39.37</td>\n",
              "      <td>-87.44</td>\n",
              "      <td>0.00</td>\n",
              "    </tr>\n",
              "    <tr>\n",
              "      <th>75%</th>\n",
              "      <td>4.642255e+15</td>\n",
              "      <td>83.10</td>\n",
              "      <td>72042.00</td>\n",
              "      <td>41.94</td>\n",
              "      <td>-80.16</td>\n",
              "      <td>20328.00</td>\n",
              "      <td>1.374581e+09</td>\n",
              "      <td>41.96</td>\n",
              "      <td>-80.25</td>\n",
              "      <td>0.00</td>\n",
              "    </tr>\n",
              "    <tr>\n",
              "      <th>max</th>\n",
              "      <td>4.992346e+18</td>\n",
              "      <td>28948.90</td>\n",
              "      <td>99921.00</td>\n",
              "      <td>66.69</td>\n",
              "      <td>-67.95</td>\n",
              "      <td>2906700.00</td>\n",
              "      <td>1.388534e+09</td>\n",
              "      <td>67.51</td>\n",
              "      <td>-66.95</td>\n",
              "      <td>1.00</td>\n",
              "    </tr>\n",
              "  </tbody>\n",
              "</table>\n",
              "</div>\n",
              "      <button class=\"colab-df-convert\" onclick=\"convertToInteractive('df-17391ecc-5ce6-4e02-9489-f2ff9a228f8c')\"\n",
              "              title=\"Convert this dataframe to an interactive table.\"\n",
              "              style=\"display:none;\">\n",
              "        \n",
              "  <svg xmlns=\"http://www.w3.org/2000/svg\" height=\"24px\"viewBox=\"0 0 24 24\"\n",
              "       width=\"24px\">\n",
              "    <path d=\"M0 0h24v24H0V0z\" fill=\"none\"/>\n",
              "    <path d=\"M18.56 5.44l.94 2.06.94-2.06 2.06-.94-2.06-.94-.94-2.06-.94 2.06-2.06.94zm-11 1L8.5 8.5l.94-2.06 2.06-.94-2.06-.94L8.5 2.5l-.94 2.06-2.06.94zm10 10l.94 2.06.94-2.06 2.06-.94-2.06-.94-.94-2.06-.94 2.06-2.06.94z\"/><path d=\"M17.41 7.96l-1.37-1.37c-.4-.4-.92-.59-1.43-.59-.52 0-1.04.2-1.43.59L10.3 9.45l-7.72 7.72c-.78.78-.78 2.05 0 2.83L4 21.41c.39.39.9.59 1.41.59.51 0 1.02-.2 1.41-.59l7.78-7.78 2.81-2.81c.8-.78.8-2.07 0-2.86zM5.41 20L4 18.59l7.72-7.72 1.47 1.35L5.41 20z\"/>\n",
              "  </svg>\n",
              "      </button>\n",
              "      \n",
              "  <style>\n",
              "    .colab-df-container {\n",
              "      display:flex;\n",
              "      flex-wrap:wrap;\n",
              "      gap: 12px;\n",
              "    }\n",
              "\n",
              "    .colab-df-convert {\n",
              "      background-color: #E8F0FE;\n",
              "      border: none;\n",
              "      border-radius: 50%;\n",
              "      cursor: pointer;\n",
              "      display: none;\n",
              "      fill: #1967D2;\n",
              "      height: 32px;\n",
              "      padding: 0 0 0 0;\n",
              "      width: 32px;\n",
              "    }\n",
              "\n",
              "    .colab-df-convert:hover {\n",
              "      background-color: #E2EBFA;\n",
              "      box-shadow: 0px 1px 2px rgba(60, 64, 67, 0.3), 0px 1px 3px 1px rgba(60, 64, 67, 0.15);\n",
              "      fill: #174EA6;\n",
              "    }\n",
              "\n",
              "    [theme=dark] .colab-df-convert {\n",
              "      background-color: #3B4455;\n",
              "      fill: #D2E3FC;\n",
              "    }\n",
              "\n",
              "    [theme=dark] .colab-df-convert:hover {\n",
              "      background-color: #434B5C;\n",
              "      box-shadow: 0px 1px 3px 1px rgba(0, 0, 0, 0.15);\n",
              "      filter: drop-shadow(0px 1px 2px rgba(0, 0, 0, 0.3));\n",
              "      fill: #FFFFFF;\n",
              "    }\n",
              "  </style>\n",
              "\n",
              "      <script>\n",
              "        const buttonEl =\n",
              "          document.querySelector('#df-17391ecc-5ce6-4e02-9489-f2ff9a228f8c button.colab-df-convert');\n",
              "        buttonEl.style.display =\n",
              "          google.colab.kernel.accessAllowed ? 'block' : 'none';\n",
              "\n",
              "        async function convertToInteractive(key) {\n",
              "          const element = document.querySelector('#df-17391ecc-5ce6-4e02-9489-f2ff9a228f8c');\n",
              "          const dataTable =\n",
              "            await google.colab.kernel.invokeFunction('convertToInteractive',\n",
              "                                                     [key], {});\n",
              "          if (!dataTable) return;\n",
              "\n",
              "          const docLinkHtml = 'Like what you see? Visit the ' +\n",
              "            '<a target=\"_blank\" href=https://colab.research.google.com/notebooks/data_table.ipynb>data table notebook</a>'\n",
              "            + ' to learn more about interactive tables.';\n",
              "          element.innerHTML = '';\n",
              "          dataTable['output_type'] = 'display_data';\n",
              "          await google.colab.output.renderOutput(dataTable, element);\n",
              "          const docLink = document.createElement('div');\n",
              "          docLink.innerHTML = docLinkHtml;\n",
              "          element.appendChild(docLink);\n",
              "        }\n",
              "      </script>\n",
              "    </div>\n",
              "  </div>\n",
              "  "
            ]
          },
          "metadata": {},
          "execution_count": 5
        }
      ]
    },
    {
      "cell_type": "markdown",
      "source": [
        "- amt와 city_pop에서 max값이 급격하게 높아진 것을 통해 아웃라이어를 의심해볼 수 있으나, 변수 특성상 충분히 일어날 수 있어 별도 처리는 하지 않음\n",
        "- is_fraud의 mean 값이 0.01로 매우 낮음 = fraud인 경우가 1%로 매우 낮아 비대칭 데이터임"
      ],
      "metadata": {
        "id": "VBl2Zq23yrUj"
      }
    },
    {
      "cell_type": "markdown",
      "source": [
        "## 전처리: 데이터 클리닝\n",
        "불필요한 변수들을 제외시킴\n",
        "- 이름을 통해 이상거래를 예측하는 것은 합리적이지 않으므로 이름 관련 변수 제거\n",
        "- street, city, state, zip에는 위도와 경도 정보가 있어 사용하지 않음\n",
        "- trans_num은 중복되는 값이 없는 거래에 대한 id이기 때문에 제외\n",
        "- unix_time은 거래 시간에 대한 정보로 trans_date_trans_time을 쓰면 되므로 제외\n",
        "- job은 종류가 많지 않으면 사용하겠으나, 종류가 많은 관계로 제외\n",
        "- 거래 상점 이름 merchant 제외"
      ],
      "metadata": {
        "id": "BrL4ymAdzFAl"
      }
    },
    {
      "cell_type": "code",
      "source": [
        "data.drop(['first', 'last', 'street', 'city', 'state', 'zip', 'trans_num', 'unix_time', 'job', 'merchant'], axis=1, inplace=True)  # 변수 제거"
      ],
      "metadata": {
        "id": "XNYZB6sByoEF"
      },
      "execution_count": 6,
      "outputs": []
    },
    {
      "cell_type": "code",
      "source": [
        "data['trans_date_trans_time'] = pd.to_datetime(data['trans_date_trans_time'])  # datetime 형식으로 변환"
      ],
      "metadata": {
        "id": "_H6BJ39Nz2v2"
      },
      "execution_count": 7,
      "outputs": []
    },
    {
      "cell_type": "code",
      "source": [
        "data.info()"
      ],
      "metadata": {
        "colab": {
          "base_uri": "https://localhost:8080/"
        },
        "id": "2_v7L71Ez_0c",
        "outputId": "0e0f7c83-47fa-4a38-e652-10e50420289e"
      },
      "execution_count": 8,
      "outputs": [
        {
          "output_type": "stream",
          "name": "stdout",
          "text": [
            "<class 'pandas.core.frame.DataFrame'>\n",
            "RangeIndex: 1852394 entries, 0 to 1852393\n",
            "Data columns (total 12 columns):\n",
            " #   Column                 Dtype         \n",
            "---  ------                 -----         \n",
            " 0   trans_date_trans_time  datetime64[ns]\n",
            " 1   cc_num                 int64         \n",
            " 2   category               object        \n",
            " 3   amt                    float64       \n",
            " 4   gender                 object        \n",
            " 5   lat                    float64       \n",
            " 6   long                   float64       \n",
            " 7   city_pop               int64         \n",
            " 8   dob                    object        \n",
            " 9   merch_lat              float64       \n",
            " 10  merch_long             float64       \n",
            " 11  is_fraud               int64         \n",
            "dtypes: datetime64[ns](1), float64(5), int64(3), object(3)\n",
            "memory usage: 169.6+ MB\n"
          ]
        }
      ]
    },
    {
      "cell_type": "markdown",
      "source": [
        "## 전처리: 피처 엔지니어링\n",
        "이상거래 감지는 해당 고객의 기존 거래 패턴에서 벗어나는 경우를 감지"
      ],
      "metadata": {
        "id": "YlW62Aoy0HC7"
      }
    },
    {
      "cell_type": "markdown",
      "source": [
        "### 1. 결제 금액\n",
        "- A라는 고객이 평소에 \\$100, \\$120, \\$80, \\$30 정도의 금액을 사용하다가 갑자기 \\$2000의 금액을 사용하면 평소와 다르다고 볼 수 있음\n",
        "- B라는 고객의 평소 소비패턴이 \\$10, \\$3000, \\$300, \\$1300과 같은 식으로 들쭉날쭉하다보면 어느날 \\$5000의 거래가 발생하도 크게 이상해보이지 않음\n",
        "- 이러한 패턴을 파악하기 위해 Z 점수(Z-score)를 사용\n",
        "$$Z 점수 = \\frac{x(특정 값) - \\mu(평균)}{\\theta(표준편차)}$$"
      ],
      "metadata": {
        "id": "RhjRSU4r0kvJ"
      }
    },
    {
      "cell_type": "code",
      "source": [
        "# 각 개인의 거래 내역을 기준으로 평균과 표준편차 계산\n",
        "amt_info = data.groupby('cc_num').agg(['mean', 'std'])['amt'].reset_index()\n",
        "amt_info.head()"
      ],
      "metadata": {
        "colab": {
          "base_uri": "https://localhost:8080/",
          "height": 263
        },
        "id": "x79FAOBb0FGx",
        "outputId": "0d2f977c-45e1-46fd-ebb5-ff8f717dfec7"
      },
      "execution_count": 9,
      "outputs": [
        {
          "output_type": "stream",
          "name": "stderr",
          "text": [
            "<ipython-input-9-117c942f29a0>:2: FutureWarning: ['trans_date_trans_time', 'category', 'gender', 'dob'] did not aggregate successfully. If any error is raised this will raise in a future version of pandas. Drop these columns/ops to avoid this warning.\n",
            "  amt_info = data.groupby('cc_num').agg(['mean', 'std'])['amt'].reset_index()\n"
          ]
        },
        {
          "output_type": "execute_result",
          "data": {
            "text/plain": [
              "        cc_num        mean          std\n",
              "0  60416207185   59.257796   142.869746\n",
              "1  60422928733   65.483159    92.042844\n",
              "2  60423098130   96.376084  1000.693872\n",
              "3  60427851591  107.487550   131.014534\n",
              "4  60487002085   64.096925   153.207660"
            ],
            "text/html": [
              "\n",
              "  <div id=\"df-6f2b41b8-1394-4fbb-9780-57e9a88b74f2\">\n",
              "    <div class=\"colab-df-container\">\n",
              "      <div>\n",
              "<style scoped>\n",
              "    .dataframe tbody tr th:only-of-type {\n",
              "        vertical-align: middle;\n",
              "    }\n",
              "\n",
              "    .dataframe tbody tr th {\n",
              "        vertical-align: top;\n",
              "    }\n",
              "\n",
              "    .dataframe thead th {\n",
              "        text-align: right;\n",
              "    }\n",
              "</style>\n",
              "<table border=\"1\" class=\"dataframe\">\n",
              "  <thead>\n",
              "    <tr style=\"text-align: right;\">\n",
              "      <th></th>\n",
              "      <th>cc_num</th>\n",
              "      <th>mean</th>\n",
              "      <th>std</th>\n",
              "    </tr>\n",
              "  </thead>\n",
              "  <tbody>\n",
              "    <tr>\n",
              "      <th>0</th>\n",
              "      <td>60416207185</td>\n",
              "      <td>59.257796</td>\n",
              "      <td>142.869746</td>\n",
              "    </tr>\n",
              "    <tr>\n",
              "      <th>1</th>\n",
              "      <td>60422928733</td>\n",
              "      <td>65.483159</td>\n",
              "      <td>92.042844</td>\n",
              "    </tr>\n",
              "    <tr>\n",
              "      <th>2</th>\n",
              "      <td>60423098130</td>\n",
              "      <td>96.376084</td>\n",
              "      <td>1000.693872</td>\n",
              "    </tr>\n",
              "    <tr>\n",
              "      <th>3</th>\n",
              "      <td>60427851591</td>\n",
              "      <td>107.487550</td>\n",
              "      <td>131.014534</td>\n",
              "    </tr>\n",
              "    <tr>\n",
              "      <th>4</th>\n",
              "      <td>60487002085</td>\n",
              "      <td>64.096925</td>\n",
              "      <td>153.207660</td>\n",
              "    </tr>\n",
              "  </tbody>\n",
              "</table>\n",
              "</div>\n",
              "      <button class=\"colab-df-convert\" onclick=\"convertToInteractive('df-6f2b41b8-1394-4fbb-9780-57e9a88b74f2')\"\n",
              "              title=\"Convert this dataframe to an interactive table.\"\n",
              "              style=\"display:none;\">\n",
              "        \n",
              "  <svg xmlns=\"http://www.w3.org/2000/svg\" height=\"24px\"viewBox=\"0 0 24 24\"\n",
              "       width=\"24px\">\n",
              "    <path d=\"M0 0h24v24H0V0z\" fill=\"none\"/>\n",
              "    <path d=\"M18.56 5.44l.94 2.06.94-2.06 2.06-.94-2.06-.94-.94-2.06-.94 2.06-2.06.94zm-11 1L8.5 8.5l.94-2.06 2.06-.94-2.06-.94L8.5 2.5l-.94 2.06-2.06.94zm10 10l.94 2.06.94-2.06 2.06-.94-2.06-.94-.94-2.06-.94 2.06-2.06.94z\"/><path d=\"M17.41 7.96l-1.37-1.37c-.4-.4-.92-.59-1.43-.59-.52 0-1.04.2-1.43.59L10.3 9.45l-7.72 7.72c-.78.78-.78 2.05 0 2.83L4 21.41c.39.39.9.59 1.41.59.51 0 1.02-.2 1.41-.59l7.78-7.78 2.81-2.81c.8-.78.8-2.07 0-2.86zM5.41 20L4 18.59l7.72-7.72 1.47 1.35L5.41 20z\"/>\n",
              "  </svg>\n",
              "      </button>\n",
              "      \n",
              "  <style>\n",
              "    .colab-df-container {\n",
              "      display:flex;\n",
              "      flex-wrap:wrap;\n",
              "      gap: 12px;\n",
              "    }\n",
              "\n",
              "    .colab-df-convert {\n",
              "      background-color: #E8F0FE;\n",
              "      border: none;\n",
              "      border-radius: 50%;\n",
              "      cursor: pointer;\n",
              "      display: none;\n",
              "      fill: #1967D2;\n",
              "      height: 32px;\n",
              "      padding: 0 0 0 0;\n",
              "      width: 32px;\n",
              "    }\n",
              "\n",
              "    .colab-df-convert:hover {\n",
              "      background-color: #E2EBFA;\n",
              "      box-shadow: 0px 1px 2px rgba(60, 64, 67, 0.3), 0px 1px 3px 1px rgba(60, 64, 67, 0.15);\n",
              "      fill: #174EA6;\n",
              "    }\n",
              "\n",
              "    [theme=dark] .colab-df-convert {\n",
              "      background-color: #3B4455;\n",
              "      fill: #D2E3FC;\n",
              "    }\n",
              "\n",
              "    [theme=dark] .colab-df-convert:hover {\n",
              "      background-color: #434B5C;\n",
              "      box-shadow: 0px 1px 3px 1px rgba(0, 0, 0, 0.15);\n",
              "      filter: drop-shadow(0px 1px 2px rgba(0, 0, 0, 0.3));\n",
              "      fill: #FFFFFF;\n",
              "    }\n",
              "  </style>\n",
              "\n",
              "      <script>\n",
              "        const buttonEl =\n",
              "          document.querySelector('#df-6f2b41b8-1394-4fbb-9780-57e9a88b74f2 button.colab-df-convert');\n",
              "        buttonEl.style.display =\n",
              "          google.colab.kernel.accessAllowed ? 'block' : 'none';\n",
              "\n",
              "        async function convertToInteractive(key) {\n",
              "          const element = document.querySelector('#df-6f2b41b8-1394-4fbb-9780-57e9a88b74f2');\n",
              "          const dataTable =\n",
              "            await google.colab.kernel.invokeFunction('convertToInteractive',\n",
              "                                                     [key], {});\n",
              "          if (!dataTable) return;\n",
              "\n",
              "          const docLinkHtml = 'Like what you see? Visit the ' +\n",
              "            '<a target=\"_blank\" href=https://colab.research.google.com/notebooks/data_table.ipynb>data table notebook</a>'\n",
              "            + ' to learn more about interactive tables.';\n",
              "          element.innerHTML = '';\n",
              "          dataTable['output_type'] = 'display_data';\n",
              "          await google.colab.output.renderOutput(dataTable, element);\n",
              "          const docLink = document.createElement('div');\n",
              "          docLink.innerHTML = docLinkHtml;\n",
              "          element.appendChild(docLink);\n",
              "        }\n",
              "      </script>\n",
              "    </div>\n",
              "  </div>\n",
              "  "
            ]
          },
          "metadata": {},
          "execution_count": 9
        }
      ]
    },
    {
      "cell_type": "code",
      "source": [
        "# cc_num을 기준으로 기존 데이터와 left join으로 붙임\n",
        "data = data.merge(amt_info, on='cc_num', how='left')\n",
        "data.head()"
      ],
      "metadata": {
        "colab": {
          "base_uri": "https://localhost:8080/",
          "height": 206
        },
        "id": "9DwmGM9Q2eUy",
        "outputId": "ad503ab6-fc76-4958-f86f-df2d508e04df"
      },
      "execution_count": 10,
      "outputs": [
        {
          "output_type": "execute_result",
          "data": {
            "text/plain": [
              "  trans_date_trans_time            cc_num       category     amt gender  \\\n",
              "0   2019-01-01 00:00:18  2703186189652095       misc_net    4.97      F   \n",
              "1   2019-01-01 00:00:44      630423337322    grocery_pos  107.23      F   \n",
              "2   2019-01-01 00:00:51    38859492057661  entertainment  220.11      M   \n",
              "3   2019-01-01 00:01:16  3534093764340240  gas_transport   45.00      M   \n",
              "4   2019-01-01 00:03:06   375534208663984       misc_pos   41.96      M   \n",
              "\n",
              "       lat      long  city_pop         dob  merch_lat  merch_long  is_fraud  \\\n",
              "0  36.0788  -81.1781      3495  1988-03-09  36.011293  -82.048315         0   \n",
              "1  48.8878 -118.2105       149  1978-06-21  49.159047 -118.186462         0   \n",
              "2  42.1808 -112.2620      4154  1962-01-19  43.150704 -112.154481         0   \n",
              "3  46.2306 -112.1138      1939  1967-01-12  47.034331 -112.561071         0   \n",
              "4  38.4207  -79.4629        99  1986-03-28  38.674999  -78.632459         0   \n",
              "\n",
              "        mean         std  \n",
              "0  89.408743  127.530101  \n",
              "1  56.078113  159.201852  \n",
              "2  69.924272  116.688602  \n",
              "3  80.090040  280.077880  \n",
              "4  95.341146   94.322842  "
            ],
            "text/html": [
              "\n",
              "  <div id=\"df-473e72cf-93a0-4a2f-bf89-c1bf2bffa07b\">\n",
              "    <div class=\"colab-df-container\">\n",
              "      <div>\n",
              "<style scoped>\n",
              "    .dataframe tbody tr th:only-of-type {\n",
              "        vertical-align: middle;\n",
              "    }\n",
              "\n",
              "    .dataframe tbody tr th {\n",
              "        vertical-align: top;\n",
              "    }\n",
              "\n",
              "    .dataframe thead th {\n",
              "        text-align: right;\n",
              "    }\n",
              "</style>\n",
              "<table border=\"1\" class=\"dataframe\">\n",
              "  <thead>\n",
              "    <tr style=\"text-align: right;\">\n",
              "      <th></th>\n",
              "      <th>trans_date_trans_time</th>\n",
              "      <th>cc_num</th>\n",
              "      <th>category</th>\n",
              "      <th>amt</th>\n",
              "      <th>gender</th>\n",
              "      <th>lat</th>\n",
              "      <th>long</th>\n",
              "      <th>city_pop</th>\n",
              "      <th>dob</th>\n",
              "      <th>merch_lat</th>\n",
              "      <th>merch_long</th>\n",
              "      <th>is_fraud</th>\n",
              "      <th>mean</th>\n",
              "      <th>std</th>\n",
              "    </tr>\n",
              "  </thead>\n",
              "  <tbody>\n",
              "    <tr>\n",
              "      <th>0</th>\n",
              "      <td>2019-01-01 00:00:18</td>\n",
              "      <td>2703186189652095</td>\n",
              "      <td>misc_net</td>\n",
              "      <td>4.97</td>\n",
              "      <td>F</td>\n",
              "      <td>36.0788</td>\n",
              "      <td>-81.1781</td>\n",
              "      <td>3495</td>\n",
              "      <td>1988-03-09</td>\n",
              "      <td>36.011293</td>\n",
              "      <td>-82.048315</td>\n",
              "      <td>0</td>\n",
              "      <td>89.408743</td>\n",
              "      <td>127.530101</td>\n",
              "    </tr>\n",
              "    <tr>\n",
              "      <th>1</th>\n",
              "      <td>2019-01-01 00:00:44</td>\n",
              "      <td>630423337322</td>\n",
              "      <td>grocery_pos</td>\n",
              "      <td>107.23</td>\n",
              "      <td>F</td>\n",
              "      <td>48.8878</td>\n",
              "      <td>-118.2105</td>\n",
              "      <td>149</td>\n",
              "      <td>1978-06-21</td>\n",
              "      <td>49.159047</td>\n",
              "      <td>-118.186462</td>\n",
              "      <td>0</td>\n",
              "      <td>56.078113</td>\n",
              "      <td>159.201852</td>\n",
              "    </tr>\n",
              "    <tr>\n",
              "      <th>2</th>\n",
              "      <td>2019-01-01 00:00:51</td>\n",
              "      <td>38859492057661</td>\n",
              "      <td>entertainment</td>\n",
              "      <td>220.11</td>\n",
              "      <td>M</td>\n",
              "      <td>42.1808</td>\n",
              "      <td>-112.2620</td>\n",
              "      <td>4154</td>\n",
              "      <td>1962-01-19</td>\n",
              "      <td>43.150704</td>\n",
              "      <td>-112.154481</td>\n",
              "      <td>0</td>\n",
              "      <td>69.924272</td>\n",
              "      <td>116.688602</td>\n",
              "    </tr>\n",
              "    <tr>\n",
              "      <th>3</th>\n",
              "      <td>2019-01-01 00:01:16</td>\n",
              "      <td>3534093764340240</td>\n",
              "      <td>gas_transport</td>\n",
              "      <td>45.00</td>\n",
              "      <td>M</td>\n",
              "      <td>46.2306</td>\n",
              "      <td>-112.1138</td>\n",
              "      <td>1939</td>\n",
              "      <td>1967-01-12</td>\n",
              "      <td>47.034331</td>\n",
              "      <td>-112.561071</td>\n",
              "      <td>0</td>\n",
              "      <td>80.090040</td>\n",
              "      <td>280.077880</td>\n",
              "    </tr>\n",
              "    <tr>\n",
              "      <th>4</th>\n",
              "      <td>2019-01-01 00:03:06</td>\n",
              "      <td>375534208663984</td>\n",
              "      <td>misc_pos</td>\n",
              "      <td>41.96</td>\n",
              "      <td>M</td>\n",
              "      <td>38.4207</td>\n",
              "      <td>-79.4629</td>\n",
              "      <td>99</td>\n",
              "      <td>1986-03-28</td>\n",
              "      <td>38.674999</td>\n",
              "      <td>-78.632459</td>\n",
              "      <td>0</td>\n",
              "      <td>95.341146</td>\n",
              "      <td>94.322842</td>\n",
              "    </tr>\n",
              "  </tbody>\n",
              "</table>\n",
              "</div>\n",
              "      <button class=\"colab-df-convert\" onclick=\"convertToInteractive('df-473e72cf-93a0-4a2f-bf89-c1bf2bffa07b')\"\n",
              "              title=\"Convert this dataframe to an interactive table.\"\n",
              "              style=\"display:none;\">\n",
              "        \n",
              "  <svg xmlns=\"http://www.w3.org/2000/svg\" height=\"24px\"viewBox=\"0 0 24 24\"\n",
              "       width=\"24px\">\n",
              "    <path d=\"M0 0h24v24H0V0z\" fill=\"none\"/>\n",
              "    <path d=\"M18.56 5.44l.94 2.06.94-2.06 2.06-.94-2.06-.94-.94-2.06-.94 2.06-2.06.94zm-11 1L8.5 8.5l.94-2.06 2.06-.94-2.06-.94L8.5 2.5l-.94 2.06-2.06.94zm10 10l.94 2.06.94-2.06 2.06-.94-2.06-.94-.94-2.06-.94 2.06-2.06.94z\"/><path d=\"M17.41 7.96l-1.37-1.37c-.4-.4-.92-.59-1.43-.59-.52 0-1.04.2-1.43.59L10.3 9.45l-7.72 7.72c-.78.78-.78 2.05 0 2.83L4 21.41c.39.39.9.59 1.41.59.51 0 1.02-.2 1.41-.59l7.78-7.78 2.81-2.81c.8-.78.8-2.07 0-2.86zM5.41 20L4 18.59l7.72-7.72 1.47 1.35L5.41 20z\"/>\n",
              "  </svg>\n",
              "      </button>\n",
              "      \n",
              "  <style>\n",
              "    .colab-df-container {\n",
              "      display:flex;\n",
              "      flex-wrap:wrap;\n",
              "      gap: 12px;\n",
              "    }\n",
              "\n",
              "    .colab-df-convert {\n",
              "      background-color: #E8F0FE;\n",
              "      border: none;\n",
              "      border-radius: 50%;\n",
              "      cursor: pointer;\n",
              "      display: none;\n",
              "      fill: #1967D2;\n",
              "      height: 32px;\n",
              "      padding: 0 0 0 0;\n",
              "      width: 32px;\n",
              "    }\n",
              "\n",
              "    .colab-df-convert:hover {\n",
              "      background-color: #E2EBFA;\n",
              "      box-shadow: 0px 1px 2px rgba(60, 64, 67, 0.3), 0px 1px 3px 1px rgba(60, 64, 67, 0.15);\n",
              "      fill: #174EA6;\n",
              "    }\n",
              "\n",
              "    [theme=dark] .colab-df-convert {\n",
              "      background-color: #3B4455;\n",
              "      fill: #D2E3FC;\n",
              "    }\n",
              "\n",
              "    [theme=dark] .colab-df-convert:hover {\n",
              "      background-color: #434B5C;\n",
              "      box-shadow: 0px 1px 3px 1px rgba(0, 0, 0, 0.15);\n",
              "      filter: drop-shadow(0px 1px 2px rgba(0, 0, 0, 0.3));\n",
              "      fill: #FFFFFF;\n",
              "    }\n",
              "  </style>\n",
              "\n",
              "      <script>\n",
              "        const buttonEl =\n",
              "          document.querySelector('#df-473e72cf-93a0-4a2f-bf89-c1bf2bffa07b button.colab-df-convert');\n",
              "        buttonEl.style.display =\n",
              "          google.colab.kernel.accessAllowed ? 'block' : 'none';\n",
              "\n",
              "        async function convertToInteractive(key) {\n",
              "          const element = document.querySelector('#df-473e72cf-93a0-4a2f-bf89-c1bf2bffa07b');\n",
              "          const dataTable =\n",
              "            await google.colab.kernel.invokeFunction('convertToInteractive',\n",
              "                                                     [key], {});\n",
              "          if (!dataTable) return;\n",
              "\n",
              "          const docLinkHtml = 'Like what you see? Visit the ' +\n",
              "            '<a target=\"_blank\" href=https://colab.research.google.com/notebooks/data_table.ipynb>data table notebook</a>'\n",
              "            + ' to learn more about interactive tables.';\n",
              "          element.innerHTML = '';\n",
              "          dataTable['output_type'] = 'display_data';\n",
              "          await google.colab.output.renderOutput(dataTable, element);\n",
              "          const docLink = document.createElement('div');\n",
              "          docLink.innerHTML = docLinkHtml;\n",
              "          element.appendChild(docLink);\n",
              "        }\n",
              "      </script>\n",
              "    </div>\n",
              "  </div>\n",
              "  "
            ]
          },
          "metadata": {},
          "execution_count": 10
        }
      ]
    },
    {
      "cell_type": "code",
      "source": [
        "# z-score 계산\n",
        "data['amt_z_score'] = (data['amt'] - data['mean']) / data['std']"
      ],
      "metadata": {
        "id": "MprmwOcz2oXE"
      },
      "execution_count": 11,
      "outputs": []
    },
    {
      "cell_type": "code",
      "source": [
        "data[['amt', 'mean', 'std', 'amt_z_score']].head()"
      ],
      "metadata": {
        "colab": {
          "base_uri": "https://localhost:8080/",
          "height": 206
        },
        "id": "vw_-pSmh2xtE",
        "outputId": "a619adcf-dcfd-4f8a-92c9-63ed4b6eb001"
      },
      "execution_count": 12,
      "outputs": [
        {
          "output_type": "execute_result",
          "data": {
            "text/plain": [
              "      amt       mean         std  amt_z_score\n",
              "0    4.97  89.408743  127.530101    -0.662108\n",
              "1  107.23  56.078113  159.201852     0.321302\n",
              "2  220.11  69.924272  116.688602     1.287064\n",
              "3   45.00  80.090040  280.077880    -0.125287\n",
              "4   41.96  95.341146   94.322842    -0.565941"
            ],
            "text/html": [
              "\n",
              "  <div id=\"df-451f20d5-0cdc-4117-8de4-7c735db32d20\">\n",
              "    <div class=\"colab-df-container\">\n",
              "      <div>\n",
              "<style scoped>\n",
              "    .dataframe tbody tr th:only-of-type {\n",
              "        vertical-align: middle;\n",
              "    }\n",
              "\n",
              "    .dataframe tbody tr th {\n",
              "        vertical-align: top;\n",
              "    }\n",
              "\n",
              "    .dataframe thead th {\n",
              "        text-align: right;\n",
              "    }\n",
              "</style>\n",
              "<table border=\"1\" class=\"dataframe\">\n",
              "  <thead>\n",
              "    <tr style=\"text-align: right;\">\n",
              "      <th></th>\n",
              "      <th>amt</th>\n",
              "      <th>mean</th>\n",
              "      <th>std</th>\n",
              "      <th>amt_z_score</th>\n",
              "    </tr>\n",
              "  </thead>\n",
              "  <tbody>\n",
              "    <tr>\n",
              "      <th>0</th>\n",
              "      <td>4.97</td>\n",
              "      <td>89.408743</td>\n",
              "      <td>127.530101</td>\n",
              "      <td>-0.662108</td>\n",
              "    </tr>\n",
              "    <tr>\n",
              "      <th>1</th>\n",
              "      <td>107.23</td>\n",
              "      <td>56.078113</td>\n",
              "      <td>159.201852</td>\n",
              "      <td>0.321302</td>\n",
              "    </tr>\n",
              "    <tr>\n",
              "      <th>2</th>\n",
              "      <td>220.11</td>\n",
              "      <td>69.924272</td>\n",
              "      <td>116.688602</td>\n",
              "      <td>1.287064</td>\n",
              "    </tr>\n",
              "    <tr>\n",
              "      <th>3</th>\n",
              "      <td>45.00</td>\n",
              "      <td>80.090040</td>\n",
              "      <td>280.077880</td>\n",
              "      <td>-0.125287</td>\n",
              "    </tr>\n",
              "    <tr>\n",
              "      <th>4</th>\n",
              "      <td>41.96</td>\n",
              "      <td>95.341146</td>\n",
              "      <td>94.322842</td>\n",
              "      <td>-0.565941</td>\n",
              "    </tr>\n",
              "  </tbody>\n",
              "</table>\n",
              "</div>\n",
              "      <button class=\"colab-df-convert\" onclick=\"convertToInteractive('df-451f20d5-0cdc-4117-8de4-7c735db32d20')\"\n",
              "              title=\"Convert this dataframe to an interactive table.\"\n",
              "              style=\"display:none;\">\n",
              "        \n",
              "  <svg xmlns=\"http://www.w3.org/2000/svg\" height=\"24px\"viewBox=\"0 0 24 24\"\n",
              "       width=\"24px\">\n",
              "    <path d=\"M0 0h24v24H0V0z\" fill=\"none\"/>\n",
              "    <path d=\"M18.56 5.44l.94 2.06.94-2.06 2.06-.94-2.06-.94-.94-2.06-.94 2.06-2.06.94zm-11 1L8.5 8.5l.94-2.06 2.06-.94-2.06-.94L8.5 2.5l-.94 2.06-2.06.94zm10 10l.94 2.06.94-2.06 2.06-.94-2.06-.94-.94-2.06-.94 2.06-2.06.94z\"/><path d=\"M17.41 7.96l-1.37-1.37c-.4-.4-.92-.59-1.43-.59-.52 0-1.04.2-1.43.59L10.3 9.45l-7.72 7.72c-.78.78-.78 2.05 0 2.83L4 21.41c.39.39.9.59 1.41.59.51 0 1.02-.2 1.41-.59l7.78-7.78 2.81-2.81c.8-.78.8-2.07 0-2.86zM5.41 20L4 18.59l7.72-7.72 1.47 1.35L5.41 20z\"/>\n",
              "  </svg>\n",
              "      </button>\n",
              "      \n",
              "  <style>\n",
              "    .colab-df-container {\n",
              "      display:flex;\n",
              "      flex-wrap:wrap;\n",
              "      gap: 12px;\n",
              "    }\n",
              "\n",
              "    .colab-df-convert {\n",
              "      background-color: #E8F0FE;\n",
              "      border: none;\n",
              "      border-radius: 50%;\n",
              "      cursor: pointer;\n",
              "      display: none;\n",
              "      fill: #1967D2;\n",
              "      height: 32px;\n",
              "      padding: 0 0 0 0;\n",
              "      width: 32px;\n",
              "    }\n",
              "\n",
              "    .colab-df-convert:hover {\n",
              "      background-color: #E2EBFA;\n",
              "      box-shadow: 0px 1px 2px rgba(60, 64, 67, 0.3), 0px 1px 3px 1px rgba(60, 64, 67, 0.15);\n",
              "      fill: #174EA6;\n",
              "    }\n",
              "\n",
              "    [theme=dark] .colab-df-convert {\n",
              "      background-color: #3B4455;\n",
              "      fill: #D2E3FC;\n",
              "    }\n",
              "\n",
              "    [theme=dark] .colab-df-convert:hover {\n",
              "      background-color: #434B5C;\n",
              "      box-shadow: 0px 1px 3px 1px rgba(0, 0, 0, 0.15);\n",
              "      filter: drop-shadow(0px 1px 2px rgba(0, 0, 0, 0.3));\n",
              "      fill: #FFFFFF;\n",
              "    }\n",
              "  </style>\n",
              "\n",
              "      <script>\n",
              "        const buttonEl =\n",
              "          document.querySelector('#df-451f20d5-0cdc-4117-8de4-7c735db32d20 button.colab-df-convert');\n",
              "        buttonEl.style.display =\n",
              "          google.colab.kernel.accessAllowed ? 'block' : 'none';\n",
              "\n",
              "        async function convertToInteractive(key) {\n",
              "          const element = document.querySelector('#df-451f20d5-0cdc-4117-8de4-7c735db32d20');\n",
              "          const dataTable =\n",
              "            await google.colab.kernel.invokeFunction('convertToInteractive',\n",
              "                                                     [key], {});\n",
              "          if (!dataTable) return;\n",
              "\n",
              "          const docLinkHtml = 'Like what you see? Visit the ' +\n",
              "            '<a target=\"_blank\" href=https://colab.research.google.com/notebooks/data_table.ipynb>data table notebook</a>'\n",
              "            + ' to learn more about interactive tables.';\n",
              "          element.innerHTML = '';\n",
              "          dataTable['output_type'] = 'display_data';\n",
              "          await google.colab.output.renderOutput(dataTable, element);\n",
              "          const docLink = document.createElement('div');\n",
              "          docLink.innerHTML = docLinkHtml;\n",
              "          element.appendChild(docLink);\n",
              "        }\n",
              "      </script>\n",
              "    </div>\n",
              "  </div>\n",
              "  "
            ]
          },
          "metadata": {},
          "execution_count": 12
        }
      ]
    },
    {
      "cell_type": "markdown",
      "source": [
        "2행을 보면 평균 거래 그램이 \\$69.9 수준인데 해당 지출 금액은 \\$220으로 상당한 차이를 보임\n",
        "- 표준편차는 116으로 z 점수는 1.28이 나옴\n",
        "- 다른 거래 건들과 비교하면 상대적으로 특이함"
      ],
      "metadata": {
        "id": "ywjgTHzF296j"
      }
    },
    {
      "cell_type": "code",
      "source": [
        "# mean과 std는 z 점수를 구하는 데 필요할 뿐 예측에는 필요하지 않으므로 제거\n",
        "data.drop(['mean', 'std'], axis=1, inplace=True)"
      ],
      "metadata": {
        "id": "ofMT4osA21HU"
      },
      "execution_count": 13,
      "outputs": []
    },
    {
      "cell_type": "markdown",
      "source": [
        "### 2. 범주\n",
        "각 개인마다 어떤 범주에 얼마만큼의 금액을 쓰는지 z 점수로 파악"
      ],
      "metadata": {
        "id": "B8kJxzM84XtM"
      }
    },
    {
      "cell_type": "code",
      "source": [
        "category_info = data.groupby(['cc_num','category']).agg(['mean','std'])['amt'].reset_index()"
      ],
      "metadata": {
        "colab": {
          "base_uri": "https://localhost:8080/"
        },
        "id": "4sBgNBzR4Wyp",
        "outputId": "a7179b75-27db-4799-8ee8-a3259a47eab2"
      },
      "execution_count": 14,
      "outputs": [
        {
          "output_type": "stream",
          "name": "stderr",
          "text": [
            "<ipython-input-14-16b96a4f5922>:1: FutureWarning: ['trans_date_trans_time', 'gender', 'dob'] did not aggregate successfully. If any error is raised this will raise in a future version of pandas. Drop these columns/ops to avoid this warning.\n",
            "  category_info = data.groupby(['cc_num','category']).agg(['mean','std'])['amt'].reset_index()\n"
          ]
        }
      ]
    },
    {
      "cell_type": "code",
      "source": [
        "category_info.head()"
      ],
      "metadata": {
        "colab": {
          "base_uri": "https://localhost:8080/",
          "height": 206
        },
        "id": "eWL-ygtu6rTL",
        "outputId": "0a07f053-4593-4c29-e9d3-852ec5caaa53"
      },
      "execution_count": 15,
      "outputs": [
        {
          "output_type": "execute_result",
          "data": {
            "text/plain": [
              "        cc_num       category        mean        std\n",
              "0  60416207185  entertainment   51.838855  65.485714\n",
              "1  60416207185    food_dining   26.737097  46.382603\n",
              "2  60416207185  gas_transport   59.779429  15.758267\n",
              "3  60416207185    grocery_net   52.152973  17.694871\n",
              "4  60416207185    grocery_pos  101.557761  21.894156"
            ],
            "text/html": [
              "\n",
              "  <div id=\"df-95165071-3bb0-4487-bf54-d72b0296fca2\">\n",
              "    <div class=\"colab-df-container\">\n",
              "      <div>\n",
              "<style scoped>\n",
              "    .dataframe tbody tr th:only-of-type {\n",
              "        vertical-align: middle;\n",
              "    }\n",
              "\n",
              "    .dataframe tbody tr th {\n",
              "        vertical-align: top;\n",
              "    }\n",
              "\n",
              "    .dataframe thead th {\n",
              "        text-align: right;\n",
              "    }\n",
              "</style>\n",
              "<table border=\"1\" class=\"dataframe\">\n",
              "  <thead>\n",
              "    <tr style=\"text-align: right;\">\n",
              "      <th></th>\n",
              "      <th>cc_num</th>\n",
              "      <th>category</th>\n",
              "      <th>mean</th>\n",
              "      <th>std</th>\n",
              "    </tr>\n",
              "  </thead>\n",
              "  <tbody>\n",
              "    <tr>\n",
              "      <th>0</th>\n",
              "      <td>60416207185</td>\n",
              "      <td>entertainment</td>\n",
              "      <td>51.838855</td>\n",
              "      <td>65.485714</td>\n",
              "    </tr>\n",
              "    <tr>\n",
              "      <th>1</th>\n",
              "      <td>60416207185</td>\n",
              "      <td>food_dining</td>\n",
              "      <td>26.737097</td>\n",
              "      <td>46.382603</td>\n",
              "    </tr>\n",
              "    <tr>\n",
              "      <th>2</th>\n",
              "      <td>60416207185</td>\n",
              "      <td>gas_transport</td>\n",
              "      <td>59.779429</td>\n",
              "      <td>15.758267</td>\n",
              "    </tr>\n",
              "    <tr>\n",
              "      <th>3</th>\n",
              "      <td>60416207185</td>\n",
              "      <td>grocery_net</td>\n",
              "      <td>52.152973</td>\n",
              "      <td>17.694871</td>\n",
              "    </tr>\n",
              "    <tr>\n",
              "      <th>4</th>\n",
              "      <td>60416207185</td>\n",
              "      <td>grocery_pos</td>\n",
              "      <td>101.557761</td>\n",
              "      <td>21.894156</td>\n",
              "    </tr>\n",
              "  </tbody>\n",
              "</table>\n",
              "</div>\n",
              "      <button class=\"colab-df-convert\" onclick=\"convertToInteractive('df-95165071-3bb0-4487-bf54-d72b0296fca2')\"\n",
              "              title=\"Convert this dataframe to an interactive table.\"\n",
              "              style=\"display:none;\">\n",
              "        \n",
              "  <svg xmlns=\"http://www.w3.org/2000/svg\" height=\"24px\"viewBox=\"0 0 24 24\"\n",
              "       width=\"24px\">\n",
              "    <path d=\"M0 0h24v24H0V0z\" fill=\"none\"/>\n",
              "    <path d=\"M18.56 5.44l.94 2.06.94-2.06 2.06-.94-2.06-.94-.94-2.06-.94 2.06-2.06.94zm-11 1L8.5 8.5l.94-2.06 2.06-.94-2.06-.94L8.5 2.5l-.94 2.06-2.06.94zm10 10l.94 2.06.94-2.06 2.06-.94-2.06-.94-.94-2.06-.94 2.06-2.06.94z\"/><path d=\"M17.41 7.96l-1.37-1.37c-.4-.4-.92-.59-1.43-.59-.52 0-1.04.2-1.43.59L10.3 9.45l-7.72 7.72c-.78.78-.78 2.05 0 2.83L4 21.41c.39.39.9.59 1.41.59.51 0 1.02-.2 1.41-.59l7.78-7.78 2.81-2.81c.8-.78.8-2.07 0-2.86zM5.41 20L4 18.59l7.72-7.72 1.47 1.35L5.41 20z\"/>\n",
              "  </svg>\n",
              "      </button>\n",
              "      \n",
              "  <style>\n",
              "    .colab-df-container {\n",
              "      display:flex;\n",
              "      flex-wrap:wrap;\n",
              "      gap: 12px;\n",
              "    }\n",
              "\n",
              "    .colab-df-convert {\n",
              "      background-color: #E8F0FE;\n",
              "      border: none;\n",
              "      border-radius: 50%;\n",
              "      cursor: pointer;\n",
              "      display: none;\n",
              "      fill: #1967D2;\n",
              "      height: 32px;\n",
              "      padding: 0 0 0 0;\n",
              "      width: 32px;\n",
              "    }\n",
              "\n",
              "    .colab-df-convert:hover {\n",
              "      background-color: #E2EBFA;\n",
              "      box-shadow: 0px 1px 2px rgba(60, 64, 67, 0.3), 0px 1px 3px 1px rgba(60, 64, 67, 0.15);\n",
              "      fill: #174EA6;\n",
              "    }\n",
              "\n",
              "    [theme=dark] .colab-df-convert {\n",
              "      background-color: #3B4455;\n",
              "      fill: #D2E3FC;\n",
              "    }\n",
              "\n",
              "    [theme=dark] .colab-df-convert:hover {\n",
              "      background-color: #434B5C;\n",
              "      box-shadow: 0px 1px 3px 1px rgba(0, 0, 0, 0.15);\n",
              "      filter: drop-shadow(0px 1px 2px rgba(0, 0, 0, 0.3));\n",
              "      fill: #FFFFFF;\n",
              "    }\n",
              "  </style>\n",
              "\n",
              "      <script>\n",
              "        const buttonEl =\n",
              "          document.querySelector('#df-95165071-3bb0-4487-bf54-d72b0296fca2 button.colab-df-convert');\n",
              "        buttonEl.style.display =\n",
              "          google.colab.kernel.accessAllowed ? 'block' : 'none';\n",
              "\n",
              "        async function convertToInteractive(key) {\n",
              "          const element = document.querySelector('#df-95165071-3bb0-4487-bf54-d72b0296fca2');\n",
              "          const dataTable =\n",
              "            await google.colab.kernel.invokeFunction('convertToInteractive',\n",
              "                                                     [key], {});\n",
              "          if (!dataTable) return;\n",
              "\n",
              "          const docLinkHtml = 'Like what you see? Visit the ' +\n",
              "            '<a target=\"_blank\" href=https://colab.research.google.com/notebooks/data_table.ipynb>data table notebook</a>'\n",
              "            + ' to learn more about interactive tables.';\n",
              "          element.innerHTML = '';\n",
              "          dataTable['output_type'] = 'display_data';\n",
              "          await google.colab.output.renderOutput(dataTable, element);\n",
              "          const docLink = document.createElement('div');\n",
              "          docLink.innerHTML = docLinkHtml;\n",
              "          element.appendChild(docLink);\n",
              "        }\n",
              "      </script>\n",
              "    </div>\n",
              "  </div>\n",
              "  "
            ]
          },
          "metadata": {},
          "execution_count": 15
        }
      ]
    },
    {
      "cell_type": "code",
      "source": [
        "data = data.merge(category_info, on =['cc_num','category'], how='left')"
      ],
      "metadata": {
        "id": "Yc21m1Dy4p7S"
      },
      "execution_count": 16,
      "outputs": []
    },
    {
      "cell_type": "code",
      "source": [
        "data.head()"
      ],
      "metadata": {
        "colab": {
          "base_uri": "https://localhost:8080/",
          "height": 206
        },
        "id": "uZzcTvnl442H",
        "outputId": "09bba551-cc5e-41fc-bbe6-b877119cc94b"
      },
      "execution_count": 17,
      "outputs": [
        {
          "output_type": "execute_result",
          "data": {
            "text/plain": [
              "  trans_date_trans_time            cc_num       category     amt gender  \\\n",
              "0   2019-01-01 00:00:18  2703186189652095       misc_net    4.97      F   \n",
              "1   2019-01-01 00:00:44      630423337322    grocery_pos  107.23      F   \n",
              "2   2019-01-01 00:00:51    38859492057661  entertainment  220.11      M   \n",
              "3   2019-01-01 00:01:16  3534093764340240  gas_transport   45.00      M   \n",
              "4   2019-01-01 00:03:06   375534208663984       misc_pos   41.96      M   \n",
              "\n",
              "       lat      long  city_pop         dob  merch_lat  merch_long  is_fraud  \\\n",
              "0  36.0788  -81.1781      3495  1988-03-09  36.011293  -82.048315         0   \n",
              "1  48.8878 -118.2105       149  1978-06-21  49.159047 -118.186462         0   \n",
              "2  42.1808 -112.2620      4154  1962-01-19  43.150704 -112.154481         0   \n",
              "3  46.2306 -112.1138      1939  1967-01-12  47.034331 -112.561071         0   \n",
              "4  38.4207  -79.4629        99  1986-03-28  38.674999  -78.632459         0   \n",
              "\n",
              "   amt_z_score       mean         std  \n",
              "0    -0.662108  84.860809  116.070300  \n",
              "1     0.321302  99.637224   23.904424  \n",
              "2     1.287064  46.653103   60.385161  \n",
              "3    -0.125287  61.537283   15.746841  \n",
              "4    -0.565941  35.481357    4.934731  "
            ],
            "text/html": [
              "\n",
              "  <div id=\"df-9c2f9385-75d7-4ceb-a343-92768d99acd0\">\n",
              "    <div class=\"colab-df-container\">\n",
              "      <div>\n",
              "<style scoped>\n",
              "    .dataframe tbody tr th:only-of-type {\n",
              "        vertical-align: middle;\n",
              "    }\n",
              "\n",
              "    .dataframe tbody tr th {\n",
              "        vertical-align: top;\n",
              "    }\n",
              "\n",
              "    .dataframe thead th {\n",
              "        text-align: right;\n",
              "    }\n",
              "</style>\n",
              "<table border=\"1\" class=\"dataframe\">\n",
              "  <thead>\n",
              "    <tr style=\"text-align: right;\">\n",
              "      <th></th>\n",
              "      <th>trans_date_trans_time</th>\n",
              "      <th>cc_num</th>\n",
              "      <th>category</th>\n",
              "      <th>amt</th>\n",
              "      <th>gender</th>\n",
              "      <th>lat</th>\n",
              "      <th>long</th>\n",
              "      <th>city_pop</th>\n",
              "      <th>dob</th>\n",
              "      <th>merch_lat</th>\n",
              "      <th>merch_long</th>\n",
              "      <th>is_fraud</th>\n",
              "      <th>amt_z_score</th>\n",
              "      <th>mean</th>\n",
              "      <th>std</th>\n",
              "    </tr>\n",
              "  </thead>\n",
              "  <tbody>\n",
              "    <tr>\n",
              "      <th>0</th>\n",
              "      <td>2019-01-01 00:00:18</td>\n",
              "      <td>2703186189652095</td>\n",
              "      <td>misc_net</td>\n",
              "      <td>4.97</td>\n",
              "      <td>F</td>\n",
              "      <td>36.0788</td>\n",
              "      <td>-81.1781</td>\n",
              "      <td>3495</td>\n",
              "      <td>1988-03-09</td>\n",
              "      <td>36.011293</td>\n",
              "      <td>-82.048315</td>\n",
              "      <td>0</td>\n",
              "      <td>-0.662108</td>\n",
              "      <td>84.860809</td>\n",
              "      <td>116.070300</td>\n",
              "    </tr>\n",
              "    <tr>\n",
              "      <th>1</th>\n",
              "      <td>2019-01-01 00:00:44</td>\n",
              "      <td>630423337322</td>\n",
              "      <td>grocery_pos</td>\n",
              "      <td>107.23</td>\n",
              "      <td>F</td>\n",
              "      <td>48.8878</td>\n",
              "      <td>-118.2105</td>\n",
              "      <td>149</td>\n",
              "      <td>1978-06-21</td>\n",
              "      <td>49.159047</td>\n",
              "      <td>-118.186462</td>\n",
              "      <td>0</td>\n",
              "      <td>0.321302</td>\n",
              "      <td>99.637224</td>\n",
              "      <td>23.904424</td>\n",
              "    </tr>\n",
              "    <tr>\n",
              "      <th>2</th>\n",
              "      <td>2019-01-01 00:00:51</td>\n",
              "      <td>38859492057661</td>\n",
              "      <td>entertainment</td>\n",
              "      <td>220.11</td>\n",
              "      <td>M</td>\n",
              "      <td>42.1808</td>\n",
              "      <td>-112.2620</td>\n",
              "      <td>4154</td>\n",
              "      <td>1962-01-19</td>\n",
              "      <td>43.150704</td>\n",
              "      <td>-112.154481</td>\n",
              "      <td>0</td>\n",
              "      <td>1.287064</td>\n",
              "      <td>46.653103</td>\n",
              "      <td>60.385161</td>\n",
              "    </tr>\n",
              "    <tr>\n",
              "      <th>3</th>\n",
              "      <td>2019-01-01 00:01:16</td>\n",
              "      <td>3534093764340240</td>\n",
              "      <td>gas_transport</td>\n",
              "      <td>45.00</td>\n",
              "      <td>M</td>\n",
              "      <td>46.2306</td>\n",
              "      <td>-112.1138</td>\n",
              "      <td>1939</td>\n",
              "      <td>1967-01-12</td>\n",
              "      <td>47.034331</td>\n",
              "      <td>-112.561071</td>\n",
              "      <td>0</td>\n",
              "      <td>-0.125287</td>\n",
              "      <td>61.537283</td>\n",
              "      <td>15.746841</td>\n",
              "    </tr>\n",
              "    <tr>\n",
              "      <th>4</th>\n",
              "      <td>2019-01-01 00:03:06</td>\n",
              "      <td>375534208663984</td>\n",
              "      <td>misc_pos</td>\n",
              "      <td>41.96</td>\n",
              "      <td>M</td>\n",
              "      <td>38.4207</td>\n",
              "      <td>-79.4629</td>\n",
              "      <td>99</td>\n",
              "      <td>1986-03-28</td>\n",
              "      <td>38.674999</td>\n",
              "      <td>-78.632459</td>\n",
              "      <td>0</td>\n",
              "      <td>-0.565941</td>\n",
              "      <td>35.481357</td>\n",
              "      <td>4.934731</td>\n",
              "    </tr>\n",
              "  </tbody>\n",
              "</table>\n",
              "</div>\n",
              "      <button class=\"colab-df-convert\" onclick=\"convertToInteractive('df-9c2f9385-75d7-4ceb-a343-92768d99acd0')\"\n",
              "              title=\"Convert this dataframe to an interactive table.\"\n",
              "              style=\"display:none;\">\n",
              "        \n",
              "  <svg xmlns=\"http://www.w3.org/2000/svg\" height=\"24px\"viewBox=\"0 0 24 24\"\n",
              "       width=\"24px\">\n",
              "    <path d=\"M0 0h24v24H0V0z\" fill=\"none\"/>\n",
              "    <path d=\"M18.56 5.44l.94 2.06.94-2.06 2.06-.94-2.06-.94-.94-2.06-.94 2.06-2.06.94zm-11 1L8.5 8.5l.94-2.06 2.06-.94-2.06-.94L8.5 2.5l-.94 2.06-2.06.94zm10 10l.94 2.06.94-2.06 2.06-.94-2.06-.94-.94-2.06-.94 2.06-2.06.94z\"/><path d=\"M17.41 7.96l-1.37-1.37c-.4-.4-.92-.59-1.43-.59-.52 0-1.04.2-1.43.59L10.3 9.45l-7.72 7.72c-.78.78-.78 2.05 0 2.83L4 21.41c.39.39.9.59 1.41.59.51 0 1.02-.2 1.41-.59l7.78-7.78 2.81-2.81c.8-.78.8-2.07 0-2.86zM5.41 20L4 18.59l7.72-7.72 1.47 1.35L5.41 20z\"/>\n",
              "  </svg>\n",
              "      </button>\n",
              "      \n",
              "  <style>\n",
              "    .colab-df-container {\n",
              "      display:flex;\n",
              "      flex-wrap:wrap;\n",
              "      gap: 12px;\n",
              "    }\n",
              "\n",
              "    .colab-df-convert {\n",
              "      background-color: #E8F0FE;\n",
              "      border: none;\n",
              "      border-radius: 50%;\n",
              "      cursor: pointer;\n",
              "      display: none;\n",
              "      fill: #1967D2;\n",
              "      height: 32px;\n",
              "      padding: 0 0 0 0;\n",
              "      width: 32px;\n",
              "    }\n",
              "\n",
              "    .colab-df-convert:hover {\n",
              "      background-color: #E2EBFA;\n",
              "      box-shadow: 0px 1px 2px rgba(60, 64, 67, 0.3), 0px 1px 3px 1px rgba(60, 64, 67, 0.15);\n",
              "      fill: #174EA6;\n",
              "    }\n",
              "\n",
              "    [theme=dark] .colab-df-convert {\n",
              "      background-color: #3B4455;\n",
              "      fill: #D2E3FC;\n",
              "    }\n",
              "\n",
              "    [theme=dark] .colab-df-convert:hover {\n",
              "      background-color: #434B5C;\n",
              "      box-shadow: 0px 1px 3px 1px rgba(0, 0, 0, 0.15);\n",
              "      filter: drop-shadow(0px 1px 2px rgba(0, 0, 0, 0.3));\n",
              "      fill: #FFFFFF;\n",
              "    }\n",
              "  </style>\n",
              "\n",
              "      <script>\n",
              "        const buttonEl =\n",
              "          document.querySelector('#df-9c2f9385-75d7-4ceb-a343-92768d99acd0 button.colab-df-convert');\n",
              "        buttonEl.style.display =\n",
              "          google.colab.kernel.accessAllowed ? 'block' : 'none';\n",
              "\n",
              "        async function convertToInteractive(key) {\n",
              "          const element = document.querySelector('#df-9c2f9385-75d7-4ceb-a343-92768d99acd0');\n",
              "          const dataTable =\n",
              "            await google.colab.kernel.invokeFunction('convertToInteractive',\n",
              "                                                     [key], {});\n",
              "          if (!dataTable) return;\n",
              "\n",
              "          const docLinkHtml = 'Like what you see? Visit the ' +\n",
              "            '<a target=\"_blank\" href=https://colab.research.google.com/notebooks/data_table.ipynb>data table notebook</a>'\n",
              "            + ' to learn more about interactive tables.';\n",
              "          element.innerHTML = '';\n",
              "          dataTable['output_type'] = 'display_data';\n",
              "          await google.colab.output.renderOutput(dataTable, element);\n",
              "          const docLink = document.createElement('div');\n",
              "          docLink.innerHTML = docLinkHtml;\n",
              "          element.appendChild(docLink);\n",
              "        }\n",
              "      </script>\n",
              "    </div>\n",
              "  </div>\n",
              "  "
            ]
          },
          "metadata": {},
          "execution_count": 17
        }
      ]
    },
    {
      "cell_type": "code",
      "source": [
        "# z-score 계산\n",
        "data['cat_z_score'] = (data['amt'] - data['mean']) / data['std']"
      ],
      "metadata": {
        "id": "9rNsehSK6Yt8"
      },
      "execution_count": 18,
      "outputs": []
    },
    {
      "cell_type": "code",
      "source": [
        "data.drop(['mean', 'std'], axis=1, inplace=True)"
      ],
      "metadata": {
        "id": "qibjif_H6lvU"
      },
      "execution_count": 19,
      "outputs": []
    },
    {
      "cell_type": "markdown",
      "source": [
        "### 3. 거리\n",
        "거리에 대한 z 점수를 활용하면 기존 패턴에서 벗어난 거래를 감지할 수 있음\n",
        "- 고객이 주로 주소지 부근 100km 반경에서만 거래를 하다가 3,000km 떨어진 지역에서 거래가 발생했다면, 카드 정보가 해킹되어 타인이 사용한 것은 아닌지 의심해볼 여지가 있음"
      ],
      "metadata": {
        "id": "815oPiqM6qj-"
      }
    },
    {
      "cell_type": "markdown",
      "source": [
        "두 지점의 거리 계산에 geopy 라이브러리를 사용\n",
        "- distance 모듈은 두 지점에 대한 위도와 경도를 튜플 형태로 받아서 계산\n",
        "- `geopy.distance.distance((위도1, 경도1), (위도2, 경도2))`"
      ],
      "metadata": {
        "id": "8x7OIdIa7FRN"
      }
    },
    {
      "cell_type": "code",
      "source": [
        "import geopy.distance  # 거리 계산 라이브러리\n",
        "import time  # 시간 측정 라이브러리"
      ],
      "metadata": {
        "id": "GvXVU2Oz6prU"
      },
      "execution_count": 20,
      "outputs": []
    },
    {
      "cell_type": "code",
      "source": [
        "data['merch_coord'] = pd.Series(zip(data['merch_lat'], data['merch_long'])) # 상점 위도, 경도 한 변수로 합치기\n",
        "data['cust_coord'] = pd.Series(zip(data['lat'], data['long'])) # 고객 위도, 경도 한 변수로 합치기"
      ],
      "metadata": {
        "id": "l6_6_-Aa7A2r"
      },
      "execution_count": 21,
      "outputs": []
    },
    {
      "cell_type": "code",
      "source": [
        "start_time = time.time()\n",
        "data['distance'] = data.apply(lambda x: geopy.distance.distance(x['merch_coord'], x['cust_coord']).km, axis=1)  # 거리 계산\n",
        "end_time = time.time()\n",
        "print(end_time - start_time)  # 실행 시간(초 단위)"
      ],
      "metadata": {
        "colab": {
          "base_uri": "https://localhost:8080/"
        },
        "id": "N4nW6DUG7fia",
        "outputId": "ef9b1564-0132-4da2-9f01-3bd487ed2d4f"
      },
      "execution_count": 22,
      "outputs": [
        {
          "output_type": "stream",
          "name": "stdout",
          "text": [
            "393.52860474586487\n"
          ]
        }
      ]
    },
    {
      "cell_type": "code",
      "source": [
        "data['distance']"
      ],
      "metadata": {
        "colab": {
          "base_uri": "https://localhost:8080/"
        },
        "id": "rs2O22_HBgwW",
        "outputId": "f5ac833b-d8eb-4d87-b641-135317af979f"
      },
      "execution_count": 23,
      "outputs": [
        {
          "output_type": "execute_result",
          "data": {
            "text/plain": [
              "0           78.773821\n",
              "1           30.216618\n",
              "2          108.102912\n",
              "3           95.685115\n",
              "4           77.702395\n",
              "              ...    \n",
              "1852389     77.032467\n",
              "1852390    100.023736\n",
              "1852391     80.887812\n",
              "1852392     53.060882\n",
              "1852393     72.380990\n",
              "Name: distance, Length: 1852394, dtype: float64"
            ]
          },
          "metadata": {},
          "execution_count": 23
        }
      ]
    },
    {
      "cell_type": "code",
      "source": [
        "distance_info = data.groupby('cc_num').agg(['mean', 'std'])['distance'].reset_index()  # 카드 번호별 거리 정보 계산\n",
        "data = data.merge(distance_info, on='cc_num', how='left')  # 데이터 합치기\n",
        "data['distnace_z_score'] = (data['distance'] - data['mean']) / data['std']  # z-score 계산\n",
        "data.drop(['mean', 'std'], axis=1, inplace=True)  # 변수 제거\n",
        "data.head()"
      ],
      "metadata": {
        "colab": {
          "base_uri": "https://localhost:8080/",
          "height": 394
        },
        "id": "XxuHC07473FK",
        "outputId": "7296bf70-8098-4fc1-dd43-72b3e8349c1a"
      },
      "execution_count": 24,
      "outputs": [
        {
          "output_type": "stream",
          "name": "stderr",
          "text": [
            "<ipython-input-24-75e66f04ae11>:1: FutureWarning: ['trans_date_trans_time', 'category', 'gender', 'dob', 'merch_coord', 'cust_coord'] did not aggregate successfully. If any error is raised this will raise in a future version of pandas. Drop these columns/ops to avoid this warning.\n",
            "  distance_info = data.groupby('cc_num').agg(['mean', 'std'])['distance'].reset_index()  # 카드 번호별 거리 정보 계산\n"
          ]
        },
        {
          "output_type": "execute_result",
          "data": {
            "text/plain": [
              "  trans_date_trans_time            cc_num       category     amt gender  \\\n",
              "0   2019-01-01 00:00:18  2703186189652095       misc_net    4.97      F   \n",
              "1   2019-01-01 00:00:44      630423337322    grocery_pos  107.23      F   \n",
              "2   2019-01-01 00:00:51    38859492057661  entertainment  220.11      M   \n",
              "3   2019-01-01 00:01:16  3534093764340240  gas_transport   45.00      M   \n",
              "4   2019-01-01 00:03:06   375534208663984       misc_pos   41.96      M   \n",
              "\n",
              "       lat      long  city_pop         dob  merch_lat  merch_long  is_fraud  \\\n",
              "0  36.0788  -81.1781      3495  1988-03-09  36.011293  -82.048315         0   \n",
              "1  48.8878 -118.2105       149  1978-06-21  49.159047 -118.186462         0   \n",
              "2  42.1808 -112.2620      4154  1962-01-19  43.150704 -112.154481         0   \n",
              "3  46.2306 -112.1138      1939  1967-01-12  47.034331 -112.561071         0   \n",
              "4  38.4207  -79.4629        99  1986-03-28  38.674999  -78.632459         0   \n",
              "\n",
              "   amt_z_score  cat_z_score               merch_coord            cust_coord  \\\n",
              "0    -0.662108    -0.688297   (36.011293, -82.048315)   (36.0788, -81.1781)   \n",
              "1     0.321302     0.317631  (49.159047, -118.186462)  (48.8878, -118.2105)   \n",
              "2     1.287064     2.872509  (43.150704, -112.154481)   (42.1808, -112.262)   \n",
              "3    -0.125287    -1.050197  (47.034331, -112.561071)  (46.2306, -112.1138)   \n",
              "4    -0.565941     1.312866   (38.674999, -78.632459)   (38.4207, -79.4629)   \n",
              "\n",
              "     distance  distnace_z_score  \n",
              "0   78.773821          0.030974  \n",
              "1   30.216618         -1.475224  \n",
              "2  108.102912          1.160572  \n",
              "3   95.685115          0.818063  \n",
              "4   77.702395          0.064037  "
            ],
            "text/html": [
              "\n",
              "  <div id=\"df-508ed66d-7f4b-4bce-9c60-d4a1cee5f5d0\">\n",
              "    <div class=\"colab-df-container\">\n",
              "      <div>\n",
              "<style scoped>\n",
              "    .dataframe tbody tr th:only-of-type {\n",
              "        vertical-align: middle;\n",
              "    }\n",
              "\n",
              "    .dataframe tbody tr th {\n",
              "        vertical-align: top;\n",
              "    }\n",
              "\n",
              "    .dataframe thead th {\n",
              "        text-align: right;\n",
              "    }\n",
              "</style>\n",
              "<table border=\"1\" class=\"dataframe\">\n",
              "  <thead>\n",
              "    <tr style=\"text-align: right;\">\n",
              "      <th></th>\n",
              "      <th>trans_date_trans_time</th>\n",
              "      <th>cc_num</th>\n",
              "      <th>category</th>\n",
              "      <th>amt</th>\n",
              "      <th>gender</th>\n",
              "      <th>lat</th>\n",
              "      <th>long</th>\n",
              "      <th>city_pop</th>\n",
              "      <th>dob</th>\n",
              "      <th>merch_lat</th>\n",
              "      <th>merch_long</th>\n",
              "      <th>is_fraud</th>\n",
              "      <th>amt_z_score</th>\n",
              "      <th>cat_z_score</th>\n",
              "      <th>merch_coord</th>\n",
              "      <th>cust_coord</th>\n",
              "      <th>distance</th>\n",
              "      <th>distnace_z_score</th>\n",
              "    </tr>\n",
              "  </thead>\n",
              "  <tbody>\n",
              "    <tr>\n",
              "      <th>0</th>\n",
              "      <td>2019-01-01 00:00:18</td>\n",
              "      <td>2703186189652095</td>\n",
              "      <td>misc_net</td>\n",
              "      <td>4.97</td>\n",
              "      <td>F</td>\n",
              "      <td>36.0788</td>\n",
              "      <td>-81.1781</td>\n",
              "      <td>3495</td>\n",
              "      <td>1988-03-09</td>\n",
              "      <td>36.011293</td>\n",
              "      <td>-82.048315</td>\n",
              "      <td>0</td>\n",
              "      <td>-0.662108</td>\n",
              "      <td>-0.688297</td>\n",
              "      <td>(36.011293, -82.048315)</td>\n",
              "      <td>(36.0788, -81.1781)</td>\n",
              "      <td>78.773821</td>\n",
              "      <td>0.030974</td>\n",
              "    </tr>\n",
              "    <tr>\n",
              "      <th>1</th>\n",
              "      <td>2019-01-01 00:00:44</td>\n",
              "      <td>630423337322</td>\n",
              "      <td>grocery_pos</td>\n",
              "      <td>107.23</td>\n",
              "      <td>F</td>\n",
              "      <td>48.8878</td>\n",
              "      <td>-118.2105</td>\n",
              "      <td>149</td>\n",
              "      <td>1978-06-21</td>\n",
              "      <td>49.159047</td>\n",
              "      <td>-118.186462</td>\n",
              "      <td>0</td>\n",
              "      <td>0.321302</td>\n",
              "      <td>0.317631</td>\n",
              "      <td>(49.159047, -118.186462)</td>\n",
              "      <td>(48.8878, -118.2105)</td>\n",
              "      <td>30.216618</td>\n",
              "      <td>-1.475224</td>\n",
              "    </tr>\n",
              "    <tr>\n",
              "      <th>2</th>\n",
              "      <td>2019-01-01 00:00:51</td>\n",
              "      <td>38859492057661</td>\n",
              "      <td>entertainment</td>\n",
              "      <td>220.11</td>\n",
              "      <td>M</td>\n",
              "      <td>42.1808</td>\n",
              "      <td>-112.2620</td>\n",
              "      <td>4154</td>\n",
              "      <td>1962-01-19</td>\n",
              "      <td>43.150704</td>\n",
              "      <td>-112.154481</td>\n",
              "      <td>0</td>\n",
              "      <td>1.287064</td>\n",
              "      <td>2.872509</td>\n",
              "      <td>(43.150704, -112.154481)</td>\n",
              "      <td>(42.1808, -112.262)</td>\n",
              "      <td>108.102912</td>\n",
              "      <td>1.160572</td>\n",
              "    </tr>\n",
              "    <tr>\n",
              "      <th>3</th>\n",
              "      <td>2019-01-01 00:01:16</td>\n",
              "      <td>3534093764340240</td>\n",
              "      <td>gas_transport</td>\n",
              "      <td>45.00</td>\n",
              "      <td>M</td>\n",
              "      <td>46.2306</td>\n",
              "      <td>-112.1138</td>\n",
              "      <td>1939</td>\n",
              "      <td>1967-01-12</td>\n",
              "      <td>47.034331</td>\n",
              "      <td>-112.561071</td>\n",
              "      <td>0</td>\n",
              "      <td>-0.125287</td>\n",
              "      <td>-1.050197</td>\n",
              "      <td>(47.034331, -112.561071)</td>\n",
              "      <td>(46.2306, -112.1138)</td>\n",
              "      <td>95.685115</td>\n",
              "      <td>0.818063</td>\n",
              "    </tr>\n",
              "    <tr>\n",
              "      <th>4</th>\n",
              "      <td>2019-01-01 00:03:06</td>\n",
              "      <td>375534208663984</td>\n",
              "      <td>misc_pos</td>\n",
              "      <td>41.96</td>\n",
              "      <td>M</td>\n",
              "      <td>38.4207</td>\n",
              "      <td>-79.4629</td>\n",
              "      <td>99</td>\n",
              "      <td>1986-03-28</td>\n",
              "      <td>38.674999</td>\n",
              "      <td>-78.632459</td>\n",
              "      <td>0</td>\n",
              "      <td>-0.565941</td>\n",
              "      <td>1.312866</td>\n",
              "      <td>(38.674999, -78.632459)</td>\n",
              "      <td>(38.4207, -79.4629)</td>\n",
              "      <td>77.702395</td>\n",
              "      <td>0.064037</td>\n",
              "    </tr>\n",
              "  </tbody>\n",
              "</table>\n",
              "</div>\n",
              "      <button class=\"colab-df-convert\" onclick=\"convertToInteractive('df-508ed66d-7f4b-4bce-9c60-d4a1cee5f5d0')\"\n",
              "              title=\"Convert this dataframe to an interactive table.\"\n",
              "              style=\"display:none;\">\n",
              "        \n",
              "  <svg xmlns=\"http://www.w3.org/2000/svg\" height=\"24px\"viewBox=\"0 0 24 24\"\n",
              "       width=\"24px\">\n",
              "    <path d=\"M0 0h24v24H0V0z\" fill=\"none\"/>\n",
              "    <path d=\"M18.56 5.44l.94 2.06.94-2.06 2.06-.94-2.06-.94-.94-2.06-.94 2.06-2.06.94zm-11 1L8.5 8.5l.94-2.06 2.06-.94-2.06-.94L8.5 2.5l-.94 2.06-2.06.94zm10 10l.94 2.06.94-2.06 2.06-.94-2.06-.94-.94-2.06-.94 2.06-2.06.94z\"/><path d=\"M17.41 7.96l-1.37-1.37c-.4-.4-.92-.59-1.43-.59-.52 0-1.04.2-1.43.59L10.3 9.45l-7.72 7.72c-.78.78-.78 2.05 0 2.83L4 21.41c.39.39.9.59 1.41.59.51 0 1.02-.2 1.41-.59l7.78-7.78 2.81-2.81c.8-.78.8-2.07 0-2.86zM5.41 20L4 18.59l7.72-7.72 1.47 1.35L5.41 20z\"/>\n",
              "  </svg>\n",
              "      </button>\n",
              "      \n",
              "  <style>\n",
              "    .colab-df-container {\n",
              "      display:flex;\n",
              "      flex-wrap:wrap;\n",
              "      gap: 12px;\n",
              "    }\n",
              "\n",
              "    .colab-df-convert {\n",
              "      background-color: #E8F0FE;\n",
              "      border: none;\n",
              "      border-radius: 50%;\n",
              "      cursor: pointer;\n",
              "      display: none;\n",
              "      fill: #1967D2;\n",
              "      height: 32px;\n",
              "      padding: 0 0 0 0;\n",
              "      width: 32px;\n",
              "    }\n",
              "\n",
              "    .colab-df-convert:hover {\n",
              "      background-color: #E2EBFA;\n",
              "      box-shadow: 0px 1px 2px rgba(60, 64, 67, 0.3), 0px 1px 3px 1px rgba(60, 64, 67, 0.15);\n",
              "      fill: #174EA6;\n",
              "    }\n",
              "\n",
              "    [theme=dark] .colab-df-convert {\n",
              "      background-color: #3B4455;\n",
              "      fill: #D2E3FC;\n",
              "    }\n",
              "\n",
              "    [theme=dark] .colab-df-convert:hover {\n",
              "      background-color: #434B5C;\n",
              "      box-shadow: 0px 1px 3px 1px rgba(0, 0, 0, 0.15);\n",
              "      filter: drop-shadow(0px 1px 2px rgba(0, 0, 0, 0.3));\n",
              "      fill: #FFFFFF;\n",
              "    }\n",
              "  </style>\n",
              "\n",
              "      <script>\n",
              "        const buttonEl =\n",
              "          document.querySelector('#df-508ed66d-7f4b-4bce-9c60-d4a1cee5f5d0 button.colab-df-convert');\n",
              "        buttonEl.style.display =\n",
              "          google.colab.kernel.accessAllowed ? 'block' : 'none';\n",
              "\n",
              "        async function convertToInteractive(key) {\n",
              "          const element = document.querySelector('#df-508ed66d-7f4b-4bce-9c60-d4a1cee5f5d0');\n",
              "          const dataTable =\n",
              "            await google.colab.kernel.invokeFunction('convertToInteractive',\n",
              "                                                     [key], {});\n",
              "          if (!dataTable) return;\n",
              "\n",
              "          const docLinkHtml = 'Like what you see? Visit the ' +\n",
              "            '<a target=\"_blank\" href=https://colab.research.google.com/notebooks/data_table.ipynb>data table notebook</a>'\n",
              "            + ' to learn more about interactive tables.';\n",
              "          element.innerHTML = '';\n",
              "          dataTable['output_type'] = 'display_data';\n",
              "          await google.colab.output.renderOutput(dataTable, element);\n",
              "          const docLink = document.createElement('div');\n",
              "          docLink.innerHTML = docLinkHtml;\n",
              "          element.appendChild(docLink);\n",
              "        }\n",
              "      </script>\n",
              "    </div>\n",
              "  </div>\n",
              "  "
            ]
          },
          "metadata": {},
          "execution_count": 24
        }
      ]
    },
    {
      "cell_type": "markdown",
      "source": [
        "### 4. 나이 구하기\n",
        "생년월일을 활용하여 나이를 구할 수 있음"
      ],
      "metadata": {
        "id": "CF1DmRpO8fFW"
      }
    },
    {
      "cell_type": "code",
      "source": [
        "data['age'] = 2023 - pd.to_datetime(data['dob']).dt.year # 나이 계산"
      ],
      "metadata": {
        "id": "tfl4geSd8j5o"
      },
      "execution_count": 25,
      "outputs": []
    },
    {
      "cell_type": "code",
      "source": [
        "data.drop(['cc_num', 'lat', 'long', 'merch_lat', 'merch_long', 'dob', 'merch_coord', 'cust_coord'], axis=1, inplace=True) # 불필요한 변수 제거\n",
        "data.head()"
      ],
      "metadata": {
        "colab": {
          "base_uri": "https://localhost:8080/",
          "height": 206
        },
        "id": "fB5QiUOX-N2O",
        "outputId": "cdcb86f6-54d9-4ea4-edc4-0338325aa8eb"
      },
      "execution_count": 26,
      "outputs": [
        {
          "output_type": "execute_result",
          "data": {
            "text/plain": [
              "  trans_date_trans_time       category     amt gender  city_pop  is_fraud  \\\n",
              "0   2019-01-01 00:00:18       misc_net    4.97      F      3495         0   \n",
              "1   2019-01-01 00:00:44    grocery_pos  107.23      F       149         0   \n",
              "2   2019-01-01 00:00:51  entertainment  220.11      M      4154         0   \n",
              "3   2019-01-01 00:01:16  gas_transport   45.00      M      1939         0   \n",
              "4   2019-01-01 00:03:06       misc_pos   41.96      M        99         0   \n",
              "\n",
              "   amt_z_score  cat_z_score    distance  distnace_z_score  age  \n",
              "0    -0.662108    -0.688297   78.773821          0.030974   35  \n",
              "1     0.321302     0.317631   30.216618         -1.475224   45  \n",
              "2     1.287064     2.872509  108.102912          1.160572   61  \n",
              "3    -0.125287    -1.050197   95.685115          0.818063   56  \n",
              "4    -0.565941     1.312866   77.702395          0.064037   37  "
            ],
            "text/html": [
              "\n",
              "  <div id=\"df-5d8a57ff-be08-4aee-a150-d1b975331332\">\n",
              "    <div class=\"colab-df-container\">\n",
              "      <div>\n",
              "<style scoped>\n",
              "    .dataframe tbody tr th:only-of-type {\n",
              "        vertical-align: middle;\n",
              "    }\n",
              "\n",
              "    .dataframe tbody tr th {\n",
              "        vertical-align: top;\n",
              "    }\n",
              "\n",
              "    .dataframe thead th {\n",
              "        text-align: right;\n",
              "    }\n",
              "</style>\n",
              "<table border=\"1\" class=\"dataframe\">\n",
              "  <thead>\n",
              "    <tr style=\"text-align: right;\">\n",
              "      <th></th>\n",
              "      <th>trans_date_trans_time</th>\n",
              "      <th>category</th>\n",
              "      <th>amt</th>\n",
              "      <th>gender</th>\n",
              "      <th>city_pop</th>\n",
              "      <th>is_fraud</th>\n",
              "      <th>amt_z_score</th>\n",
              "      <th>cat_z_score</th>\n",
              "      <th>distance</th>\n",
              "      <th>distnace_z_score</th>\n",
              "      <th>age</th>\n",
              "    </tr>\n",
              "  </thead>\n",
              "  <tbody>\n",
              "    <tr>\n",
              "      <th>0</th>\n",
              "      <td>2019-01-01 00:00:18</td>\n",
              "      <td>misc_net</td>\n",
              "      <td>4.97</td>\n",
              "      <td>F</td>\n",
              "      <td>3495</td>\n",
              "      <td>0</td>\n",
              "      <td>-0.662108</td>\n",
              "      <td>-0.688297</td>\n",
              "      <td>78.773821</td>\n",
              "      <td>0.030974</td>\n",
              "      <td>35</td>\n",
              "    </tr>\n",
              "    <tr>\n",
              "      <th>1</th>\n",
              "      <td>2019-01-01 00:00:44</td>\n",
              "      <td>grocery_pos</td>\n",
              "      <td>107.23</td>\n",
              "      <td>F</td>\n",
              "      <td>149</td>\n",
              "      <td>0</td>\n",
              "      <td>0.321302</td>\n",
              "      <td>0.317631</td>\n",
              "      <td>30.216618</td>\n",
              "      <td>-1.475224</td>\n",
              "      <td>45</td>\n",
              "    </tr>\n",
              "    <tr>\n",
              "      <th>2</th>\n",
              "      <td>2019-01-01 00:00:51</td>\n",
              "      <td>entertainment</td>\n",
              "      <td>220.11</td>\n",
              "      <td>M</td>\n",
              "      <td>4154</td>\n",
              "      <td>0</td>\n",
              "      <td>1.287064</td>\n",
              "      <td>2.872509</td>\n",
              "      <td>108.102912</td>\n",
              "      <td>1.160572</td>\n",
              "      <td>61</td>\n",
              "    </tr>\n",
              "    <tr>\n",
              "      <th>3</th>\n",
              "      <td>2019-01-01 00:01:16</td>\n",
              "      <td>gas_transport</td>\n",
              "      <td>45.00</td>\n",
              "      <td>M</td>\n",
              "      <td>1939</td>\n",
              "      <td>0</td>\n",
              "      <td>-0.125287</td>\n",
              "      <td>-1.050197</td>\n",
              "      <td>95.685115</td>\n",
              "      <td>0.818063</td>\n",
              "      <td>56</td>\n",
              "    </tr>\n",
              "    <tr>\n",
              "      <th>4</th>\n",
              "      <td>2019-01-01 00:03:06</td>\n",
              "      <td>misc_pos</td>\n",
              "      <td>41.96</td>\n",
              "      <td>M</td>\n",
              "      <td>99</td>\n",
              "      <td>0</td>\n",
              "      <td>-0.565941</td>\n",
              "      <td>1.312866</td>\n",
              "      <td>77.702395</td>\n",
              "      <td>0.064037</td>\n",
              "      <td>37</td>\n",
              "    </tr>\n",
              "  </tbody>\n",
              "</table>\n",
              "</div>\n",
              "      <button class=\"colab-df-convert\" onclick=\"convertToInteractive('df-5d8a57ff-be08-4aee-a150-d1b975331332')\"\n",
              "              title=\"Convert this dataframe to an interactive table.\"\n",
              "              style=\"display:none;\">\n",
              "        \n",
              "  <svg xmlns=\"http://www.w3.org/2000/svg\" height=\"24px\"viewBox=\"0 0 24 24\"\n",
              "       width=\"24px\">\n",
              "    <path d=\"M0 0h24v24H0V0z\" fill=\"none\"/>\n",
              "    <path d=\"M18.56 5.44l.94 2.06.94-2.06 2.06-.94-2.06-.94-.94-2.06-.94 2.06-2.06.94zm-11 1L8.5 8.5l.94-2.06 2.06-.94-2.06-.94L8.5 2.5l-.94 2.06-2.06.94zm10 10l.94 2.06.94-2.06 2.06-.94-2.06-.94-.94-2.06-.94 2.06-2.06.94z\"/><path d=\"M17.41 7.96l-1.37-1.37c-.4-.4-.92-.59-1.43-.59-.52 0-1.04.2-1.43.59L10.3 9.45l-7.72 7.72c-.78.78-.78 2.05 0 2.83L4 21.41c.39.39.9.59 1.41.59.51 0 1.02-.2 1.41-.59l7.78-7.78 2.81-2.81c.8-.78.8-2.07 0-2.86zM5.41 20L4 18.59l7.72-7.72 1.47 1.35L5.41 20z\"/>\n",
              "  </svg>\n",
              "      </button>\n",
              "      \n",
              "  <style>\n",
              "    .colab-df-container {\n",
              "      display:flex;\n",
              "      flex-wrap:wrap;\n",
              "      gap: 12px;\n",
              "    }\n",
              "\n",
              "    .colab-df-convert {\n",
              "      background-color: #E8F0FE;\n",
              "      border: none;\n",
              "      border-radius: 50%;\n",
              "      cursor: pointer;\n",
              "      display: none;\n",
              "      fill: #1967D2;\n",
              "      height: 32px;\n",
              "      padding: 0 0 0 0;\n",
              "      width: 32px;\n",
              "    }\n",
              "\n",
              "    .colab-df-convert:hover {\n",
              "      background-color: #E2EBFA;\n",
              "      box-shadow: 0px 1px 2px rgba(60, 64, 67, 0.3), 0px 1px 3px 1px rgba(60, 64, 67, 0.15);\n",
              "      fill: #174EA6;\n",
              "    }\n",
              "\n",
              "    [theme=dark] .colab-df-convert {\n",
              "      background-color: #3B4455;\n",
              "      fill: #D2E3FC;\n",
              "    }\n",
              "\n",
              "    [theme=dark] .colab-df-convert:hover {\n",
              "      background-color: #434B5C;\n",
              "      box-shadow: 0px 1px 3px 1px rgba(0, 0, 0, 0.15);\n",
              "      filter: drop-shadow(0px 1px 2px rgba(0, 0, 0, 0.3));\n",
              "      fill: #FFFFFF;\n",
              "    }\n",
              "  </style>\n",
              "\n",
              "      <script>\n",
              "        const buttonEl =\n",
              "          document.querySelector('#df-5d8a57ff-be08-4aee-a150-d1b975331332 button.colab-df-convert');\n",
              "        buttonEl.style.display =\n",
              "          google.colab.kernel.accessAllowed ? 'block' : 'none';\n",
              "\n",
              "        async function convertToInteractive(key) {\n",
              "          const element = document.querySelector('#df-5d8a57ff-be08-4aee-a150-d1b975331332');\n",
              "          const dataTable =\n",
              "            await google.colab.kernel.invokeFunction('convertToInteractive',\n",
              "                                                     [key], {});\n",
              "          if (!dataTable) return;\n",
              "\n",
              "          const docLinkHtml = 'Like what you see? Visit the ' +\n",
              "            '<a target=\"_blank\" href=https://colab.research.google.com/notebooks/data_table.ipynb>data table notebook</a>'\n",
              "            + ' to learn more about interactive tables.';\n",
              "          element.innerHTML = '';\n",
              "          dataTable['output_type'] = 'display_data';\n",
              "          await google.colab.output.renderOutput(dataTable, element);\n",
              "          const docLink = document.createElement('div');\n",
              "          docLink.innerHTML = docLinkHtml;\n",
              "          element.appendChild(docLink);\n",
              "        }\n",
              "      </script>\n",
              "    </div>\n",
              "  </div>\n",
              "  "
            ]
          },
          "metadata": {},
          "execution_count": 26
        }
      ]
    },
    {
      "cell_type": "markdown",
      "source": [
        "### 5. 더미 변수 만들기\n",
        "object 변수인 category와 gender를 더미 변환"
      ],
      "metadata": {
        "id": "fODcVbf6-eHp"
      }
    },
    {
      "cell_type": "code",
      "source": [
        "data = pd.get_dummies(data, columns=['category', 'gender'], drop_first=True)  # 더미 변환"
      ],
      "metadata": {
        "id": "4w0AEvD9-cw8"
      },
      "execution_count": 27,
      "outputs": []
    },
    {
      "cell_type": "code",
      "source": [
        "data.set_index('trans_date_trans_time', inplace=True)  # trans_date_trans_time을 인덱스로 설정\n",
        "data.head()"
      ],
      "metadata": {
        "colab": {
          "base_uri": "https://localhost:8080/",
          "height": 331
        },
        "id": "Yx8Q7Jg6DY1z",
        "outputId": "9cb68a16-f13c-4f28-aaaf-0d53ffcc14a1"
      },
      "execution_count": 28,
      "outputs": [
        {
          "output_type": "execute_result",
          "data": {
            "text/plain": [
              "                          amt  city_pop  is_fraud  amt_z_score  cat_z_score  \\\n",
              "trans_date_trans_time                                                         \n",
              "2019-01-01 00:00:18      4.97      3495         0    -0.662108    -0.688297   \n",
              "2019-01-01 00:00:44    107.23       149         0     0.321302     0.317631   \n",
              "2019-01-01 00:00:51    220.11      4154         0     1.287064     2.872509   \n",
              "2019-01-01 00:01:16     45.00      1939         0    -0.125287    -1.050197   \n",
              "2019-01-01 00:03:06     41.96        99         0    -0.565941     1.312866   \n",
              "\n",
              "                         distance  distnace_z_score  age  \\\n",
              "trans_date_trans_time                                      \n",
              "2019-01-01 00:00:18     78.773821          0.030974   35   \n",
              "2019-01-01 00:00:44     30.216618         -1.475224   45   \n",
              "2019-01-01 00:00:51    108.102912          1.160572   61   \n",
              "2019-01-01 00:01:16     95.685115          0.818063   56   \n",
              "2019-01-01 00:03:06     77.702395          0.064037   37   \n",
              "\n",
              "                       category_food_dining  category_gas_transport  ...  \\\n",
              "trans_date_trans_time                                                ...   \n",
              "2019-01-01 00:00:18                       0                       0  ...   \n",
              "2019-01-01 00:00:44                       0                       0  ...   \n",
              "2019-01-01 00:00:51                       0                       0  ...   \n",
              "2019-01-01 00:01:16                       0                       1  ...   \n",
              "2019-01-01 00:03:06                       0                       0  ...   \n",
              "\n",
              "                       category_health_fitness  category_home  \\\n",
              "trans_date_trans_time                                           \n",
              "2019-01-01 00:00:18                          0              0   \n",
              "2019-01-01 00:00:44                          0              0   \n",
              "2019-01-01 00:00:51                          0              0   \n",
              "2019-01-01 00:01:16                          0              0   \n",
              "2019-01-01 00:03:06                          0              0   \n",
              "\n",
              "                       category_kids_pets  category_misc_net  \\\n",
              "trans_date_trans_time                                          \n",
              "2019-01-01 00:00:18                     0                  1   \n",
              "2019-01-01 00:00:44                     0                  0   \n",
              "2019-01-01 00:00:51                     0                  0   \n",
              "2019-01-01 00:01:16                     0                  0   \n",
              "2019-01-01 00:03:06                     0                  0   \n",
              "\n",
              "                       category_misc_pos  category_personal_care  \\\n",
              "trans_date_trans_time                                              \n",
              "2019-01-01 00:00:18                    0                       0   \n",
              "2019-01-01 00:00:44                    0                       0   \n",
              "2019-01-01 00:00:51                    0                       0   \n",
              "2019-01-01 00:01:16                    0                       0   \n",
              "2019-01-01 00:03:06                    1                       0   \n",
              "\n",
              "                       category_shopping_net  category_shopping_pos  \\\n",
              "trans_date_trans_time                                                 \n",
              "2019-01-01 00:00:18                        0                      0   \n",
              "2019-01-01 00:00:44                        0                      0   \n",
              "2019-01-01 00:00:51                        0                      0   \n",
              "2019-01-01 00:01:16                        0                      0   \n",
              "2019-01-01 00:03:06                        0                      0   \n",
              "\n",
              "                       category_travel  gender_M  \n",
              "trans_date_trans_time                             \n",
              "2019-01-01 00:00:18                  0         0  \n",
              "2019-01-01 00:00:44                  0         0  \n",
              "2019-01-01 00:00:51                  0         1  \n",
              "2019-01-01 00:01:16                  0         1  \n",
              "2019-01-01 00:03:06                  0         1  \n",
              "\n",
              "[5 rows x 22 columns]"
            ],
            "text/html": [
              "\n",
              "  <div id=\"df-ad241f44-0e49-465d-b188-34fd6ac35178\">\n",
              "    <div class=\"colab-df-container\">\n",
              "      <div>\n",
              "<style scoped>\n",
              "    .dataframe tbody tr th:only-of-type {\n",
              "        vertical-align: middle;\n",
              "    }\n",
              "\n",
              "    .dataframe tbody tr th {\n",
              "        vertical-align: top;\n",
              "    }\n",
              "\n",
              "    .dataframe thead th {\n",
              "        text-align: right;\n",
              "    }\n",
              "</style>\n",
              "<table border=\"1\" class=\"dataframe\">\n",
              "  <thead>\n",
              "    <tr style=\"text-align: right;\">\n",
              "      <th></th>\n",
              "      <th>amt</th>\n",
              "      <th>city_pop</th>\n",
              "      <th>is_fraud</th>\n",
              "      <th>amt_z_score</th>\n",
              "      <th>cat_z_score</th>\n",
              "      <th>distance</th>\n",
              "      <th>distnace_z_score</th>\n",
              "      <th>age</th>\n",
              "      <th>category_food_dining</th>\n",
              "      <th>category_gas_transport</th>\n",
              "      <th>...</th>\n",
              "      <th>category_health_fitness</th>\n",
              "      <th>category_home</th>\n",
              "      <th>category_kids_pets</th>\n",
              "      <th>category_misc_net</th>\n",
              "      <th>category_misc_pos</th>\n",
              "      <th>category_personal_care</th>\n",
              "      <th>category_shopping_net</th>\n",
              "      <th>category_shopping_pos</th>\n",
              "      <th>category_travel</th>\n",
              "      <th>gender_M</th>\n",
              "    </tr>\n",
              "    <tr>\n",
              "      <th>trans_date_trans_time</th>\n",
              "      <th></th>\n",
              "      <th></th>\n",
              "      <th></th>\n",
              "      <th></th>\n",
              "      <th></th>\n",
              "      <th></th>\n",
              "      <th></th>\n",
              "      <th></th>\n",
              "      <th></th>\n",
              "      <th></th>\n",
              "      <th></th>\n",
              "      <th></th>\n",
              "      <th></th>\n",
              "      <th></th>\n",
              "      <th></th>\n",
              "      <th></th>\n",
              "      <th></th>\n",
              "      <th></th>\n",
              "      <th></th>\n",
              "      <th></th>\n",
              "      <th></th>\n",
              "    </tr>\n",
              "  </thead>\n",
              "  <tbody>\n",
              "    <tr>\n",
              "      <th>2019-01-01 00:00:18</th>\n",
              "      <td>4.97</td>\n",
              "      <td>3495</td>\n",
              "      <td>0</td>\n",
              "      <td>-0.662108</td>\n",
              "      <td>-0.688297</td>\n",
              "      <td>78.773821</td>\n",
              "      <td>0.030974</td>\n",
              "      <td>35</td>\n",
              "      <td>0</td>\n",
              "      <td>0</td>\n",
              "      <td>...</td>\n",
              "      <td>0</td>\n",
              "      <td>0</td>\n",
              "      <td>0</td>\n",
              "      <td>1</td>\n",
              "      <td>0</td>\n",
              "      <td>0</td>\n",
              "      <td>0</td>\n",
              "      <td>0</td>\n",
              "      <td>0</td>\n",
              "      <td>0</td>\n",
              "    </tr>\n",
              "    <tr>\n",
              "      <th>2019-01-01 00:00:44</th>\n",
              "      <td>107.23</td>\n",
              "      <td>149</td>\n",
              "      <td>0</td>\n",
              "      <td>0.321302</td>\n",
              "      <td>0.317631</td>\n",
              "      <td>30.216618</td>\n",
              "      <td>-1.475224</td>\n",
              "      <td>45</td>\n",
              "      <td>0</td>\n",
              "      <td>0</td>\n",
              "      <td>...</td>\n",
              "      <td>0</td>\n",
              "      <td>0</td>\n",
              "      <td>0</td>\n",
              "      <td>0</td>\n",
              "      <td>0</td>\n",
              "      <td>0</td>\n",
              "      <td>0</td>\n",
              "      <td>0</td>\n",
              "      <td>0</td>\n",
              "      <td>0</td>\n",
              "    </tr>\n",
              "    <tr>\n",
              "      <th>2019-01-01 00:00:51</th>\n",
              "      <td>220.11</td>\n",
              "      <td>4154</td>\n",
              "      <td>0</td>\n",
              "      <td>1.287064</td>\n",
              "      <td>2.872509</td>\n",
              "      <td>108.102912</td>\n",
              "      <td>1.160572</td>\n",
              "      <td>61</td>\n",
              "      <td>0</td>\n",
              "      <td>0</td>\n",
              "      <td>...</td>\n",
              "      <td>0</td>\n",
              "      <td>0</td>\n",
              "      <td>0</td>\n",
              "      <td>0</td>\n",
              "      <td>0</td>\n",
              "      <td>0</td>\n",
              "      <td>0</td>\n",
              "      <td>0</td>\n",
              "      <td>0</td>\n",
              "      <td>1</td>\n",
              "    </tr>\n",
              "    <tr>\n",
              "      <th>2019-01-01 00:01:16</th>\n",
              "      <td>45.00</td>\n",
              "      <td>1939</td>\n",
              "      <td>0</td>\n",
              "      <td>-0.125287</td>\n",
              "      <td>-1.050197</td>\n",
              "      <td>95.685115</td>\n",
              "      <td>0.818063</td>\n",
              "      <td>56</td>\n",
              "      <td>0</td>\n",
              "      <td>1</td>\n",
              "      <td>...</td>\n",
              "      <td>0</td>\n",
              "      <td>0</td>\n",
              "      <td>0</td>\n",
              "      <td>0</td>\n",
              "      <td>0</td>\n",
              "      <td>0</td>\n",
              "      <td>0</td>\n",
              "      <td>0</td>\n",
              "      <td>0</td>\n",
              "      <td>1</td>\n",
              "    </tr>\n",
              "    <tr>\n",
              "      <th>2019-01-01 00:03:06</th>\n",
              "      <td>41.96</td>\n",
              "      <td>99</td>\n",
              "      <td>0</td>\n",
              "      <td>-0.565941</td>\n",
              "      <td>1.312866</td>\n",
              "      <td>77.702395</td>\n",
              "      <td>0.064037</td>\n",
              "      <td>37</td>\n",
              "      <td>0</td>\n",
              "      <td>0</td>\n",
              "      <td>...</td>\n",
              "      <td>0</td>\n",
              "      <td>0</td>\n",
              "      <td>0</td>\n",
              "      <td>0</td>\n",
              "      <td>1</td>\n",
              "      <td>0</td>\n",
              "      <td>0</td>\n",
              "      <td>0</td>\n",
              "      <td>0</td>\n",
              "      <td>1</td>\n",
              "    </tr>\n",
              "  </tbody>\n",
              "</table>\n",
              "<p>5 rows × 22 columns</p>\n",
              "</div>\n",
              "      <button class=\"colab-df-convert\" onclick=\"convertToInteractive('df-ad241f44-0e49-465d-b188-34fd6ac35178')\"\n",
              "              title=\"Convert this dataframe to an interactive table.\"\n",
              "              style=\"display:none;\">\n",
              "        \n",
              "  <svg xmlns=\"http://www.w3.org/2000/svg\" height=\"24px\"viewBox=\"0 0 24 24\"\n",
              "       width=\"24px\">\n",
              "    <path d=\"M0 0h24v24H0V0z\" fill=\"none\"/>\n",
              "    <path d=\"M18.56 5.44l.94 2.06.94-2.06 2.06-.94-2.06-.94-.94-2.06-.94 2.06-2.06.94zm-11 1L8.5 8.5l.94-2.06 2.06-.94-2.06-.94L8.5 2.5l-.94 2.06-2.06.94zm10 10l.94 2.06.94-2.06 2.06-.94-2.06-.94-.94-2.06-.94 2.06-2.06.94z\"/><path d=\"M17.41 7.96l-1.37-1.37c-.4-.4-.92-.59-1.43-.59-.52 0-1.04.2-1.43.59L10.3 9.45l-7.72 7.72c-.78.78-.78 2.05 0 2.83L4 21.41c.39.39.9.59 1.41.59.51 0 1.02-.2 1.41-.59l7.78-7.78 2.81-2.81c.8-.78.8-2.07 0-2.86zM5.41 20L4 18.59l7.72-7.72 1.47 1.35L5.41 20z\"/>\n",
              "  </svg>\n",
              "      </button>\n",
              "      \n",
              "  <style>\n",
              "    .colab-df-container {\n",
              "      display:flex;\n",
              "      flex-wrap:wrap;\n",
              "      gap: 12px;\n",
              "    }\n",
              "\n",
              "    .colab-df-convert {\n",
              "      background-color: #E8F0FE;\n",
              "      border: none;\n",
              "      border-radius: 50%;\n",
              "      cursor: pointer;\n",
              "      display: none;\n",
              "      fill: #1967D2;\n",
              "      height: 32px;\n",
              "      padding: 0 0 0 0;\n",
              "      width: 32px;\n",
              "    }\n",
              "\n",
              "    .colab-df-convert:hover {\n",
              "      background-color: #E2EBFA;\n",
              "      box-shadow: 0px 1px 2px rgba(60, 64, 67, 0.3), 0px 1px 3px 1px rgba(60, 64, 67, 0.15);\n",
              "      fill: #174EA6;\n",
              "    }\n",
              "\n",
              "    [theme=dark] .colab-df-convert {\n",
              "      background-color: #3B4455;\n",
              "      fill: #D2E3FC;\n",
              "    }\n",
              "\n",
              "    [theme=dark] .colab-df-convert:hover {\n",
              "      background-color: #434B5C;\n",
              "      box-shadow: 0px 1px 3px 1px rgba(0, 0, 0, 0.15);\n",
              "      filter: drop-shadow(0px 1px 2px rgba(0, 0, 0, 0.3));\n",
              "      fill: #FFFFFF;\n",
              "    }\n",
              "  </style>\n",
              "\n",
              "      <script>\n",
              "        const buttonEl =\n",
              "          document.querySelector('#df-ad241f44-0e49-465d-b188-34fd6ac35178 button.colab-df-convert');\n",
              "        buttonEl.style.display =\n",
              "          google.colab.kernel.accessAllowed ? 'block' : 'none';\n",
              "\n",
              "        async function convertToInteractive(key) {\n",
              "          const element = document.querySelector('#df-ad241f44-0e49-465d-b188-34fd6ac35178');\n",
              "          const dataTable =\n",
              "            await google.colab.kernel.invokeFunction('convertToInteractive',\n",
              "                                                     [key], {});\n",
              "          if (!dataTable) return;\n",
              "\n",
              "          const docLinkHtml = 'Like what you see? Visit the ' +\n",
              "            '<a target=\"_blank\" href=https://colab.research.google.com/notebooks/data_table.ipynb>data table notebook</a>'\n",
              "            + ' to learn more about interactive tables.';\n",
              "          element.innerHTML = '';\n",
              "          dataTable['output_type'] = 'display_data';\n",
              "          await google.colab.output.renderOutput(dataTable, element);\n",
              "          const docLink = document.createElement('div');\n",
              "          docLink.innerHTML = docLinkHtml;\n",
              "          element.appendChild(docLink);\n",
              "        }\n",
              "      </script>\n",
              "    </div>\n",
              "  </div>\n",
              "  "
            ]
          },
          "metadata": {},
          "execution_count": 28
        }
      ]
    },
    {
      "cell_type": "markdown",
      "source": [
        "## 모델링 및 평가"
      ],
      "metadata": {
        "id": "0fUxy56RDkQZ"
      }
    },
    {
      "cell_type": "code",
      "source": [
        "# 특정 날짜를 기준으로 train/test를 나눔\n",
        "train = data[data.index < '2020-07-01']\n",
        "test = data[data.index >= '2020-07-01']"
      ],
      "metadata": {
        "id": "0sWNKXAuDdJS"
      },
      "execution_count": 29,
      "outputs": []
    },
    {
      "cell_type": "code",
      "source": [
        "len(test) / len(data)  # test set 비율"
      ],
      "metadata": {
        "colab": {
          "base_uri": "https://localhost:8080/"
        },
        "id": "LCPIIxakDuQl",
        "outputId": "7926889d-0542-4e38-9c2d-6ff0f58af43e"
      },
      "execution_count": 30,
      "outputs": [
        {
          "output_type": "execute_result",
          "data": {
            "text/plain": [
              "0.2837738623640543"
            ]
          },
          "metadata": {},
          "execution_count": 30
        }
      ]
    },
    {
      "cell_type": "code",
      "source": [
        "X_train = train.drop('is_fraud', axis=1)\n",
        "X_test = test.drop('is_fraud', axis=1)\n",
        "y_train = train['is_fraud']\n",
        "y_test = test['is_fraud']"
      ],
      "metadata": {
        "id": "bPLRHu-WDwbR"
      },
      "execution_count": 31,
      "outputs": []
    },
    {
      "cell_type": "code",
      "source": [
        "import lightgbm as lgb\n",
        "model_1 = lgb.LGBMClassifier(random_state=100)\n",
        "model_1.fit(X_train, y_train)\n",
        "pred_1 = model_1.predict(X_test)"
      ],
      "metadata": {
        "id": "eBFe9KkVEBcT"
      },
      "execution_count": 32,
      "outputs": []
    },
    {
      "cell_type": "code",
      "source": [
        "from sklearn.metrics import accuracy_score, confusion_matrix, classification_report, roc_auc_score"
      ],
      "metadata": {
        "id": "gdMbNv09EM3w"
      },
      "execution_count": 33,
      "outputs": []
    },
    {
      "cell_type": "code",
      "source": [
        "accuracy_score(y_test, pred_1)  # 정확도"
      ],
      "metadata": {
        "colab": {
          "base_uri": "https://localhost:8080/"
        },
        "id": "an7RXQRoEVJo",
        "outputId": "64fb1a9c-4409-46c5-d50f-f6eb546362f1"
      },
      "execution_count": 34,
      "outputs": [
        {
          "output_type": "execute_result",
          "data": {
            "text/plain": [
              "0.9970741599624092"
            ]
          },
          "metadata": {},
          "execution_count": 34
        }
      ]
    },
    {
      "cell_type": "markdown",
      "source": [
        "약 99.6%로 매우 정확한 예측률을 보여줌\n",
        "- 하지만, 기존 is_fraud 변수가 한쪽으로 지나치게 치우친 비대칭 데이터이기 떄문에 이런 높은 예측률은 의미가 없음\n",
        "- 이미 0인 경우가 99%이었기 때문에 이보다 작은 정확도가 나오는 것이 잘못된 것임"
      ],
      "metadata": {
        "id": "Ix8iBCC_EcrV"
      }
    },
    {
      "cell_type": "code",
      "source": [
        "confusion_matrix(y_test, pred_1)  # 혼동 행렬"
      ],
      "metadata": {
        "colab": {
          "base_uri": "https://localhost:8080/"
        },
        "id": "UPDv-OBvEX5r",
        "outputId": "9732eb7f-388c-40ce-8640-211ce85d714f"
      },
      "execution_count": 35,
      "outputs": [
        {
          "output_type": "execute_result",
          "data": {
            "text/plain": [
              "array([[522932,    717],\n",
              "       [   821,   1191]])"
            ]
          },
          "metadata": {},
          "execution_count": 35
        }
      ]
    },
    {
      "cell_type": "markdown",
      "source": [
        "- TP 1191건\n",
        "- FP(2종 오류) 830건\n",
        "- FP(1종 오류) 1023건\n",
        "- 1종 오류와 2종 오류는 비슷한 수준\n"
      ],
      "metadata": {
        "id": "36zno3S1EtRE"
      }
    },
    {
      "cell_type": "code",
      "source": [
        "print(classification_report(y_test, pred_1))  # 분류 리포트"
      ],
      "metadata": {
        "colab": {
          "base_uri": "https://localhost:8080/"
        },
        "id": "QGbGyF8sEr1v",
        "outputId": "c385a71e-3983-4c37-fa25-44c77885ed4f"
      },
      "execution_count": 36,
      "outputs": [
        {
          "output_type": "stream",
          "name": "stdout",
          "text": [
            "              precision    recall  f1-score   support\n",
            "\n",
            "           0       1.00      1.00      1.00    523649\n",
            "           1       0.62      0.59      0.61      2012\n",
            "\n",
            "    accuracy                           1.00    525661\n",
            "   macro avg       0.81      0.80      0.80    525661\n",
            "weighted avg       1.00      1.00      1.00    525661\n",
            "\n"
          ]
        }
      ]
    },
    {
      "cell_type": "markdown",
      "source": [
        "- 정밀도(precision) 0.62\n",
        "- 재현율(recall) 0.59\n",
        "- F1-score 0.61\n",
        "\n",
        "\n",
        "셋 중 어떤 값이 가장 중요한가? 실제 이상거래를 얼마나 많이 예측했는지를 의미하는 재현율이 중요함\n",
        "- 지나지체 예민하게 반응하여 많은 이상거래를 감지해내면 실제로 이상거래를 감지하는 경우도 많아지겠지만, 동시에 정상거래를 이상거래로 인식하고 거래를 지연시키고 고객에게 확인하는 일도 많아질 것임\n",
        "- 반대로 덜 예민하게 반응하는 모델이라면 정상 거래 건을 안정적으로 처리하는 경우가 많아지겠지만, 그중 이상거래가 포함되는 경우가 늘게 될 것임\n",
        "- 둘 중 한쪽을 선택해야하면, 정상 거래를 한 고객이 확인 절차를 거치는 불편함이 발생하더라고 이상거래를 조금 더 포착하는 것이 중요함"
      ],
      "metadata": {
        "id": "Ajq3tYrcFQ0g"
      }
    },
    {
      "cell_type": "code",
      "source": [
        "proba_1 = model_1.predict_proba(X_test)\n",
        "proba_1"
      ],
      "metadata": {
        "colab": {
          "base_uri": "https://localhost:8080/"
        },
        "id": "TwxWG9vUE9Tv",
        "outputId": "8e6cc93c-82a6-4565-c23d-8825dbd07eef"
      },
      "execution_count": 37,
      "outputs": [
        {
          "output_type": "execute_result",
          "data": {
            "text/plain": [
              "array([[9.99968780e-01, 3.12200192e-05],\n",
              "       [9.99973950e-01, 2.60503805e-05],\n",
              "       [9.99960796e-01, 3.92036838e-05],\n",
              "       ...,\n",
              "       [9.99964825e-01, 3.51745938e-05],\n",
              "       [9.99844073e-01, 1.55926901e-04],\n",
              "       [9.99945924e-01, 5.40758218e-05]])"
            ]
          },
          "metadata": {},
          "execution_count": 37
        }
      ]
    },
    {
      "cell_type": "markdown",
      "source": [
        "predict_proba 결과의 첫번째 값은 0에 대한 예측 값, 두번째값은 1에 대한 예측값임"
      ],
      "metadata": {
        "id": "HLAYMJ7PGTe6"
      }
    },
    {
      "cell_type": "code",
      "source": [
        "proba_1[:, 1]  # 1에 대한 예측 결과만 출력"
      ],
      "metadata": {
        "colab": {
          "base_uri": "https://localhost:8080/"
        },
        "id": "CbsSCfTgGH2F",
        "outputId": "27d1609c-96b5-48bb-f57e-9c6be73b05e8"
      },
      "execution_count": 38,
      "outputs": [
        {
          "output_type": "execute_result",
          "data": {
            "text/plain": [
              "array([3.12200192e-05, 2.60503805e-05, 3.92036838e-05, ...,\n",
              "       3.51745938e-05, 1.55926901e-04, 5.40758218e-05])"
            ]
          },
          "metadata": {},
          "execution_count": 38
        }
      ]
    },
    {
      "cell_type": "code",
      "source": [
        "proba_1 = proba_1[:, 1]"
      ],
      "metadata": {
        "id": "8NmY8bU-GOAf"
      },
      "execution_count": 39,
      "outputs": []
    },
    {
      "cell_type": "code",
      "source": [
        "proba_int1 = (proba_1 > 0.2).astype('int') # 0.2를 기준으로 분류\n",
        "proba_int2 = (proba_1 > 0.8).astype('int') # 0.8을 기준으로 분류"
      ],
      "metadata": {
        "id": "HjBC5HrDGg8r"
      },
      "execution_count": 40,
      "outputs": []
    },
    {
      "cell_type": "code",
      "source": [
        "confusion_matrix(y_test, proba_int1) # 0.2 기준 혼동 행렬"
      ],
      "metadata": {
        "colab": {
          "base_uri": "https://localhost:8080/"
        },
        "id": "iiZ_bf7HGpRb",
        "outputId": "d811ae72-789c-49d0-af61-f6b76d78ec07"
      },
      "execution_count": 41,
      "outputs": [
        {
          "output_type": "execute_result",
          "data": {
            "text/plain": [
              "array([[522105,   1544],\n",
              "       [   598,   1414]])"
            ]
          },
          "metadata": {},
          "execution_count": 41
        }
      ]
    },
    {
      "cell_type": "code",
      "source": [
        "print(classification_report(y_test, proba_int1)) # 0.2 기준 분류 리포트"
      ],
      "metadata": {
        "colab": {
          "base_uri": "https://localhost:8080/"
        },
        "id": "1oPIq7ZmG2He",
        "outputId": "c5bd97fe-499a-44c1-eac6-f3f4b357b26f"
      },
      "execution_count": 42,
      "outputs": [
        {
          "output_type": "stream",
          "name": "stdout",
          "text": [
            "              precision    recall  f1-score   support\n",
            "\n",
            "           0       1.00      1.00      1.00    523649\n",
            "           1       0.48      0.70      0.57      2012\n",
            "\n",
            "    accuracy                           1.00    525661\n",
            "   macro avg       0.74      0.85      0.78    525661\n",
            "weighted avg       1.00      1.00      1.00    525661\n",
            "\n"
          ]
        }
      ]
    },
    {
      "cell_type": "markdown",
      "source": [
        "기존 0.5 기준보다 훨씬 많은 1414건의 TP가 보이면서, 동시에 FP또한 1554건으로 늘었음\n",
        "- 정밀도는 떨어지고, 재현율은 개선됨"
      ],
      "metadata": {
        "id": "DRDvZ6zqG7rE"
      }
    },
    {
      "cell_type": "code",
      "source": [
        "confusion_matrix(y_test, proba_int2) # 0.8 기준 혼동 행렬"
      ],
      "metadata": {
        "colab": {
          "base_uri": "https://localhost:8080/"
        },
        "id": "bCILNqkVG6o2",
        "outputId": "74d414a7-3e6e-4b9f-9c73-d732c4454589"
      },
      "execution_count": 43,
      "outputs": [
        {
          "output_type": "execute_result",
          "data": {
            "text/plain": [
              "array([[523182,    467],\n",
              "       [   958,   1054]])"
            ]
          },
          "metadata": {},
          "execution_count": 43
        }
      ]
    },
    {
      "cell_type": "code",
      "source": [
        "print(classification_report(y_test, proba_int2)) # 0.8 기준 분류 리포트"
      ],
      "metadata": {
        "colab": {
          "base_uri": "https://localhost:8080/"
        },
        "id": "Cvq9S-bKHM4d",
        "outputId": "582fb85b-e8ec-4527-932e-3c1eac2d09ea"
      },
      "execution_count": 44,
      "outputs": [
        {
          "output_type": "stream",
          "name": "stdout",
          "text": [
            "              precision    recall  f1-score   support\n",
            "\n",
            "           0       1.00      1.00      1.00    523649\n",
            "           1       0.69      0.52      0.60      2012\n",
            "\n",
            "    accuracy                           1.00    525661\n",
            "   macro avg       0.85      0.76      0.80    525661\n",
            "weighted avg       1.00      1.00      1.00    525661\n",
            "\n"
          ]
        }
      ]
    },
    {
      "cell_type": "markdown",
      "source": [
        "기존보다 TP가 1005건으로 줄었지만, FP는 739건으로 줄어 크게 개선되었지만 FN이 1007건으로 많아짐\n",
        "- 정상거래 건을 이상거래로 잘못 의심하는 경우는 줄었지만, 이상거래를 놓치는 경우가 너무 많아짐\n",
        "- 정밀도는 높아졌으나 재현율이 떨어짐"
      ],
      "metadata": {
        "id": "JO5hZ-VbHTVb"
      }
    },
    {
      "cell_type": "markdown",
      "source": [
        "이 분석의 목적에 따라 재현율을 가장 중요하게 봐야하지만 그렇다고 정밀도가 지나치게 낮아지는 것도 조심해야하기 때문에 적절한 기준점을 잡아야 함\n",
        "- AUC 지표 활용"
      ],
      "metadata": {
        "id": "CNeHOFXcHxLG"
      }
    },
    {
      "cell_type": "markdown",
      "source": [
        "ROC 곡선과 AUC는 이진분류 모델을 평가하는 방법으로, 기준점에 영향을 받지 않아 여러 모델을 비교할 때 요긴하게 사용됨\n",
        "- AUC는 ROC 곡선의 아래 면적을 의미하며, 0.5~1 사이의 값으로 높을수록 좋은 모델임\n",
        "\n",
        "- $TPR(민감도) = \\frac{TP}{TP+FN}$: 실제 1인 것 중 얼마만큼 제대로 1로 예측했는 지(1에 가까울수록 좋은 수치)\n",
        "- $FPR(특이도) = \\frac{FP}{FP+TN}$: 실제 0인 것 중 얼마만큼 1로 잘못 예측되었는지(0에 가까울수록 좋은 수치)\n",
        "- FPR을 희생하면 더 나은(1에 가까운) TPR을 얻을 수 있고, 반대로 TPR을 포기하면 안정적인(0에 가까운) FPR을 얻을 수 있음"
      ],
      "metadata": {
        "id": "p-rMp6PfH9IH"
      }
    },
    {
      "cell_type": "code",
      "source": [
        "roc_auc_score(y_test, proba_1)"
      ],
      "metadata": {
        "colab": {
          "base_uri": "https://localhost:8080/"
        },
        "id": "iof2PfRFHRzl",
        "outputId": "62f02aba-07e0-4b88-c9e1-98d9dc57feca"
      },
      "execution_count": 45,
      "outputs": [
        {
          "output_type": "execute_result",
          "data": {
            "text/plain": [
              "0.9366006092163013"
            ]
          },
          "metadata": {},
          "execution_count": 45
        }
      ]
    },
    {
      "cell_type": "markdown",
      "source": [
        "약 0.9031로 상당히 높은 AUC가 나옴\n",
        "- AUC는 0.8 이상이면 상당히 높은 편\n",
        "- 정확도와 마찬가지로 AUC도 종속변수가 한쪽으로 편향되었을 때 높게 나오는 경향이 있음\n",
        "- 따라서 0.9031이라고 해서 반드시 매우 좋다고 해석할 수 없음"
      ],
      "metadata": {
        "id": "KlfzW7DQJjlQ"
      }
    },
    {
      "cell_type": "markdown",
      "source": [
        "## 하이퍼파라미텨 튜닝: 랜덤 그리드 서치\n",
        "랜덤 그리드 서치: 주어진 하이퍼파라미터값들의 모든 조합을 시도하지 않고 랜덤으로 일부만 선택하여 모델링함\n",
        "- 모든 조합에 대해 모델링하면 너무 많은 시간이 소요될 수 있기 때문에, 랜덤 그리드 서치를 통해 더 넓은 영역의 하이퍼파라미터 값을 더 짧은 시간에 다양하게 활용할 수 있음"
      ],
      "metadata": {
        "id": "7QCzBojRJ0wX"
      }
    },
    {
      "cell_type": "code",
      "source": [
        "from sklearn.model_selection import RandomizedSearchCV"
      ],
      "metadata": {
        "id": "ZkBDe_ojJg6G"
      },
      "execution_count": 46,
      "outputs": []
    },
    {
      "cell_type": "code",
      "source": [
        "params = {\n",
        "    'n_estimators': [100, 500, 1000],         # 반복 횟수\n",
        "    'learning_rate': [0.01, 0.05, 0.1, 0.3],  # 러닝 레이트\n",
        "    'lambda_l1': [0, 10, 20, 30, 50],         # L1 정규화\n",
        "    'lambda_l2': [0, 10, 20, 30, 50],         # L2 정규화\n",
        "    'max_depth': [5, 10 ,15, 20],             # 최대 깊이\n",
        "    'subsample': [0.6, 0.8 ,1]                # 서브샘플 비율\n",
        "}"
      ],
      "metadata": {
        "id": "H88ZTwy6KOuM"
      },
      "execution_count": 47,
      "outputs": []
    },
    {
      "cell_type": "code",
      "source": [
        "model_2 = lgb.LGBMClassifier(random_state=100)\n",
        "rs = RandomizedSearchCV(model_2, param_distributions=params, n_iter=30, scoring='roc_auc', random_state=100, n_jobs=-1)"
      ],
      "metadata": {
        "id": "_bcvdbgdLH_P"
      },
      "execution_count": 48,
      "outputs": []
    },
    {
      "cell_type": "code",
      "source": [
        "start = time.time()\n",
        "rs.fit(X_train, y_train)\n",
        "print(time.time() - start)  # 총 소요시간"
      ],
      "metadata": {
        "colab": {
          "base_uri": "https://localhost:8080/"
        },
        "id": "J1Y7CwsELYRA",
        "outputId": "de68403d-0e12-4e20-e38b-826afece32d2"
      },
      "execution_count": 49,
      "outputs": [
        {
          "output_type": "stream",
          "name": "stdout",
          "text": [
            "[LightGBM] [Warning] lambda_l1 is set=0, reg_alpha=0.0 will be ignored. Current value: lambda_l1=0\n",
            "[LightGBM] [Warning] lambda_l2 is set=20, reg_lambda=0.0 will be ignored. Current value: lambda_l2=20\n",
            "5920.014907836914\n"
          ]
        }
      ]
    },
    {
      "cell_type": "code",
      "source": [
        "rs.best_params_  # 최적 하이퍼파라미터 확인"
      ],
      "metadata": {
        "colab": {
          "base_uri": "https://localhost:8080/"
        },
        "id": "OC5WWXeJLeYh",
        "outputId": "ebf2955f-0876-467a-cb4f-85fbcf13337e"
      },
      "execution_count": 50,
      "outputs": [
        {
          "output_type": "execute_result",
          "data": {
            "text/plain": [
              "{'subsample': 1,\n",
              " 'n_estimators': 1000,\n",
              " 'max_depth': 15,\n",
              " 'learning_rate': 0.05,\n",
              " 'lambda_l2': 20,\n",
              " 'lambda_l1': 0}"
            ]
          },
          "metadata": {},
          "execution_count": 50
        }
      ]
    },
    {
      "cell_type": "code",
      "source": [
        "rs_proba = rs.predict_proba(X_test)  # 예측\n",
        "roc_auc_score(y_test, rs_proba[:, 1])  # 정확도"
      ],
      "metadata": {
        "colab": {
          "base_uri": "https://localhost:8080/"
        },
        "id": "_2PI7IrcL32J",
        "outputId": "d75dd779-8564-4fc2-8552-1a7fb49846bf"
      },
      "execution_count": 51,
      "outputs": [
        {
          "output_type": "execute_result",
          "data": {
            "text/plain": [
              "0.9953122884656392"
            ]
          },
          "metadata": {},
          "execution_count": 51
        }
      ]
    },
    {
      "cell_type": "code",
      "source": [
        "rs_proba_int = (rs_proba[:, 1] > 0.2).astype('int')  # 0.2 기준으로 분류\n",
        "print(confusion_matrix(y_test, rs_proba_int))  # 혼동 행렬\n",
        "print(classification_report(y_test, rs_proba_int))  # 분류 리포트"
      ],
      "metadata": {
        "colab": {
          "base_uri": "https://localhost:8080/"
        },
        "id": "vym1Ow9jMCYm",
        "outputId": "cad3f2ef-9f2f-44f9-b253-82f2dec7fc88"
      },
      "execution_count": 52,
      "outputs": [
        {
          "output_type": "stream",
          "name": "stdout",
          "text": [
            "[[522519   1130]\n",
            " [   504   1508]]\n",
            "              precision    recall  f1-score   support\n",
            "\n",
            "           0       1.00      1.00      1.00    523649\n",
            "           1       0.57      0.75      0.65      2012\n",
            "\n",
            "    accuracy                           1.00    525661\n",
            "   macro avg       0.79      0.87      0.82    525661\n",
            "weighted avg       1.00      1.00      1.00    525661\n",
            "\n"
          ]
        }
      ]
    },
    {
      "cell_type": "markdown",
      "source": [
        "## LightGBM의 train() 함수\n",
        "\n",
        "| |lgb.train()|lgb.LGBMRegressor.fit() / lgb.LGBMClassifier.fit()|\n",
        "|---|---|---|\n",
        "|검증셋|모델링 과정에 검증셋 지원|모델링에 검증셋 포함하지 않음|\n",
        "|데이터셋|데이터프레임을 변도의 포맷으로 변환 필요|별도의 포맷 필요 없이 자동적으로 처리|\n",
        "|하이퍼파라미터|무조건 지정해야 함|기본값으로도 모델링 가능|\n",
        "|사이킷런과 연동(Gridsearch, CV 등)|불가|가능|\n",
        "\n",
        "\n",
        "train() 함수에서는 검증셋을 함께 사용\n",
        "- 트리를 계속해서 만들어나갈 때 훈련셋이 아닌 검증셋으로 평가를 해가며 모델을 개선해 나감\n",
        "- 모델링이 완료되면, 사용하지 않은 시험셋으로 최종 예측 및 평가를 진행"
      ],
      "metadata": {
        "id": "aKBfjNGdMVCB"
      }
    },
    {
      "cell_type": "code",
      "source": [
        "# train/val/test 분리\n",
        "train = data[data.index < '2020-01-01'] # 훈련\n",
        "val = data[(data.index >= '2020-01-01') & (data.index < '2020-07-01')] # 검증\n",
        "test = data[data.index >= '2020-07-01'] # 시험"
      ],
      "metadata": {
        "id": "_z1EQB_hMUsg"
      },
      "execution_count": 53,
      "outputs": []
    },
    {
      "cell_type": "code",
      "source": [
        "X_train = train.drop('is_fraud', axis=1)\n",
        "X_val = val.drop('is_fraud', axis=1)\n",
        "X_test = test.drop('is_fraud', axis=1)\n",
        "y_train = train['is_fraud']\n",
        "y_val = val['is_fraud']\n",
        "y_test = test['is_fraud']"
      ],
      "metadata": {
        "id": "L3huW5E6NpsH"
      },
      "execution_count": 54,
      "outputs": []
    },
    {
      "cell_type": "markdown",
      "source": [
        "train() 함수로 학습하려면 LightGBM에서 제시하는 고유한 데이터셋 형태를 취해야 함\n",
        "- LightGBM의 `Dataset()` 함수"
      ],
      "metadata": {
        "id": "ZVEEBUnGOHll"
      }
    },
    {
      "cell_type": "code",
      "source": [
        "d_train = lgb.Dataset(X_train, label=y_train)\n",
        "d_val = lgb.Dataset(X_val, label=y_val)"
      ],
      "metadata": {
        "id": "qdX-A4nHN3OD"
      },
      "execution_count": 55,
      "outputs": []
    },
    {
      "cell_type": "markdown",
      "source": [
        "train() 함수는 하이퍼파라미터가 입력되지 않으면 에러가 나기 때문에 반드시 하이퍼파라미터를 입력해야 함"
      ],
      "metadata": {
        "id": "8FgnnF6rOT4e"
      }
    },
    {
      "cell_type": "code",
      "source": [
        "params_set = rs.best_params_  # 그리드 서치에서 확보한 최적 파라미터 설정\n",
        "params_set['metrics']='auc'  # 평가 기준 추가"
      ],
      "metadata": {
        "id": "J1FFGR2sN3Lz"
      },
      "execution_count": 56,
      "outputs": []
    },
    {
      "cell_type": "code",
      "source": [
        "params_set  # 하이퍼파라미터 확인"
      ],
      "metadata": {
        "colab": {
          "base_uri": "https://localhost:8080/"
        },
        "id": "bt9_kPtkOidm",
        "outputId": "e5a6c74a-6e80-423e-f217-2cf0892ec43e"
      },
      "execution_count": 57,
      "outputs": [
        {
          "output_type": "execute_result",
          "data": {
            "text/plain": [
              "{'subsample': 1,\n",
              " 'n_estimators': 1000,\n",
              " 'max_depth': 15,\n",
              " 'learning_rate': 0.05,\n",
              " 'lambda_l2': 20,\n",
              " 'lambda_l1': 0,\n",
              " 'metrics': 'auc'}"
            ]
          },
          "metadata": {},
          "execution_count": 57
        }
      ]
    },
    {
      "cell_type": "code",
      "source": [
        "model_3 = lgb.train(params_set, d_train, valid_sets=[d_val], early_stopping_rounds=100, verbose_eval=100)  # 학습시간 100개로 제한 더 이상의 개선이 보이지 않으면 중지, 100개 단위로 출력"
      ],
      "metadata": {
        "colab": {
          "base_uri": "https://localhost:8080/"
        },
        "id": "DPAL9D91Ol2V",
        "outputId": "ca1aa87b-7bd0-4585-e4b1-a72242c00aa1"
      },
      "execution_count": 59,
      "outputs": [
        {
          "output_type": "stream",
          "name": "stderr",
          "text": [
            "/usr/local/lib/python3.10/dist-packages/lightgbm/engine.py:177: UserWarning: Found `n_estimators` in params. Will use it instead of argument\n",
            "  _log_warning(f\"Found `{alias}` in params. Will use it instead of argument\")\n",
            "/usr/local/lib/python3.10/dist-packages/lightgbm/engine.py:181: UserWarning: 'early_stopping_rounds' argument is deprecated and will be removed in a future release of LightGBM. Pass 'early_stopping()' callback via 'callbacks' argument instead.\n",
            "  _log_warning(\"'early_stopping_rounds' argument is deprecated and will be removed in a future release of LightGBM. \"\n",
            "/usr/local/lib/python3.10/dist-packages/lightgbm/engine.py:239: UserWarning: 'verbose_eval' argument is deprecated and will be removed in a future release of LightGBM. Pass 'log_evaluation()' callback via 'callbacks' argument instead.\n",
            "  _log_warning(\"'verbose_eval' argument is deprecated and will be removed in a future release of LightGBM. \"\n"
          ]
        },
        {
          "output_type": "stream",
          "name": "stdout",
          "text": [
            "[LightGBM] [Warning] Accuracy may be bad since you didn't explicitly set num_leaves OR 2^max_depth > num_leaves. (num_leaves=31).\n",
            "[LightGBM] [Warning] Accuracy may be bad since you didn't explicitly set num_leaves OR 2^max_depth > num_leaves. (num_leaves=31).\n",
            "[LightGBM] [Warning] Auto-choosing col-wise multi-threading, the overhead of testing was 0.177312 seconds.\n",
            "You can set `force_col_wise=true` to remove the overhead.\n",
            "[LightGBM] [Info] Total Bins 1633\n",
            "[LightGBM] [Info] Number of data points in the train set: 924850, number of used features: 21\n",
            "[LightGBM] [Warning] Accuracy may be bad since you didn't explicitly set num_leaves OR 2^max_depth > num_leaves. (num_leaves=31).\n",
            "[LightGBM] [Info] Start training from score 0.005644\n",
            "Training until validation scores don't improve for 100 rounds\n",
            "[100]\tvalid_0's auc: 0.97237\n",
            "[200]\tvalid_0's auc: 0.988574\n",
            "[300]\tvalid_0's auc: 0.993031\n",
            "[400]\tvalid_0's auc: 0.992582\n",
            "Early stopping, best iteration is:\n",
            "[327]\tvalid_0's auc: 0.993459\n"
          ]
        }
      ]
    },
    {
      "cell_type": "code",
      "source": [
        "pred_3 = model_3.predict(X_test)"
      ],
      "metadata": {
        "id": "5cYlhA4XOl0D"
      },
      "execution_count": 60,
      "outputs": []
    },
    {
      "cell_type": "code",
      "source": [
        "roc_auc_score(y_test, pred_3)  # 정확도"
      ],
      "metadata": {
        "colab": {
          "base_uri": "https://localhost:8080/"
        },
        "id": "Pxcgp_s0Olx_",
        "outputId": "0eff2e8e-b6eb-436e-f1d3-c231d4fdaf42"
      },
      "execution_count": 61,
      "outputs": [
        {
          "output_type": "execute_result",
          "data": {
            "text/plain": [
              "0.991352108964131"
            ]
          },
          "metadata": {},
          "execution_count": 61
        }
      ]
    },
    {
      "cell_type": "markdown",
      "source": [
        "LGBMClassifier를 사용했을 때보다 조금 낮은 정확도가 나옴\n",
        "- 훈련에 사용된 데이터셋의 범위가 달라졌기 때문에 차이 발생\n",
        "- 기본적으로 설정된 하이퍼파라미터와 train() 함수에 반영된 기본 하이퍼파라미터 값들의 차이"
      ],
      "metadata": {
        "id": "q9iBhzmFPEO0"
      }
    },
    {
      "cell_type": "code",
      "source": [
        "feature_imp = pd.DataFrame({'feature_name':X_train.columns, 'importance':model_1.feature_importances_}).sort_values('importance', ascending=False)  # 중요 변수\n",
        "plt.figure(figsize=(20,10))\n",
        "sns.barplot(x='importance', y='feature_name', data=feature_imp.head(10))\n",
        "plt.show()"
      ],
      "metadata": {
        "colab": {
          "base_uri": "https://localhost:8080/",
          "height": 766
        },
        "id": "tU59X6SoPBoJ",
        "outputId": "bc1c3dd7-6f49-47d8-a747-66c9ffa97ee4"
      },
      "execution_count": 62,
      "outputs": [
        {
          "output_type": "display_data",
          "data": {
            "text/plain": [
              "<Figure size 2000x1000 with 1 Axes>"
            ],
            "image/png": "[encoded data removed]"
          },
          "metadata": {}
        }
      ]
    },
    {
      "cell_type": "code",
      "source": [
        "feature_imp_3 = pd.DataFrame(sorted(zip(model_3.feature_importance(), X_train.columns)), columns=['Value','Feature'])\n",
        "plt.figure(figsize=(20, 10))\n",
        "sns.barplot(x=\"Value\", y=\"Feature\", data=feature_imp_3.head(10))\n",
        "plt.show()"
      ],
      "metadata": {
        "colab": {
          "base_uri": "https://localhost:8080/",
          "height": 752
        },
        "id": "c-lNfXDAPBl7",
        "outputId": "682cf51c-306d-4127-c319-0c1770c940e6"
      },
      "execution_count": 71,
      "outputs": [
        {
          "output_type": "display_data",
          "data": {
            "text/plain": [
              "<Figure size 2000x1000 with 1 Axes>"
            ],
            "image/png": "[encoded data removed]"
          },
          "metadata": {}
        }
      ]
    },
    {
      "cell_type": "markdown",
      "source": [
        "## 모델 이해하기\n",
        "XGBoost와 LightGBM의 가장 큰 차이점: 트리의 가지를 어떤 식으로 뻗어나가는가\n",
        "- XGBoost는 균형 분할 방식으로, 각 노드에서 같은 깊이를 형성하도록 한층 한층 밑으로 내려옴\n",
        "- LightGBM은 리프 중심 트리 분할 방식으로, 특정 노드에서 뻗어나가는 가지가 모델의 개선에 더 도움이 된다면 좌우 노드 수가 균등하지 않고 가지가 깊게 펼쳐짐\n",
        "\n",
        "LightGBM은 속도가 훨씬 빠르게 진행될 수 있으며, 복잡성은 더 증가하고, 오버피팅 문제를 야기할 가능성 또한 높음\n",
        "- 하이퍼파라미터 튜닝으로 극복 가능\n",
        "\n",
        "XGBoost 대비 LightGBM의 장점\n",
        "- 빠른 학습 및 예측\n",
        "- 더 적은 메모리 사용\n",
        "- 데이터셋 자동 변환 및 최적 분할"
      ],
      "metadata": {
        "id": "5sgJznRkQCP3"
      }
    }
  ]
}