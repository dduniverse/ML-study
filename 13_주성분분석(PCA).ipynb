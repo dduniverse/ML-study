{
  "nbformat": 4,
  "nbformat_minor": 0,
  "metadata": {
    "colab": {
      "provenance": [],
      "authorship_tag": "ABX9TyMG0nfT53s6vUL5j+ZNrTHZ",
      "include_colab_link": true
    },
    "kernelspec": {
      "name": "python3",
      "display_name": "Python 3"
    },
    "language_info": {
      "name": "python"
    }
  },
  "cells": [
    {
      "cell_type": "markdown",
      "metadata": {
        "id": "view-in-github",
        "colab_type": "text"
      },
      "source": [
        "<a href=\"https://colab.research.google.com/github/dduniverse/ML-study/blob/main/13_%EC%A3%BC%EC%84%B1%EB%B6%84%EB%B6%84%EC%84%9D(PCA).ipynb\" target=\"_parent\"><img src=\"https://colab.research.google.com/assets/colab-badge.svg\" alt=\"Open In Colab\"/></a>"
      ]
    },
    {
      "cell_type": "markdown",
      "source": [
        "# PCA\n",
        "PCA는 Principal Component Anaylsis의 약자로, 주성분 분석이라고도 부름\n",
        "- 비지도 학습에 속하기 때문에 당연히 종속변수는 존재하지 않고, 어떤 것을 예측하지도 분류하지도 않음\n",
        "- 데이터의 차원을 축소하는데 목적을 둠\n",
        "- 기존의 변수 중 일부를 그대로 선택하는 방식이 아니라, 기존 변수들의 정보를 모두 반영하는 새로운 변수들을 만드는 방식으로 차원 축소를 함\n",
        "\n",
        "\n",
        "**차원 축소**\n",
        "- 변수의 개수를 줄여 데이터의 차원을 축소하는 것\n",
        "-  가능한 변수의 특성을 보존해내는 기법\n",
        "\n",
        "|장점|단점|\n",
        "|---|---|\n",
        "|다차원을 2차원에 적합하도록 차원 축소하여 시각화에 유용|기존 변수가 아닌 새로운 변수를 사용하여 해석하는데 어려움이 있음|\n",
        "|변수 간의 높은 상관관계 문제를 해결해줌|차원이 축소됨에 따라 정보 손실이 불가피함|\n",
        "\n",
        "\n",
        "- 다차원 변수들을 2차원 그래프로 표현하는데 사용할 수 있음\n",
        "- 변수가 너무 많아 모델 학습에 시간이 너무 오래 걸릴 때 차원 축소를 진행하면 학습에 드는 시간을 줄일 수 있어 유용함\n",
        "- 오버피팅을 방지하는 용도로 사용할 수도 있음"
      ],
      "metadata": {
        "id": "UOrOjBug3lbf"
      }
    },
    {
      "cell_type": "markdown",
      "source": [
        "## 차원을 축소해서 그래프 그리기: 고객 데이터셋"
      ],
      "metadata": {
        "id": "QkVaz1LE4tDi"
      }
    },
    {
      "cell_type": "markdown",
      "source": [
        "### 라이브러리 및 데이터 불러오기"
      ],
      "metadata": {
        "id": "X20chyuP4v0-"
      }
    },
    {
      "cell_type": "code",
      "execution_count": 1,
      "metadata": {
        "id": "b632-3v83hDm"
      },
      "outputs": [],
      "source": [
        "import pandas as pd\n",
        "import numpy as np\n",
        "import matplotlib.pyplot as plt\n",
        "import seaborn as sns"
      ]
    },
    {
      "cell_type": "code",
      "source": [
        "file_url = 'https://raw.githubusercontent.com/musthave-ML10/data_source/main/customer_pca.csv'\n",
        "customer = pd.read_csv(file_url)\n",
        "customer.head()"
      ],
      "metadata": {
        "colab": {
          "base_uri": "https://localhost:8080/",
          "height": 270
        },
        "id": "Q-etBWyB41_V",
        "outputId": "1ed499c6-2b83-4c70-80ef-9cbf0395b846"
      },
      "execution_count": 2,
      "outputs": [
        {
          "output_type": "execute_result",
          "data": {
            "text/plain": [
              "        amt  category_entertainment  category_food_dining  \\\n",
              "0 -1.402327               -1.135617             -0.971069   \n",
              "1  1.079407                0.414075              0.168880   \n",
              "2  1.200151                0.747127              1.622968   \n",
              "3 -1.474915               -1.129427             -1.539741   \n",
              "4  0.901491                0.257905             -0.320220   \n",
              "\n",
              "   category_gas_transport  category_grocery  category_health_fitness  \\\n",
              "0               -1.000180         -1.118217                -1.561756   \n",
              "1                2.090013          0.767268                 1.040236   \n",
              "2               -0.606627          0.439476                 1.376630   \n",
              "3               -0.930355         -1.079803                -1.222903   \n",
              "4                2.083588          0.540547                 0.705908   \n",
              "\n",
              "   category_home  category_kids_pets  category_misc  category_personal_care  \\\n",
              "0      -1.145051           -1.276913      -1.124693               -1.070260   \n",
              "1       0.844969            1.127922       1.210503                1.807350   \n",
              "2       2.126364            0.378610      -0.196523                0.127825   \n",
              "3      -1.572733           -1.516610      -1.274986               -1.185705   \n",
              "4       1.097814            0.955178       1.198524                1.640103   \n",
              "\n",
              "   category_shopping  category_travel  label  \n",
              "0          -1.141424        -0.619930      0  \n",
              "1           0.659967        -0.222587      3  \n",
              "2           1.299938         2.766891      1  \n",
              "3          -1.166127        -0.601675      0  \n",
              "4           0.578781        -0.484796      3  "
            ],
            "text/html": [
              "\n",
              "  <div id=\"df-3489442d-07c1-4202-8df4-c2390cc52f3e\">\n",
              "    <div class=\"colab-df-container\">\n",
              "      <div>\n",
              "<style scoped>\n",
              "    .dataframe tbody tr th:only-of-type {\n",
              "        vertical-align: middle;\n",
              "    }\n",
              "\n",
              "    .dataframe tbody tr th {\n",
              "        vertical-align: top;\n",
              "    }\n",
              "\n",
              "    .dataframe thead th {\n",
              "        text-align: right;\n",
              "    }\n",
              "</style>\n",
              "<table border=\"1\" class=\"dataframe\">\n",
              "  <thead>\n",
              "    <tr style=\"text-align: right;\">\n",
              "      <th></th>\n",
              "      <th>amt</th>\n",
              "      <th>category_entertainment</th>\n",
              "      <th>category_food_dining</th>\n",
              "      <th>category_gas_transport</th>\n",
              "      <th>category_grocery</th>\n",
              "      <th>category_health_fitness</th>\n",
              "      <th>category_home</th>\n",
              "      <th>category_kids_pets</th>\n",
              "      <th>category_misc</th>\n",
              "      <th>category_personal_care</th>\n",
              "      <th>category_shopping</th>\n",
              "      <th>category_travel</th>\n",
              "      <th>label</th>\n",
              "    </tr>\n",
              "  </thead>\n",
              "  <tbody>\n",
              "    <tr>\n",
              "      <th>0</th>\n",
              "      <td>-1.402327</td>\n",
              "      <td>-1.135617</td>\n",
              "      <td>-0.971069</td>\n",
              "      <td>-1.000180</td>\n",
              "      <td>-1.118217</td>\n",
              "      <td>-1.561756</td>\n",
              "      <td>-1.145051</td>\n",
              "      <td>-1.276913</td>\n",
              "      <td>-1.124693</td>\n",
              "      <td>-1.070260</td>\n",
              "      <td>-1.141424</td>\n",
              "      <td>-0.619930</td>\n",
              "      <td>0</td>\n",
              "    </tr>\n",
              "    <tr>\n",
              "      <th>1</th>\n",
              "      <td>1.079407</td>\n",
              "      <td>0.414075</td>\n",
              "      <td>0.168880</td>\n",
              "      <td>2.090013</td>\n",
              "      <td>0.767268</td>\n",
              "      <td>1.040236</td>\n",
              "      <td>0.844969</td>\n",
              "      <td>1.127922</td>\n",
              "      <td>1.210503</td>\n",
              "      <td>1.807350</td>\n",
              "      <td>0.659967</td>\n",
              "      <td>-0.222587</td>\n",
              "      <td>3</td>\n",
              "    </tr>\n",
              "    <tr>\n",
              "      <th>2</th>\n",
              "      <td>1.200151</td>\n",
              "      <td>0.747127</td>\n",
              "      <td>1.622968</td>\n",
              "      <td>-0.606627</td>\n",
              "      <td>0.439476</td>\n",
              "      <td>1.376630</td>\n",
              "      <td>2.126364</td>\n",
              "      <td>0.378610</td>\n",
              "      <td>-0.196523</td>\n",
              "      <td>0.127825</td>\n",
              "      <td>1.299938</td>\n",
              "      <td>2.766891</td>\n",
              "      <td>1</td>\n",
              "    </tr>\n",
              "    <tr>\n",
              "      <th>3</th>\n",
              "      <td>-1.474915</td>\n",
              "      <td>-1.129427</td>\n",
              "      <td>-1.539741</td>\n",
              "      <td>-0.930355</td>\n",
              "      <td>-1.079803</td>\n",
              "      <td>-1.222903</td>\n",
              "      <td>-1.572733</td>\n",
              "      <td>-1.516610</td>\n",
              "      <td>-1.274986</td>\n",
              "      <td>-1.185705</td>\n",
              "      <td>-1.166127</td>\n",
              "      <td>-0.601675</td>\n",
              "      <td>0</td>\n",
              "    </tr>\n",
              "    <tr>\n",
              "      <th>4</th>\n",
              "      <td>0.901491</td>\n",
              "      <td>0.257905</td>\n",
              "      <td>-0.320220</td>\n",
              "      <td>2.083588</td>\n",
              "      <td>0.540547</td>\n",
              "      <td>0.705908</td>\n",
              "      <td>1.097814</td>\n",
              "      <td>0.955178</td>\n",
              "      <td>1.198524</td>\n",
              "      <td>1.640103</td>\n",
              "      <td>0.578781</td>\n",
              "      <td>-0.484796</td>\n",
              "      <td>3</td>\n",
              "    </tr>\n",
              "  </tbody>\n",
              "</table>\n",
              "</div>\n",
              "      <button class=\"colab-df-convert\" onclick=\"convertToInteractive('df-3489442d-07c1-4202-8df4-c2390cc52f3e')\"\n",
              "              title=\"Convert this dataframe to an interactive table.\"\n",
              "              style=\"display:none;\">\n",
              "        \n",
              "  <svg xmlns=\"http://www.w3.org/2000/svg\" height=\"24px\"viewBox=\"0 0 24 24\"\n",
              "       width=\"24px\">\n",
              "    <path d=\"M0 0h24v24H0V0z\" fill=\"none\"/>\n",
              "    <path d=\"M18.56 5.44l.94 2.06.94-2.06 2.06-.94-2.06-.94-.94-2.06-.94 2.06-2.06.94zm-11 1L8.5 8.5l.94-2.06 2.06-.94-2.06-.94L8.5 2.5l-.94 2.06-2.06.94zm10 10l.94 2.06.94-2.06 2.06-.94-2.06-.94-.94-2.06-.94 2.06-2.06.94z\"/><path d=\"M17.41 7.96l-1.37-1.37c-.4-.4-.92-.59-1.43-.59-.52 0-1.04.2-1.43.59L10.3 9.45l-7.72 7.72c-.78.78-.78 2.05 0 2.83L4 21.41c.39.39.9.59 1.41.59.51 0 1.02-.2 1.41-.59l7.78-7.78 2.81-2.81c.8-.78.8-2.07 0-2.86zM5.41 20L4 18.59l7.72-7.72 1.47 1.35L5.41 20z\"/>\n",
              "  </svg>\n",
              "      </button>\n",
              "      \n",
              "  <style>\n",
              "    .colab-df-container {\n",
              "      display:flex;\n",
              "      flex-wrap:wrap;\n",
              "      gap: 12px;\n",
              "    }\n",
              "\n",
              "    .colab-df-convert {\n",
              "      background-color: #E8F0FE;\n",
              "      border: none;\n",
              "      border-radius: 50%;\n",
              "      cursor: pointer;\n",
              "      display: none;\n",
              "      fill: #1967D2;\n",
              "      height: 32px;\n",
              "      padding: 0 0 0 0;\n",
              "      width: 32px;\n",
              "    }\n",
              "\n",
              "    .colab-df-convert:hover {\n",
              "      background-color: #E2EBFA;\n",
              "      box-shadow: 0px 1px 2px rgba(60, 64, 67, 0.3), 0px 1px 3px 1px rgba(60, 64, 67, 0.15);\n",
              "      fill: #174EA6;\n",
              "    }\n",
              "\n",
              "    [theme=dark] .colab-df-convert {\n",
              "      background-color: #3B4455;\n",
              "      fill: #D2E3FC;\n",
              "    }\n",
              "\n",
              "    [theme=dark] .colab-df-convert:hover {\n",
              "      background-color: #434B5C;\n",
              "      box-shadow: 0px 1px 3px 1px rgba(0, 0, 0, 0.15);\n",
              "      filter: drop-shadow(0px 1px 2px rgba(0, 0, 0, 0.3));\n",
              "      fill: #FFFFFF;\n",
              "    }\n",
              "  </style>\n",
              "\n",
              "      <script>\n",
              "        const buttonEl =\n",
              "          document.querySelector('#df-3489442d-07c1-4202-8df4-c2390cc52f3e button.colab-df-convert');\n",
              "        buttonEl.style.display =\n",
              "          google.colab.kernel.accessAllowed ? 'block' : 'none';\n",
              "\n",
              "        async function convertToInteractive(key) {\n",
              "          const element = document.querySelector('#df-3489442d-07c1-4202-8df4-c2390cc52f3e');\n",
              "          const dataTable =\n",
              "            await google.colab.kernel.invokeFunction('convertToInteractive',\n",
              "                                                     [key], {});\n",
              "          if (!dataTable) return;\n",
              "\n",
              "          const docLinkHtml = 'Like what you see? Visit the ' +\n",
              "            '<a target=\"_blank\" href=https://colab.research.google.com/notebooks/data_table.ipynb>data table notebook</a>'\n",
              "            + ' to learn more about interactive tables.';\n",
              "          element.innerHTML = '';\n",
              "          dataTable['output_type'] = 'display_data';\n",
              "          await google.colab.output.renderOutput(dataTable, element);\n",
              "          const docLink = document.createElement('div');\n",
              "          docLink.innerHTML = docLinkHtml;\n",
              "          element.appendChild(docLink);\n",
              "        }\n",
              "      </script>\n",
              "    </div>\n",
              "  </div>\n",
              "  "
            ]
          },
          "metadata": {},
          "execution_count": 2
        }
      ]
    },
    {
      "cell_type": "markdown",
      "source": [
        "고객별 총 지출금액 및 범주별 지출금액이 스케일링 된 상태로 정리되어 있고, 마지막 컬럼에는 각 고객이 속한 클러스터 라벨(label)이 들어있음\n",
        "- 변수가 너무 많아 2차원의 그림으로 표현하기 어려움\n",
        "- PCA를 사용하여 이 변수들을 변수 2개로 축소한 뒤 산점도 그래프로 출력해 클러스터가 어떻게 나뉘었는지 확인"
      ],
      "metadata": {
        "id": "e_v-MzTo5JGd"
      }
    },
    {
      "cell_type": "code",
      "source": [
        "customer_X = customer.drop('label', axis=1)  # 독립변수\n",
        "customer_y = customer['label']  # 종속변수"
      ],
      "metadata": {
        "id": "L26yB-iC4_j8"
      },
      "execution_count": 3,
      "outputs": []
    },
    {
      "cell_type": "markdown",
      "source": [
        "### 그래프 표현을 위한 차원 축소"
      ],
      "metadata": {
        "id": "nyySmhoM5f9X"
      }
    },
    {
      "cell_type": "code",
      "source": [
        "from sklearn.decomposition import PCA\n",
        "pca = PCA(n_components=2)  # 주성분 개수 지정\n",
        "pca.fit(customer_X)  # 학습\n",
        "customer_pca = pca.transform(customer_X)  # 변환\n",
        "customer_pca"
      ],
      "metadata": {
        "colab": {
          "base_uri": "https://localhost:8080/"
        },
        "id": "bSI4uv4G5e_9",
        "outputId": "7d1d0784-e8c4-4f65-d51d-579d98634211"
      },
      "execution_count": 4,
      "outputs": [
        {
          "output_type": "execute_result",
          "data": {
            "text/plain": [
              "array([[-3.92906072e+00,  1.02604491e-01],\n",
              "       [ 3.10758276e+00, -1.74887930e+00],\n",
              "       [ 3.02379272e+00,  3.21221215e+00],\n",
              "       [-4.28241767e+00,  1.13781030e-02],\n",
              "       [ 2.59065802e+00, -1.90612064e+00],\n",
              "       [ 8.70343520e-01, -1.79154348e-02],\n",
              "       [-1.16508938e+00,  2.00387900e+00],\n",
              "       [ 1.41163657e+00, -1.21220170e+00],\n",
              "       [ 1.79302072e-01, -1.15337545e+00],\n",
              "       [-2.74166293e+00, -3.48112299e-02],\n",
              "       [ 4.03108363e-01, -2.56426911e-01],\n",
              "       [-4.32816586e+00,  1.09280479e-01],\n",
              "       [-1.06779010e+00, -4.71336448e-01],\n",
              "       [-3.54208654e+00,  2.09373453e-01],\n",
              "       [ 3.00321739e+00,  6.85140300e-02],\n",
              "       [ 5.08464052e+00, -1.92234923e+00],\n",
              "       [-1.39044460e+00,  3.22162225e-01],\n",
              "       [-2.64318989e+00, -4.59744830e-01],\n",
              "       [-7.37714393e-01, -9.30393910e-01],\n",
              "       [-3.93420145e+00,  1.62749639e-01],\n",
              "       [ 3.16675507e-01, -4.22288613e-01],\n",
              "       [ 7.31864853e+00,  5.17885391e-02],\n",
              "       [ 6.60448573e-01, -1.13828656e+00],\n",
              "       [-3.96099431e+00, -5.54999191e-02],\n",
              "       [ 2.88515690e+00, -1.50950875e+00],\n",
              "       [-9.13413956e-01, -2.84250823e-01],\n",
              "       [ 7.47738674e+00,  4.13602819e-01],\n",
              "       [ 8.51161986e-01,  2.66450095e+00],\n",
              "       [ 3.11683289e+00,  3.55512199e+00],\n",
              "       [-2.61734209e+00, -2.27449931e-03],\n",
              "       [-1.22771428e-01, -3.31216229e-01],\n",
              "       [ 9.13108512e-01,  3.00138893e+00],\n",
              "       [-9.55686582e-02, -2.02640440e-01],\n",
              "       [ 2.51249575e+00, -6.33108713e-01],\n",
              "       [ 3.12230426e+00,  3.70599880e+00],\n",
              "       [ 3.14778237e+00,  4.33267256e+00],\n",
              "       [ 6.06549063e-01, -9.86110799e-01],\n",
              "       [-3.46744343e+00,  1.08940594e+00],\n",
              "       [ 6.18615770e-02, -1.27174586e+00],\n",
              "       [ 2.87266476e-01, -1.05338012e+00],\n",
              "       [ 5.08834370e-01, -2.02343984e-01],\n",
              "       [-9.01515768e-01, -2.68070767e-01],\n",
              "       [-8.05819264e-02, -6.27176745e-01],\n",
              "       [-2.57697663e+00, -1.32747276e-01],\n",
              "       [ 2.92716445e+00,  4.17160726e-01],\n",
              "       [ 7.53139122e+00,  8.91638114e-01],\n",
              "       [ 2.37952005e+00, -1.70940926e+00],\n",
              "       [-1.24997746e+00,  2.93538981e-01],\n",
              "       [ 5.08939438e-01,  5.05213153e-01],\n",
              "       [ 2.00027356e+00, -5.82652255e-01],\n",
              "       [-4.11163191e+00,  1.20451458e-02],\n",
              "       [ 7.19921286e-01, -1.02373898e+00],\n",
              "       [ 5.13207228e+00, -3.55005462e-02],\n",
              "       [-1.30152112e+00, -2.92916652e-01],\n",
              "       [-1.26229904e+00,  1.99571763e+00],\n",
              "       [-3.92072783e+00,  4.19591569e-01],\n",
              "       [-3.92335605e+00,  2.90238232e-01],\n",
              "       [-1.07974232e+00, -7.56236332e-01],\n",
              "       [ 2.29847276e+00, -1.71731618e+00],\n",
              "       [-2.41712125e+00, -1.65314491e-01],\n",
              "       [-1.94038751e+00,  8.65325435e-02],\n",
              "       [ 9.61908159e-01,  3.07626115e+00],\n",
              "       [ 3.07761364e+00,  6.23734925e-01],\n",
              "       [ 6.98825143e-02, -1.26850385e+00],\n",
              "       [-3.83324310e+00,  1.04062564e-01],\n",
              "       [ 5.07062308e+00,  3.66619197e-01],\n",
              "       [ 3.03194691e+00,  3.70983803e+00],\n",
              "       [-3.79352069e+00,  2.43265665e-01],\n",
              "       [ 8.44571030e-01, -9.03608885e-01],\n",
              "       [ 1.10497065e+00, -5.69239958e-01],\n",
              "       [-1.20868859e+00, -5.47974662e-01],\n",
              "       [-3.74634015e+00,  6.45711112e-01],\n",
              "       [ 6.55382011e-01, -6.80909837e-01],\n",
              "       [ 3.18270985e+00, -1.60458982e+00],\n",
              "       [-6.86581666e-01,  4.12809181e-02],\n",
              "       [-1.14472565e+00, -5.80928792e-01],\n",
              "       [ 2.25158156e+00, -1.86551742e+00],\n",
              "       [-4.11846276e+00,  2.43692755e-01],\n",
              "       [-3.61019796e+00,  3.80018798e-01],\n",
              "       [-2.39950827e+00, -2.99975577e-01],\n",
              "       [-1.38050726e+00,  2.37925206e-01],\n",
              "       [ 5.69227545e-01, -9.45067658e-01],\n",
              "       [-7.54661391e-01, -5.46883930e-02],\n",
              "       [-2.06403817e+00, -2.02782822e-01],\n",
              "       [-1.25451597e+00, -5.30717565e-02],\n",
              "       [ 5.47010496e-01, -1.18056800e+00],\n",
              "       [ 7.28182232e+00,  3.68954923e-01],\n",
              "       [ 1.51779943e-01, -2.94127566e-01],\n",
              "       [-1.06550470e+00, -6.32866500e-01],\n",
              "       [ 2.20734751e+00, -1.60190057e+00],\n",
              "       [ 5.58915914e-01,  2.22725170e-01],\n",
              "       [-4.39374365e+00,  1.84102321e-02],\n",
              "       [-2.09512738e+00, -2.05503210e-01],\n",
              "       [-1.93572397e+00, -1.86190550e-01],\n",
              "       [ 1.57812958e-01, -5.61152392e-01],\n",
              "       [ 3.05786793e+00, -2.07006100e+00],\n",
              "       [-1.98087248e+00, -1.85123765e-01],\n",
              "       [-3.46538499e+00,  1.02229842e+00],\n",
              "       [-3.27716415e+00,  1.39247995e+00],\n",
              "       [ 2.17218468e+00, -6.13946378e-01]])"
            ]
          },
          "metadata": {},
          "execution_count": 4
        }
      ]
    },
    {
      "cell_type": "code",
      "source": [
        "# 데이터프레임으로 변환\n",
        "customer_pca = pd.DataFrame(customer_pca, columns = ['PC1', 'PC2'])"
      ],
      "metadata": {
        "id": "ST77xGIW5uMa"
      },
      "execution_count": 5,
      "outputs": []
    },
    {
      "cell_type": "code",
      "source": [
        "customer_pca = customer_pca.join(customer_y)  # 데이터 합치기\n",
        "customer_pca.head()"
      ],
      "metadata": {
        "colab": {
          "base_uri": "https://localhost:8080/",
          "height": 206
        },
        "id": "aL_81kA158z6",
        "outputId": "3717a026-3762-400a-c45e-eaeb3edab369"
      },
      "execution_count": 6,
      "outputs": [
        {
          "output_type": "execute_result",
          "data": {
            "text/plain": [
              "        PC1       PC2  label\n",
              "0 -3.929061  0.102604      0\n",
              "1  3.107583 -1.748879      3\n",
              "2  3.023793  3.212212      1\n",
              "3 -4.282418  0.011378      0\n",
              "4  2.590658 -1.906121      3"
            ],
            "text/html": [
              "\n",
              "  <div id=\"df-c15534c0-5c66-42b2-9e68-78879eeef651\">\n",
              "    <div class=\"colab-df-container\">\n",
              "      <div>\n",
              "<style scoped>\n",
              "    .dataframe tbody tr th:only-of-type {\n",
              "        vertical-align: middle;\n",
              "    }\n",
              "\n",
              "    .dataframe tbody tr th {\n",
              "        vertical-align: top;\n",
              "    }\n",
              "\n",
              "    .dataframe thead th {\n",
              "        text-align: right;\n",
              "    }\n",
              "</style>\n",
              "<table border=\"1\" class=\"dataframe\">\n",
              "  <thead>\n",
              "    <tr style=\"text-align: right;\">\n",
              "      <th></th>\n",
              "      <th>PC1</th>\n",
              "      <th>PC2</th>\n",
              "      <th>label</th>\n",
              "    </tr>\n",
              "  </thead>\n",
              "  <tbody>\n",
              "    <tr>\n",
              "      <th>0</th>\n",
              "      <td>-3.929061</td>\n",
              "      <td>0.102604</td>\n",
              "      <td>0</td>\n",
              "    </tr>\n",
              "    <tr>\n",
              "      <th>1</th>\n",
              "      <td>3.107583</td>\n",
              "      <td>-1.748879</td>\n",
              "      <td>3</td>\n",
              "    </tr>\n",
              "    <tr>\n",
              "      <th>2</th>\n",
              "      <td>3.023793</td>\n",
              "      <td>3.212212</td>\n",
              "      <td>1</td>\n",
              "    </tr>\n",
              "    <tr>\n",
              "      <th>3</th>\n",
              "      <td>-4.282418</td>\n",
              "      <td>0.011378</td>\n",
              "      <td>0</td>\n",
              "    </tr>\n",
              "    <tr>\n",
              "      <th>4</th>\n",
              "      <td>2.590658</td>\n",
              "      <td>-1.906121</td>\n",
              "      <td>3</td>\n",
              "    </tr>\n",
              "  </tbody>\n",
              "</table>\n",
              "</div>\n",
              "      <button class=\"colab-df-convert\" onclick=\"convertToInteractive('df-c15534c0-5c66-42b2-9e68-78879eeef651')\"\n",
              "              title=\"Convert this dataframe to an interactive table.\"\n",
              "              style=\"display:none;\">\n",
              "        \n",
              "  <svg xmlns=\"http://www.w3.org/2000/svg\" height=\"24px\"viewBox=\"0 0 24 24\"\n",
              "       width=\"24px\">\n",
              "    <path d=\"M0 0h24v24H0V0z\" fill=\"none\"/>\n",
              "    <path d=\"M18.56 5.44l.94 2.06.94-2.06 2.06-.94-2.06-.94-.94-2.06-.94 2.06-2.06.94zm-11 1L8.5 8.5l.94-2.06 2.06-.94-2.06-.94L8.5 2.5l-.94 2.06-2.06.94zm10 10l.94 2.06.94-2.06 2.06-.94-2.06-.94-.94-2.06-.94 2.06-2.06.94z\"/><path d=\"M17.41 7.96l-1.37-1.37c-.4-.4-.92-.59-1.43-.59-.52 0-1.04.2-1.43.59L10.3 9.45l-7.72 7.72c-.78.78-.78 2.05 0 2.83L4 21.41c.39.39.9.59 1.41.59.51 0 1.02-.2 1.41-.59l7.78-7.78 2.81-2.81c.8-.78.8-2.07 0-2.86zM5.41 20L4 18.59l7.72-7.72 1.47 1.35L5.41 20z\"/>\n",
              "  </svg>\n",
              "      </button>\n",
              "      \n",
              "  <style>\n",
              "    .colab-df-container {\n",
              "      display:flex;\n",
              "      flex-wrap:wrap;\n",
              "      gap: 12px;\n",
              "    }\n",
              "\n",
              "    .colab-df-convert {\n",
              "      background-color: #E8F0FE;\n",
              "      border: none;\n",
              "      border-radius: 50%;\n",
              "      cursor: pointer;\n",
              "      display: none;\n",
              "      fill: #1967D2;\n",
              "      height: 32px;\n",
              "      padding: 0 0 0 0;\n",
              "      width: 32px;\n",
              "    }\n",
              "\n",
              "    .colab-df-convert:hover {\n",
              "      background-color: #E2EBFA;\n",
              "      box-shadow: 0px 1px 2px rgba(60, 64, 67, 0.3), 0px 1px 3px 1px rgba(60, 64, 67, 0.15);\n",
              "      fill: #174EA6;\n",
              "    }\n",
              "\n",
              "    [theme=dark] .colab-df-convert {\n",
              "      background-color: #3B4455;\n",
              "      fill: #D2E3FC;\n",
              "    }\n",
              "\n",
              "    [theme=dark] .colab-df-convert:hover {\n",
              "      background-color: #434B5C;\n",
              "      box-shadow: 0px 1px 3px 1px rgba(0, 0, 0, 0.15);\n",
              "      filter: drop-shadow(0px 1px 2px rgba(0, 0, 0, 0.3));\n",
              "      fill: #FFFFFF;\n",
              "    }\n",
              "  </style>\n",
              "\n",
              "      <script>\n",
              "        const buttonEl =\n",
              "          document.querySelector('#df-c15534c0-5c66-42b2-9e68-78879eeef651 button.colab-df-convert');\n",
              "        buttonEl.style.display =\n",
              "          google.colab.kernel.accessAllowed ? 'block' : 'none';\n",
              "\n",
              "        async function convertToInteractive(key) {\n",
              "          const element = document.querySelector('#df-c15534c0-5c66-42b2-9e68-78879eeef651');\n",
              "          const dataTable =\n",
              "            await google.colab.kernel.invokeFunction('convertToInteractive',\n",
              "                                                     [key], {});\n",
              "          if (!dataTable) return;\n",
              "\n",
              "          const docLinkHtml = 'Like what you see? Visit the ' +\n",
              "            '<a target=\"_blank\" href=https://colab.research.google.com/notebooks/data_table.ipynb>data table notebook</a>'\n",
              "            + ' to learn more about interactive tables.';\n",
              "          element.innerHTML = '';\n",
              "          dataTable['output_type'] = 'display_data';\n",
              "          await google.colab.output.renderOutput(dataTable, element);\n",
              "          const docLink = document.createElement('div');\n",
              "          docLink.innerHTML = docLinkHtml;\n",
              "          element.appendChild(docLink);\n",
              "        }\n",
              "      </script>\n",
              "    </div>\n",
              "  </div>\n",
              "  "
            ]
          },
          "metadata": {},
          "execution_count": 6
        }
      ]
    },
    {
      "cell_type": "code",
      "source": [
        "sns.scatterplot(x='PC1', y='PC2', data=customer_pca, hue='label', palette='rainbow')"
      ],
      "metadata": {
        "colab": {
          "base_uri": "https://localhost:8080/",
          "height": 467
        },
        "id": "qt2xOJvW6CXD",
        "outputId": "490e72eb-8b73-4046-fb4a-d1e1dde22009"
      },
      "execution_count": 7,
      "outputs": [
        {
          "output_type": "execute_result",
          "data": {
            "text/plain": [
              "<Axes: xlabel='PC1', ylabel='PC2'>"
            ]
          },
          "metadata": {},
          "execution_count": 7
        },
        {
          "output_type": "display_data",
          "data": {
            "text/plain": [
              "<Figure size 640x480 with 1 Axes>"
            ],
            "image/png": "[encoded data removed]"
          },
          "metadata": {}
        }
      ]
    },
    {
      "cell_type": "markdown",
      "source": [
        "보라색과 빨간색 클러스터는 가깝게 붙어 있어서 경계가 모호하기는 하지만 언뜻 보기에 그럴싸하게 잘 나뉨\n",
        "- PCA를 통해 얻어낸 변수 PC1과 PC2는 기존의 모든 변수를 복합적으로 반영하여 만들어졌기 때문에명료하게 이 새로운 변수들을 해석하기 쉽지 않음\n",
        "- `pca.components_`를 사용하면 각 주성분과 기존 변수와의 상관관계를 알 수 있음"
      ],
      "metadata": {
        "id": "2VpWl5TL6SI_"
      }
    },
    {
      "cell_type": "code",
      "source": [
        "pca.components_  # 주성분과 변수의 관계 확인"
      ],
      "metadata": {
        "colab": {
          "base_uri": "https://localhost:8080/"
        },
        "id": "A7X-gxcP6MVp",
        "outputId": "27b2c397-6c0f-4860-ee48-29b00aa0a978"
      },
      "execution_count": 8,
      "outputs": [
        {
          "output_type": "execute_result",
          "data": {
            "text/plain": [
              "array([[ 0.3484681 ,  0.32447242,  0.30303652,  0.14186907,  0.30618347,\n",
              "         0.31297263,  0.29718852,  0.3045823 ,  0.29341337,  0.30287672,\n",
              "         0.32053447,  0.08927503],\n",
              "       [ 0.05827591,  0.06034266,  0.15264674, -0.54435586,  0.03109502,\n",
              "         0.03790586,  0.23809571, -0.2315275 , -0.2471928 , -0.20898284,\n",
              "         0.14479001,  0.65946781]])"
            ]
          },
          "metadata": {},
          "execution_count": 8
        }
      ]
    },
    {
      "cell_type": "code",
      "source": [
        "df_comp = pd.DataFrame(pca.components_, columns=customer_X.columns)  # 데이터프레임으로 변환\n",
        "df_comp"
      ],
      "metadata": {
        "colab": {
          "base_uri": "https://localhost:8080/",
          "height": 176
        },
        "id": "2LVP5WtH6gCt",
        "outputId": "c0b0e207-1976-49dd-e856-611659eec381"
      },
      "execution_count": 9,
      "outputs": [
        {
          "output_type": "execute_result",
          "data": {
            "text/plain": [
              "        amt  category_entertainment  category_food_dining  \\\n",
              "0  0.348468                0.324472              0.303037   \n",
              "1  0.058276                0.060343              0.152647   \n",
              "\n",
              "   category_gas_transport  category_grocery  category_health_fitness  \\\n",
              "0                0.141869          0.306183                 0.312973   \n",
              "1               -0.544356          0.031095                 0.037906   \n",
              "\n",
              "   category_home  category_kids_pets  category_misc  category_personal_care  \\\n",
              "0       0.297189            0.304582       0.293413                0.302877   \n",
              "1       0.238096           -0.231528      -0.247193               -0.208983   \n",
              "\n",
              "   category_shopping  category_travel  \n",
              "0           0.320534         0.089275  \n",
              "1           0.144790         0.659468  "
            ],
            "text/html": [
              "\n",
              "  <div id=\"df-701d85f7-7591-487c-b38d-3648ae30f5b4\">\n",
              "    <div class=\"colab-df-container\">\n",
              "      <div>\n",
              "<style scoped>\n",
              "    .dataframe tbody tr th:only-of-type {\n",
              "        vertical-align: middle;\n",
              "    }\n",
              "\n",
              "    .dataframe tbody tr th {\n",
              "        vertical-align: top;\n",
              "    }\n",
              "\n",
              "    .dataframe thead th {\n",
              "        text-align: right;\n",
              "    }\n",
              "</style>\n",
              "<table border=\"1\" class=\"dataframe\">\n",
              "  <thead>\n",
              "    <tr style=\"text-align: right;\">\n",
              "      <th></th>\n",
              "      <th>amt</th>\n",
              "      <th>category_entertainment</th>\n",
              "      <th>category_food_dining</th>\n",
              "      <th>category_gas_transport</th>\n",
              "      <th>category_grocery</th>\n",
              "      <th>category_health_fitness</th>\n",
              "      <th>category_home</th>\n",
              "      <th>category_kids_pets</th>\n",
              "      <th>category_misc</th>\n",
              "      <th>category_personal_care</th>\n",
              "      <th>category_shopping</th>\n",
              "      <th>category_travel</th>\n",
              "    </tr>\n",
              "  </thead>\n",
              "  <tbody>\n",
              "    <tr>\n",
              "      <th>0</th>\n",
              "      <td>0.348468</td>\n",
              "      <td>0.324472</td>\n",
              "      <td>0.303037</td>\n",
              "      <td>0.141869</td>\n",
              "      <td>0.306183</td>\n",
              "      <td>0.312973</td>\n",
              "      <td>0.297189</td>\n",
              "      <td>0.304582</td>\n",
              "      <td>0.293413</td>\n",
              "      <td>0.302877</td>\n",
              "      <td>0.320534</td>\n",
              "      <td>0.089275</td>\n",
              "    </tr>\n",
              "    <tr>\n",
              "      <th>1</th>\n",
              "      <td>0.058276</td>\n",
              "      <td>0.060343</td>\n",
              "      <td>0.152647</td>\n",
              "      <td>-0.544356</td>\n",
              "      <td>0.031095</td>\n",
              "      <td>0.037906</td>\n",
              "      <td>0.238096</td>\n",
              "      <td>-0.231528</td>\n",
              "      <td>-0.247193</td>\n",
              "      <td>-0.208983</td>\n",
              "      <td>0.144790</td>\n",
              "      <td>0.659468</td>\n",
              "    </tr>\n",
              "  </tbody>\n",
              "</table>\n",
              "</div>\n",
              "      <button class=\"colab-df-convert\" onclick=\"convertToInteractive('df-701d85f7-7591-487c-b38d-3648ae30f5b4')\"\n",
              "              title=\"Convert this dataframe to an interactive table.\"\n",
              "              style=\"display:none;\">\n",
              "        \n",
              "  <svg xmlns=\"http://www.w3.org/2000/svg\" height=\"24px\"viewBox=\"0 0 24 24\"\n",
              "       width=\"24px\">\n",
              "    <path d=\"M0 0h24v24H0V0z\" fill=\"none\"/>\n",
              "    <path d=\"M18.56 5.44l.94 2.06.94-2.06 2.06-.94-2.06-.94-.94-2.06-.94 2.06-2.06.94zm-11 1L8.5 8.5l.94-2.06 2.06-.94-2.06-.94L8.5 2.5l-.94 2.06-2.06.94zm10 10l.94 2.06.94-2.06 2.06-.94-2.06-.94-.94-2.06-.94 2.06-2.06.94z\"/><path d=\"M17.41 7.96l-1.37-1.37c-.4-.4-.92-.59-1.43-.59-.52 0-1.04.2-1.43.59L10.3 9.45l-7.72 7.72c-.78.78-.78 2.05 0 2.83L4 21.41c.39.39.9.59 1.41.59.51 0 1.02-.2 1.41-.59l7.78-7.78 2.81-2.81c.8-.78.8-2.07 0-2.86zM5.41 20L4 18.59l7.72-7.72 1.47 1.35L5.41 20z\"/>\n",
              "  </svg>\n",
              "      </button>\n",
              "      \n",
              "  <style>\n",
              "    .colab-df-container {\n",
              "      display:flex;\n",
              "      flex-wrap:wrap;\n",
              "      gap: 12px;\n",
              "    }\n",
              "\n",
              "    .colab-df-convert {\n",
              "      background-color: #E8F0FE;\n",
              "      border: none;\n",
              "      border-radius: 50%;\n",
              "      cursor: pointer;\n",
              "      display: none;\n",
              "      fill: #1967D2;\n",
              "      height: 32px;\n",
              "      padding: 0 0 0 0;\n",
              "      width: 32px;\n",
              "    }\n",
              "\n",
              "    .colab-df-convert:hover {\n",
              "      background-color: #E2EBFA;\n",
              "      box-shadow: 0px 1px 2px rgba(60, 64, 67, 0.3), 0px 1px 3px 1px rgba(60, 64, 67, 0.15);\n",
              "      fill: #174EA6;\n",
              "    }\n",
              "\n",
              "    [theme=dark] .colab-df-convert {\n",
              "      background-color: #3B4455;\n",
              "      fill: #D2E3FC;\n",
              "    }\n",
              "\n",
              "    [theme=dark] .colab-df-convert:hover {\n",
              "      background-color: #434B5C;\n",
              "      box-shadow: 0px 1px 3px 1px rgba(0, 0, 0, 0.15);\n",
              "      filter: drop-shadow(0px 1px 2px rgba(0, 0, 0, 0.3));\n",
              "      fill: #FFFFFF;\n",
              "    }\n",
              "  </style>\n",
              "\n",
              "      <script>\n",
              "        const buttonEl =\n",
              "          document.querySelector('#df-701d85f7-7591-487c-b38d-3648ae30f5b4 button.colab-df-convert');\n",
              "        buttonEl.style.display =\n",
              "          google.colab.kernel.accessAllowed ? 'block' : 'none';\n",
              "\n",
              "        async function convertToInteractive(key) {\n",
              "          const element = document.querySelector('#df-701d85f7-7591-487c-b38d-3648ae30f5b4');\n",
              "          const dataTable =\n",
              "            await google.colab.kernel.invokeFunction('convertToInteractive',\n",
              "                                                     [key], {});\n",
              "          if (!dataTable) return;\n",
              "\n",
              "          const docLinkHtml = 'Like what you see? Visit the ' +\n",
              "            '<a target=\"_blank\" href=https://colab.research.google.com/notebooks/data_table.ipynb>data table notebook</a>'\n",
              "            + ' to learn more about interactive tables.';\n",
              "          element.innerHTML = '';\n",
              "          dataTable['output_type'] = 'display_data';\n",
              "          await google.colab.output.renderOutput(dataTable, element);\n",
              "          const docLink = document.createElement('div');\n",
              "          docLink.innerHTML = docLinkHtml;\n",
              "          element.appendChild(docLink);\n",
              "        }\n",
              "      </script>\n",
              "    </div>\n",
              "  </div>\n",
              "  "
            ]
          },
          "metadata": {},
          "execution_count": 9
        }
      ]
    },
    {
      "cell_type": "code",
      "source": [
        "sns.heatmap(df_comp, cmap='coolwarm')  # coolwarn: 양수이면 빨간색, 음수이면 파란색 계열로 표현"
      ],
      "metadata": {
        "colab": {
          "base_uri": "https://localhost:8080/",
          "height": 602
        },
        "id": "sarzaYwn6tzQ",
        "outputId": "a28fc0aa-155d-4ec3-b8da-89c53d2066fd"
      },
      "execution_count": 10,
      "outputs": [
        {
          "output_type": "execute_result",
          "data": {
            "text/plain": [
              "<Axes: >"
            ]
          },
          "metadata": {},
          "execution_count": 10
        },
        {
          "output_type": "display_data",
          "data": {
            "text/plain": [
              "<Figure size 640x480 with 2 Axes>"
            ],
            "image/png": "[encoded data removed]"
          },
          "metadata": {}
        }
      ]
    },
    {
      "cell_type": "markdown",
      "source": [
        "## 속도와 예측력을 향상시키기: 익명 데이터셋"
      ],
      "metadata": {
        "id": "I9AzhabS6_ap"
      }
    },
    {
      "cell_type": "markdown",
      "source": [
        "### 다차원 데이터 불러오기"
      ],
      "metadata": {
        "id": "d5_XYf7l7Bul"
      }
    },
    {
      "cell_type": "code",
      "source": [
        "file_url = 'https://media.githubusercontent.com/media/musthave-ML10/data_source/main/anonymous.csv'\n",
        "anonymous = pd.read_csv(file_url)\n",
        "anonymous.head()"
      ],
      "metadata": {
        "colab": {
          "base_uri": "https://localhost:8080/",
          "height": 236
        },
        "id": "Bo2xaiZu6ymA",
        "outputId": "8647881e-cbc1-4042-94e1-54660dabea1f"
      },
      "execution_count": 11,
      "outputs": [
        {
          "output_type": "execute_result",
          "data": {
            "text/plain": [
              "   class   V1   V2       V3   V4   V5   V6   V7       V8       V9  ...  \\\n",
              "0      1  0.0  0.0  0.56758  0.0  0.0  0.0  0.0  0.82585  0.83788  ...   \n",
              "1      1  0.0  0.0  0.56758  0.0  0.0  0.0  0.0  0.82585  0.83788  ...   \n",
              "2      1  0.0  0.0  0.56758  0.0  0.0  0.0  0.0  0.82585  0.83788  ...   \n",
              "3      1  0.0  0.0  0.56758  0.0  0.0  0.0  0.0  0.82585  0.83788  ...   \n",
              "4      1  0.0  0.0  0.56758  0.0  0.0  0.0  0.0  0.82585  0.83788  ...   \n",
              "\n",
              "     V4287    V4288     V4289    V4290    V4291     V4292     V4293     V4294  \\\n",
              "0 -0.25777  0.12220  0.348620  0.12957  0.43846 -0.108020  0.128330  0.318820   \n",
              "1 -0.15316  0.14062 -0.030201  0.10134 -0.14546 -0.166650  0.401300  0.035392   \n",
              "2 -0.40122  0.13790  0.138350  0.15746  0.51216 -0.330690  0.070346  0.179250   \n",
              "3 -0.15587 -0.26686  0.158930 -0.13204  0.32221 -0.042086  0.588970  0.526990   \n",
              "4  0.24020  0.44605 -0.163560  0.45311  0.59073  0.356800  0.395780  0.035871   \n",
              "\n",
              "      V4295    V4296  \n",
              "0 -0.041559  0.22589  \n",
              "1  0.019906  0.31952  \n",
              "2 -0.188740  0.16386  \n",
              "3 -0.574320  0.20891  \n",
              "4 -0.293430  0.38124  \n",
              "\n",
              "[5 rows x 4297 columns]"
            ],
            "text/html": [
              "\n",
              "  <div id=\"df-c5fab7bb-a47a-4527-937d-ef5fb912ba9b\">\n",
              "    <div class=\"colab-df-container\">\n",
              "      <div>\n",
              "<style scoped>\n",
              "    .dataframe tbody tr th:only-of-type {\n",
              "        vertical-align: middle;\n",
              "    }\n",
              "\n",
              "    .dataframe tbody tr th {\n",
              "        vertical-align: top;\n",
              "    }\n",
              "\n",
              "    .dataframe thead th {\n",
              "        text-align: right;\n",
              "    }\n",
              "</style>\n",
              "<table border=\"1\" class=\"dataframe\">\n",
              "  <thead>\n",
              "    <tr style=\"text-align: right;\">\n",
              "      <th></th>\n",
              "      <th>class</th>\n",
              "      <th>V1</th>\n",
              "      <th>V2</th>\n",
              "      <th>V3</th>\n",
              "      <th>V4</th>\n",
              "      <th>V5</th>\n",
              "      <th>V6</th>\n",
              "      <th>V7</th>\n",
              "      <th>V8</th>\n",
              "      <th>V9</th>\n",
              "      <th>...</th>\n",
              "      <th>V4287</th>\n",
              "      <th>V4288</th>\n",
              "      <th>V4289</th>\n",
              "      <th>V4290</th>\n",
              "      <th>V4291</th>\n",
              "      <th>V4292</th>\n",
              "      <th>V4293</th>\n",
              "      <th>V4294</th>\n",
              "      <th>V4295</th>\n",
              "      <th>V4296</th>\n",
              "    </tr>\n",
              "  </thead>\n",
              "  <tbody>\n",
              "    <tr>\n",
              "      <th>0</th>\n",
              "      <td>1</td>\n",
              "      <td>0.0</td>\n",
              "      <td>0.0</td>\n",
              "      <td>0.56758</td>\n",
              "      <td>0.0</td>\n",
              "      <td>0.0</td>\n",
              "      <td>0.0</td>\n",
              "      <td>0.0</td>\n",
              "      <td>0.82585</td>\n",
              "      <td>0.83788</td>\n",
              "      <td>...</td>\n",
              "      <td>-0.25777</td>\n",
              "      <td>0.12220</td>\n",
              "      <td>0.348620</td>\n",
              "      <td>0.12957</td>\n",
              "      <td>0.43846</td>\n",
              "      <td>-0.108020</td>\n",
              "      <td>0.128330</td>\n",
              "      <td>0.318820</td>\n",
              "      <td>-0.041559</td>\n",
              "      <td>0.22589</td>\n",
              "    </tr>\n",
              "    <tr>\n",
              "      <th>1</th>\n",
              "      <td>1</td>\n",
              "      <td>0.0</td>\n",
              "      <td>0.0</td>\n",
              "      <td>0.56758</td>\n",
              "      <td>0.0</td>\n",
              "      <td>0.0</td>\n",
              "      <td>0.0</td>\n",
              "      <td>0.0</td>\n",
              "      <td>0.82585</td>\n",
              "      <td>0.83788</td>\n",
              "      <td>...</td>\n",
              "      <td>-0.15316</td>\n",
              "      <td>0.14062</td>\n",
              "      <td>-0.030201</td>\n",
              "      <td>0.10134</td>\n",
              "      <td>-0.14546</td>\n",
              "      <td>-0.166650</td>\n",
              "      <td>0.401300</td>\n",
              "      <td>0.035392</td>\n",
              "      <td>0.019906</td>\n",
              "      <td>0.31952</td>\n",
              "    </tr>\n",
              "    <tr>\n",
              "      <th>2</th>\n",
              "      <td>1</td>\n",
              "      <td>0.0</td>\n",
              "      <td>0.0</td>\n",
              "      <td>0.56758</td>\n",
              "      <td>0.0</td>\n",
              "      <td>0.0</td>\n",
              "      <td>0.0</td>\n",
              "      <td>0.0</td>\n",
              "      <td>0.82585</td>\n",
              "      <td>0.83788</td>\n",
              "      <td>...</td>\n",
              "      <td>-0.40122</td>\n",
              "      <td>0.13790</td>\n",
              "      <td>0.138350</td>\n",
              "      <td>0.15746</td>\n",
              "      <td>0.51216</td>\n",
              "      <td>-0.330690</td>\n",
              "      <td>0.070346</td>\n",
              "      <td>0.179250</td>\n",
              "      <td>-0.188740</td>\n",
              "      <td>0.16386</td>\n",
              "    </tr>\n",
              "    <tr>\n",
              "      <th>3</th>\n",
              "      <td>1</td>\n",
              "      <td>0.0</td>\n",
              "      <td>0.0</td>\n",
              "      <td>0.56758</td>\n",
              "      <td>0.0</td>\n",
              "      <td>0.0</td>\n",
              "      <td>0.0</td>\n",
              "      <td>0.0</td>\n",
              "      <td>0.82585</td>\n",
              "      <td>0.83788</td>\n",
              "      <td>...</td>\n",
              "      <td>-0.15587</td>\n",
              "      <td>-0.26686</td>\n",
              "      <td>0.158930</td>\n",
              "      <td>-0.13204</td>\n",
              "      <td>0.32221</td>\n",
              "      <td>-0.042086</td>\n",
              "      <td>0.588970</td>\n",
              "      <td>0.526990</td>\n",
              "      <td>-0.574320</td>\n",
              "      <td>0.20891</td>\n",
              "    </tr>\n",
              "    <tr>\n",
              "      <th>4</th>\n",
              "      <td>1</td>\n",
              "      <td>0.0</td>\n",
              "      <td>0.0</td>\n",
              "      <td>0.56758</td>\n",
              "      <td>0.0</td>\n",
              "      <td>0.0</td>\n",
              "      <td>0.0</td>\n",
              "      <td>0.0</td>\n",
              "      <td>0.82585</td>\n",
              "      <td>0.83788</td>\n",
              "      <td>...</td>\n",
              "      <td>0.24020</td>\n",
              "      <td>0.44605</td>\n",
              "      <td>-0.163560</td>\n",
              "      <td>0.45311</td>\n",
              "      <td>0.59073</td>\n",
              "      <td>0.356800</td>\n",
              "      <td>0.395780</td>\n",
              "      <td>0.035871</td>\n",
              "      <td>-0.293430</td>\n",
              "      <td>0.38124</td>\n",
              "    </tr>\n",
              "  </tbody>\n",
              "</table>\n",
              "<p>5 rows × 4297 columns</p>\n",
              "</div>\n",
              "      <button class=\"colab-df-convert\" onclick=\"convertToInteractive('df-c5fab7bb-a47a-4527-937d-ef5fb912ba9b')\"\n",
              "              title=\"Convert this dataframe to an interactive table.\"\n",
              "              style=\"display:none;\">\n",
              "        \n",
              "  <svg xmlns=\"http://www.w3.org/2000/svg\" height=\"24px\"viewBox=\"0 0 24 24\"\n",
              "       width=\"24px\">\n",
              "    <path d=\"M0 0h24v24H0V0z\" fill=\"none\"/>\n",
              "    <path d=\"M18.56 5.44l.94 2.06.94-2.06 2.06-.94-2.06-.94-.94-2.06-.94 2.06-2.06.94zm-11 1L8.5 8.5l.94-2.06 2.06-.94-2.06-.94L8.5 2.5l-.94 2.06-2.06.94zm10 10l.94 2.06.94-2.06 2.06-.94-2.06-.94-.94-2.06-.94 2.06-2.06.94z\"/><path d=\"M17.41 7.96l-1.37-1.37c-.4-.4-.92-.59-1.43-.59-.52 0-1.04.2-1.43.59L10.3 9.45l-7.72 7.72c-.78.78-.78 2.05 0 2.83L4 21.41c.39.39.9.59 1.41.59.51 0 1.02-.2 1.41-.59l7.78-7.78 2.81-2.81c.8-.78.8-2.07 0-2.86zM5.41 20L4 18.59l7.72-7.72 1.47 1.35L5.41 20z\"/>\n",
              "  </svg>\n",
              "      </button>\n",
              "      \n",
              "  <style>\n",
              "    .colab-df-container {\n",
              "      display:flex;\n",
              "      flex-wrap:wrap;\n",
              "      gap: 12px;\n",
              "    }\n",
              "\n",
              "    .colab-df-convert {\n",
              "      background-color: #E8F0FE;\n",
              "      border: none;\n",
              "      border-radius: 50%;\n",
              "      cursor: pointer;\n",
              "      display: none;\n",
              "      fill: #1967D2;\n",
              "      height: 32px;\n",
              "      padding: 0 0 0 0;\n",
              "      width: 32px;\n",
              "    }\n",
              "\n",
              "    .colab-df-convert:hover {\n",
              "      background-color: #E2EBFA;\n",
              "      box-shadow: 0px 1px 2px rgba(60, 64, 67, 0.3), 0px 1px 3px 1px rgba(60, 64, 67, 0.15);\n",
              "      fill: #174EA6;\n",
              "    }\n",
              "\n",
              "    [theme=dark] .colab-df-convert {\n",
              "      background-color: #3B4455;\n",
              "      fill: #D2E3FC;\n",
              "    }\n",
              "\n",
              "    [theme=dark] .colab-df-convert:hover {\n",
              "      background-color: #434B5C;\n",
              "      box-shadow: 0px 1px 3px 1px rgba(0, 0, 0, 0.15);\n",
              "      filter: drop-shadow(0px 1px 2px rgba(0, 0, 0, 0.3));\n",
              "      fill: #FFFFFF;\n",
              "    }\n",
              "  </style>\n",
              "\n",
              "      <script>\n",
              "        const buttonEl =\n",
              "          document.querySelector('#df-c5fab7bb-a47a-4527-937d-ef5fb912ba9b button.colab-df-convert');\n",
              "        buttonEl.style.display =\n",
              "          google.colab.kernel.accessAllowed ? 'block' : 'none';\n",
              "\n",
              "        async function convertToInteractive(key) {\n",
              "          const element = document.querySelector('#df-c5fab7bb-a47a-4527-937d-ef5fb912ba9b');\n",
              "          const dataTable =\n",
              "            await google.colab.kernel.invokeFunction('convertToInteractive',\n",
              "                                                     [key], {});\n",
              "          if (!dataTable) return;\n",
              "\n",
              "          const docLinkHtml = 'Like what you see? Visit the ' +\n",
              "            '<a target=\"_blank\" href=https://colab.research.google.com/notebooks/data_table.ipynb>data table notebook</a>'\n",
              "            + ' to learn more about interactive tables.';\n",
              "          element.innerHTML = '';\n",
              "          dataTable['output_type'] = 'display_data';\n",
              "          await google.colab.output.renderOutput(dataTable, element);\n",
              "          const docLink = document.createElement('div');\n",
              "          docLink.innerHTML = docLinkHtml;\n",
              "          element.appendChild(docLink);\n",
              "        }\n",
              "      </script>\n",
              "    </div>\n",
              "  </div>\n",
              "  "
            ]
          },
          "metadata": {},
          "execution_count": 11
        }
      ]
    },
    {
      "cell_type": "markdown",
      "source": [
        "대부분 변수 이름이 V1, V2, V3,...처럼 구성되어 있어서 의미를 알 수 없음\n",
        "- 독립변수 4296개\n",
        "- 종속변수 class는 0과 1로 구성"
      ],
      "metadata": {
        "id": "KpaRVu677TXp"
      }
    },
    {
      "cell_type": "code",
      "source": [
        "anonymous['class'].mean()  # 1의 비율"
      ],
      "metadata": {
        "colab": {
          "base_uri": "https://localhost:8080/"
        },
        "id": "eYcVmL7N7OMh",
        "outputId": "30e07f83-d377-4c25-9759-9d7db73baa3a"
      },
      "execution_count": 12,
      "outputs": [
        {
          "output_type": "execute_result",
          "data": {
            "text/plain": [
              "0.25"
            ]
          },
          "metadata": {},
          "execution_count": 12
        }
      ]
    },
    {
      "cell_type": "code",
      "source": [
        "anonymous.isna().sum().sum()  # 결측치 확인"
      ],
      "metadata": {
        "colab": {
          "base_uri": "https://localhost:8080/"
        },
        "id": "zpaLj6en7gqP",
        "outputId": "63352176-ad75-4f42-d99d-52620721fe8d"
      },
      "execution_count": 13,
      "outputs": [
        {
          "output_type": "execute_result",
          "data": {
            "text/plain": [
              "0"
            ]
          },
          "metadata": {},
          "execution_count": 13
        }
      ]
    },
    {
      "cell_type": "markdown",
      "source": [
        "### PCA에 따른 모델링 성능/결과 비교"
      ],
      "metadata": {
        "id": "wlxVW2LG7rnW"
      }
    },
    {
      "cell_type": "code",
      "source": [
        "from sklearn.model_selection import train_test_split\n",
        "X_train, X_test, y_train, y_test = train_test_split(anonymous.drop('class', axis=1), anonymous['class'], test_size=0.2, random_state=100)"
      ],
      "metadata": {
        "id": "0-ZG7rOF7rQK"
      },
      "execution_count": 14,
      "outputs": []
    },
    {
      "cell_type": "markdown",
      "source": [
        "PCA에서 변수 간의 스케일을 일정하게 맞춰주는 것이 중요함"
      ],
      "metadata": {
        "id": "lBeoeA9t8GrR"
      }
    },
    {
      "cell_type": "code",
      "source": [
        "from sklearn.preprocessing import StandardScaler\n",
        "scaler = StandardScaler()\n",
        "scaler.fit(X_train)\n",
        "X_train_scaled = scaler.transform(X_train)\n",
        "X_test_scaled = scaler.transform(X_test)"
      ],
      "metadata": {
        "id": "_UA7Cmmw7p4h"
      },
      "execution_count": 15,
      "outputs": []
    },
    {
      "cell_type": "markdown",
      "source": [
        "시간이 다소 걸리는 랜덤포레스트를 사용하여 PCA 전후 시간 차이를 비교"
      ],
      "metadata": {
        "id": "at0UbBDo80rm"
      }
    },
    {
      "cell_type": "code",
      "source": [
        "from sklearn.ensemble import RandomForestClassifier\n",
        "model_1 = RandomForestClassifier(random_state=100)"
      ],
      "metadata": {
        "id": "WhXc_xVo8GTl"
      },
      "execution_count": 16,
      "outputs": []
    },
    {
      "cell_type": "code",
      "source": [
        "import time\n",
        "start_time = time.time()\n",
        "model_1.fit(X_train_scaled, y_train)\n",
        "print(time.time() - start_time)"
      ],
      "metadata": {
        "colab": {
          "base_uri": "https://localhost:8080/"
        },
        "id": "ovjDKjB88QHV",
        "outputId": "bc9e6d98-0e4e-40f5-8e53-436265ea4199"
      },
      "execution_count": 17,
      "outputs": [
        {
          "output_type": "stream",
          "name": "stdout",
          "text": [
            "123.67844295501709\n"
          ]
        }
      ]
    },
    {
      "cell_type": "code",
      "source": [
        "from sklearn.metrics import accuracy_score, roc_auc_score\n",
        "pred_1 = model_1.predict(X_test_scaled)\n",
        "accuracy_score(y_test, pred_1)  # 정확도"
      ],
      "metadata": {
        "colab": {
          "base_uri": "https://localhost:8080/"
        },
        "id": "SIq-7cXP8XDN",
        "outputId": "ab9ee4fd-654e-4dcd-9ee4-8accc521a84c"
      },
      "execution_count": 18,
      "outputs": [
        {
          "output_type": "execute_result",
          "data": {
            "text/plain": [
              "0.958"
            ]
          },
          "metadata": {},
          "execution_count": 18
        }
      ]
    },
    {
      "cell_type": "code",
      "source": [
        "proba_1 = model_1.predict_proba(X_test_scaled)\n",
        "roc_auc_score(y_test, proba_1[:, 1])  # AUC"
      ],
      "metadata": {
        "colab": {
          "base_uri": "https://localhost:8080/"
        },
        "id": "ML7OGvjF8jJC",
        "outputId": "05d36255-1118-4de3-fcd5-37904eb1601d"
      },
      "execution_count": 19,
      "outputs": [
        {
          "output_type": "execute_result",
          "data": {
            "text/plain": [
              "0.9982541957107813"
            ]
          },
          "metadata": {},
          "execution_count": 19
        }
      ]
    },
    {
      "cell_type": "markdown",
      "source": [
        "몇 개의 주성분으로 만들 것인지 정해야 함\n",
        "- 4천 개가 넘는 변수들을 단 2개로 차원 축소한 뒤 데이터 손실 확인"
      ],
      "metadata": {
        "id": "OMZxxhd688Bc"
      }
    },
    {
      "cell_type": "code",
      "source": [
        "pca = PCA(n_components=2)\n",
        "pca.fit(X_train_scaled)"
      ],
      "metadata": {
        "colab": {
          "base_uri": "https://localhost:8080/",
          "height": 75
        },
        "id": "iWZithqm9HK7",
        "outputId": "9ef45469-bde1-4f3b-bc33-c648697764a1"
      },
      "execution_count": 20,
      "outputs": [
        {
          "output_type": "execute_result",
          "data": {
            "text/plain": [
              "PCA(n_components=2)"
            ],
            "text/html": [
              "<style>#sk-container-id-1 {color: black;background-color: white;}#sk-container-id-1 pre{padding: 0;}#sk-container-id-1 div.sk-toggleable {background-color: white;}#sk-container-id-1 label.sk-toggleable__label {cursor: pointer;display: block;width: 100%;margin-bottom: 0;padding: 0.3em;box-sizing: border-box;text-align: center;}#sk-container-id-1 label.sk-toggleable__label-arrow:before {content: \"▸\";float: left;margin-right: 0.25em;color: #696969;}#sk-container-id-1 label.sk-toggleable__label-arrow:hover:before {color: black;}#sk-container-id-1 div.sk-estimator:hover label.sk-toggleable__label-arrow:before {color: black;}#sk-container-id-1 div.sk-toggleable__content {max-height: 0;max-width: 0;overflow: hidden;text-align: left;background-color: #f0f8ff;}#sk-container-id-1 div.sk-toggleable__content pre {margin: 0.2em;color: black;border-radius: 0.25em;background-color: #f0f8ff;}#sk-container-id-1 input.sk-toggleable__control:checked~div.sk-toggleable__content {max-height: 200px;max-width: 100%;overflow: auto;}#sk-container-id-1 input.sk-toggleable__control:checked~label.sk-toggleable__label-arrow:before {content: \"▾\";}#sk-container-id-1 div.sk-estimator input.sk-toggleable__control:checked~label.sk-toggleable__label {background-color: #d4ebff;}#sk-container-id-1 div.sk-label input.sk-toggleable__control:checked~label.sk-toggleable__label {background-color: #d4ebff;}#sk-container-id-1 input.sk-hidden--visually {border: 0;clip: rect(1px 1px 1px 1px);clip: rect(1px, 1px, 1px, 1px);height: 1px;margin: -1px;overflow: hidden;padding: 0;position: absolute;width: 1px;}#sk-container-id-1 div.sk-estimator {font-family: monospace;background-color: #f0f8ff;border: 1px dotted black;border-radius: 0.25em;box-sizing: border-box;margin-bottom: 0.5em;}#sk-container-id-1 div.sk-estimator:hover {background-color: #d4ebff;}#sk-container-id-1 div.sk-parallel-item::after {content: \"\";width: 100%;border-bottom: 1px solid gray;flex-grow: 1;}#sk-container-id-1 div.sk-label:hover label.sk-toggleable__label {background-color: #d4ebff;}#sk-container-id-1 div.sk-serial::before {content: \"\";position: absolute;border-left: 1px solid gray;box-sizing: border-box;top: 0;bottom: 0;left: 50%;z-index: 0;}#sk-container-id-1 div.sk-serial {display: flex;flex-direction: column;align-items: center;background-color: white;padding-right: 0.2em;padding-left: 0.2em;position: relative;}#sk-container-id-1 div.sk-item {position: relative;z-index: 1;}#sk-container-id-1 div.sk-parallel {display: flex;align-items: stretch;justify-content: center;background-color: white;position: relative;}#sk-container-id-1 div.sk-item::before, #sk-container-id-1 div.sk-parallel-item::before {content: \"\";position: absolute;border-left: 1px solid gray;box-sizing: border-box;top: 0;bottom: 0;left: 50%;z-index: -1;}#sk-container-id-1 div.sk-parallel-item {display: flex;flex-direction: column;z-index: 1;position: relative;background-color: white;}#sk-container-id-1 div.sk-parallel-item:first-child::after {align-self: flex-end;width: 50%;}#sk-container-id-1 div.sk-parallel-item:last-child::after {align-self: flex-start;width: 50%;}#sk-container-id-1 div.sk-parallel-item:only-child::after {width: 0;}#sk-container-id-1 div.sk-dashed-wrapped {border: 1px dashed gray;margin: 0 0.4em 0.5em 0.4em;box-sizing: border-box;padding-bottom: 0.4em;background-color: white;}#sk-container-id-1 div.sk-label label {font-family: monospace;font-weight: bold;display: inline-block;line-height: 1.2em;}#sk-container-id-1 div.sk-label-container {text-align: center;}#sk-container-id-1 div.sk-container {/* jupyter's `normalize.less` sets `[hidden] { display: none; }` but bootstrap.min.css set `[hidden] { display: none !important; }` so we also need the `!important` here to be able to override the default hidden behavior on the sphinx rendered scikit-learn.org. See: https://github.com/scikit-learn/scikit-learn/issues/21755 */display: inline-block !important;position: relative;}#sk-container-id-1 div.sk-text-repr-fallback {display: none;}</style><div id=\"sk-container-id-1\" class=\"sk-top-container\"><div class=\"sk-text-repr-fallback\"><pre>PCA(n_components=2)</pre><b>In a Jupyter environment, please rerun this cell to show the HTML representation or trust the notebook. <br />On GitHub, the HTML representation is unable to render, please try loading this page with nbviewer.org.</b></div><div class=\"sk-container\" hidden><div class=\"sk-item\"><div class=\"sk-estimator sk-toggleable\"><input class=\"sk-toggleable__control sk-hidden--visually\" id=\"sk-estimator-id-1\" type=\"checkbox\" checked><label for=\"sk-estimator-id-1\" class=\"sk-toggleable__label sk-toggleable__label-arrow\">PCA</label><div class=\"sk-toggleable__content\"><pre>PCA(n_components=2)</pre></div></div></div></div></div>"
            ]
          },
          "metadata": {},
          "execution_count": 20
        }
      ]
    },
    {
      "cell_type": "code",
      "source": [
        "pca.explained_variance_ratio_  # 데이터 반영 비율 확인"
      ],
      "metadata": {
        "colab": {
          "base_uri": "https://localhost:8080/"
        },
        "id": "BzItzEut9L07",
        "outputId": "c18e9323-9b0c-4e7a-88d2-f877d80f8cdc"
      },
      "execution_count": 21,
      "outputs": [
        {
          "output_type": "execute_result",
          "data": {
            "text/plain": [
              "array([0.04992445, 0.03331409])"
            ]
          },
          "metadata": {},
          "execution_count": 21
        }
      ]
    },
    {
      "cell_type": "markdown",
      "source": [
        "각각 0.0499, 0.0333 정도로, 이 둘을 합쳐봐야 기존 데이터의 0.08 정도의 정보만 반영하여 데이터 손실이 매우 크다는 것을 알 수 있음\n",
        "- K-평균에서 사용한 엘보우 기법을 이용하면 도움을 받을 수 있음"
      ],
      "metadata": {
        "id": "aOXI72oM9SkB"
      }
    },
    {
      "cell_type": "code",
      "source": [
        "var_ratio = []\n",
        "for i in range(100, 550, 50):\n",
        "  pca = PCA(n_components=i)\n",
        "  pca.fit_transform(X_train_scaled)\n",
        "  ratio = pca.explained_variance_ratio_.sum()  # 데이터 반영 비율 합\n",
        "  var_ratio.append(ratio)  # 반영 비율 합을 리스트에 추가\n",
        "\n",
        "sns.lineplot(x=range(100, 550, 50), y=var_ratio)"
      ],
      "metadata": {
        "colab": {
          "base_uri": "https://localhost:8080/",
          "height": 453
        },
        "id": "SUHN0b5O9Q1e",
        "outputId": "ffde09ca-5959-4f02-a3e3-56c56bdd7f6a"
      },
      "execution_count": 22,
      "outputs": [
        {
          "output_type": "execute_result",
          "data": {
            "text/plain": [
              "<Axes: >"
            ]
          },
          "metadata": {},
          "execution_count": 22
        },
        {
          "output_type": "display_data",
          "data": {
            "text/plain": [
              "<Figure size 640x480 with 1 Axes>"
            ],
            "image/png": "[encoded data removed]"
          },
          "metadata": {}
        }
      ]
    },
    {
      "cell_type": "markdown",
      "source": [
        "주성분 수를 100에서 500까지 확인한 결과 이 범위에서 얻을 수 있는 데이터의 반영 비율은 약 62%~82% 정도임\n",
        "- k-평균의 엘보우 기법에서처럼 드라마틱하게 꺾이는 부분이 없기 때문에 한눈에 적절한 값을 찾을 수 없음\n",
        "- 본인의 기준에 맞는 적정값을 가이드 라인으로 삼아, 데이터 손실을 어디까지 감수할 것인지를 정하고 해당 수준에 적합한 주성분 수를 결정하면 됨"
      ],
      "metadata": {
        "id": "Z1nrH8RQ93tH"
      }
    },
    {
      "cell_type": "markdown",
      "source": [
        "80%를 기준으로 잡고, 이에 가장 근사치인 400을 채택해, 주성분이 400개인 데이터를 만듦"
      ],
      "metadata": {
        "id": "yC16Lh9a-SMD"
      }
    },
    {
      "cell_type": "code",
      "source": [
        "pca = PCA(n_components=400, random_state=100)  # 주성분 개수 지정\n",
        "pca.fit(X_train_scaled)\n",
        "X_train_scaled_pca = pca.transform(X_train_scaled)\n",
        "X_test_scaled_pca = pca.transform(X_test_scaled)"
      ],
      "metadata": {
        "id": "b0PZYBib91WE"
      },
      "execution_count": 23,
      "outputs": []
    },
    {
      "cell_type": "code",
      "source": [
        "model_2 = RandomForestClassifier(random_state=100)\n",
        "start_time = time.time()\n",
        "model_2.fit(X_train_scaled_pca, y_train)\n",
        "print(time.time() - start_time)  # 소요 시간"
      ],
      "metadata": {
        "colab": {
          "base_uri": "https://localhost:8080/"
        },
        "id": "ShkBlG_b-kZg",
        "outputId": "55af6122-745e-4835-c876-9f3e5a3f17d7"
      },
      "execution_count": 24,
      "outputs": [
        {
          "output_type": "stream",
          "name": "stdout",
          "text": [
            "77.31423091888428\n"
          ]
        }
      ]
    },
    {
      "cell_type": "code",
      "source": [
        "pred_2 = model_2.predict(X_test_scaled_pca)\n",
        "accuracy_score(y_test, pred_2)  # 정확도"
      ],
      "metadata": {
        "colab": {
          "base_uri": "https://localhost:8080/"
        },
        "id": "jCVfVSld-w5e",
        "outputId": "6fb67afc-8e53-4861-aaae-a80658359a62"
      },
      "execution_count": 25,
      "outputs": [
        {
          "output_type": "execute_result",
          "data": {
            "text/plain": [
              "0.98925"
            ]
          },
          "metadata": {},
          "execution_count": 25
        }
      ]
    },
    {
      "cell_type": "code",
      "source": [
        "proba_2 = model_2.predict_proba(X_test_scaled_pca)\n",
        "roc_auc_score(y_test, proba_2[:, 1])  # AUC"
      ],
      "metadata": {
        "colab": {
          "base_uri": "https://localhost:8080/"
        },
        "id": "uxOpuMuO-385",
        "outputId": "201a7549-20b5-4c3b-b835-45fb9db08a86"
      },
      "execution_count": 26,
      "outputs": [
        {
          "output_type": "execute_result",
          "data": {
            "text/plain": [
              "0.9982517669346417"
            ]
          },
          "metadata": {},
          "execution_count": 26
        }
      ]
    },
    {
      "cell_type": "markdown",
      "source": [
        "비교\n",
        "\n",
        "| |소요시간|정확도|AUC|\n",
        "|---|---|---|---|\n",
        "|PCA 이전|약 155초|0.958|0.998|\n",
        "|PCA 이후|약 86초|0.989|0.998|\n",
        "\n",
        "\n",
        "- PCA를 사용해서 학습 시간을 대폭 줄이고, 거의 동일한 수준의 예측력을 보여줌\n",
        "- 하지만 PCA가 언제나 이런 성과를 내지는 않음\n",
        "- 사용하는 알고리즘에 따라, 다루는 데이터에 따라, 떄로는 PCA가 그다지 적절한 역할을 해내지 못할 수도 있음\n",
        "- 따라서 PCA를 사용했는데도 속도와 예측 성능이 그다지 개선되지 않으면 사용하기에 적합하지 않은 상황이므로, 이러한 특징을 알고 사용해야 함"
      ],
      "metadata": {
        "id": "Dx2P_2xx_I3T"
      }
    }
  ]
}