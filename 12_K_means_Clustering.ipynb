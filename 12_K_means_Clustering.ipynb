{
  "nbformat": 4,
  "nbformat_minor": 0,
  "metadata": {
    "colab": {
      "provenance": [],
      "authorship_tag": "ABX9TyNf+Mpwgncsu2eFn8NryTY8",
      "include_colab_link": true
    },
    "kernelspec": {
      "name": "python3",
      "display_name": "Python 3"
    },
    "language_info": {
      "name": "python"
    }
  },
  "cells": [
    {
      "cell_type": "markdown",
      "metadata": {
        "id": "view-in-github",
        "colab_type": "text"
      },
      "source": [
        "<a href=\"https://colab.research.google.com/github/dduniverse/ML-study/blob/main/12_K_means_Clustering.ipynb\" target=\"_parent\"><img src=\"https://colab.research.google.com/assets/colab-badge.svg\" alt=\"Open In Colab\"/></a>"
      ]
    },
    {
      "cell_type": "markdown",
      "source": [
        "# K-평균 군집화; K-means Clustering\n",
        "비지도학습의 대표적인 알고리즘으로 목표 변수가 없는 상태에서 데이터를 비슷한 유형끼리 묶어내는 머신러닝 기법\n",
        "- KNN과 비슷하게 거리 기반으로 작동하며 적절한 K값을 사용자가 지정해야 함\n",
        "- 클러스터링은 데이터를 적절한 수의 그룹으로 나누고 그 특징을 살펴볼 수 있는 장점이 있음\n",
        "- 여러 클러스터링 기법 중에서도 K-평균 군집화는 가장 보편적이고 무난하게 사용됨\n",
        "\n",
        "|장점|단점|\n",
        "|---|---|\n",
        "|구현이 비교적 간단함|최적의 k값을 자동으로 찾지 못하고 사용자가 직접 선택해야 함|\n",
        "|클러스터링 결과를 쉽게 해석할 수 있음|거리 기반 알고리즘이기 때문에, 변수의 스케일에 따라 다른 결과를 나타낼 수 있음\n",
        "\n",
        "\n",
        "- 종속변수가 없는 데이터셋에서 데이터 특성을 비교적 간단하게 살펴보는 용도로 활용할 수 있음\n",
        "- 마케팅이나 제품 기획 등을 목적으로 고객 분류에 사용할 수 있음\n",
        "- 지도 학습에서 종속변수를 제외하고 사용하면, 탐색적 자료 분석 혹은 피처 엔지니어링 용도로 사용할 수 있음"
      ],
      "metadata": {
        "id": "HCf8K4TY1gsF"
      }
    },
    {
      "cell_type": "markdown",
      "source": [
        "## 연습용 데이터"
      ],
      "metadata": {
        "id": "ht37ps8L2VJ4"
      }
    },
    {
      "cell_type": "markdown",
      "source": [
        "### 1. 라이브러리 및 데이터 불러오기"
      ],
      "metadata": {
        "id": "umCg3r8u3ef2"
      }
    },
    {
      "cell_type": "code",
      "execution_count": 1,
      "metadata": {
        "id": "VOfvUDt51RrQ"
      },
      "outputs": [],
      "source": [
        "import pandas as pd\n",
        "import numpy as np\n",
        "import matplotlib.pyplot as plt\n",
        "import seaborn as sns"
      ]
    },
    {
      "cell_type": "code",
      "source": [
        "file_url = 'https://raw.githubusercontent.com/musthave-ML10/data_source/main/example_cluster.csv'\n",
        "data = pd.read_csv(file_url)\n",
        "data"
      ],
      "metadata": {
        "colab": {
          "base_uri": "https://localhost:8080/",
          "height": 424
        },
        "id": "OsALY62h2dpp",
        "outputId": "a042e224-e3ba-4e9f-9bf5-5420a0b0da20"
      },
      "execution_count": 2,
      "outputs": [
        {
          "output_type": "execute_result",
          "data": {
            "text/plain": [
              "         var_1     var_2\n",
              "0     3.264413  6.929164\n",
              "1     0.220814  2.251631\n",
              "2    -8.786197 -8.333582\n",
              "3    -0.008547  2.630791\n",
              "4     4.912903  6.888520\n",
              "..         ...       ...\n",
              "995   4.678232  7.704404\n",
              "996   5.250715  6.930948\n",
              "997 -11.818752 -5.609853\n",
              "998   0.613725  3.809334\n",
              "999   3.516961  8.486305\n",
              "\n",
              "[1000 rows x 2 columns]"
            ],
            "text/html": [
              "\n",
              "  <div id=\"df-49f8a94a-3803-42e8-9a80-7818f6edc9c2\">\n",
              "    <div class=\"colab-df-container\">\n",
              "      <div>\n",
              "<style scoped>\n",
              "    .dataframe tbody tr th:only-of-type {\n",
              "        vertical-align: middle;\n",
              "    }\n",
              "\n",
              "    .dataframe tbody tr th {\n",
              "        vertical-align: top;\n",
              "    }\n",
              "\n",
              "    .dataframe thead th {\n",
              "        text-align: right;\n",
              "    }\n",
              "</style>\n",
              "<table border=\"1\" class=\"dataframe\">\n",
              "  <thead>\n",
              "    <tr style=\"text-align: right;\">\n",
              "      <th></th>\n",
              "      <th>var_1</th>\n",
              "      <th>var_2</th>\n",
              "    </tr>\n",
              "  </thead>\n",
              "  <tbody>\n",
              "    <tr>\n",
              "      <th>0</th>\n",
              "      <td>3.264413</td>\n",
              "      <td>6.929164</td>\n",
              "    </tr>\n",
              "    <tr>\n",
              "      <th>1</th>\n",
              "      <td>0.220814</td>\n",
              "      <td>2.251631</td>\n",
              "    </tr>\n",
              "    <tr>\n",
              "      <th>2</th>\n",
              "      <td>-8.786197</td>\n",
              "      <td>-8.333582</td>\n",
              "    </tr>\n",
              "    <tr>\n",
              "      <th>3</th>\n",
              "      <td>-0.008547</td>\n",
              "      <td>2.630791</td>\n",
              "    </tr>\n",
              "    <tr>\n",
              "      <th>4</th>\n",
              "      <td>4.912903</td>\n",
              "      <td>6.888520</td>\n",
              "    </tr>\n",
              "    <tr>\n",
              "      <th>...</th>\n",
              "      <td>...</td>\n",
              "      <td>...</td>\n",
              "    </tr>\n",
              "    <tr>\n",
              "      <th>995</th>\n",
              "      <td>4.678232</td>\n",
              "      <td>7.704404</td>\n",
              "    </tr>\n",
              "    <tr>\n",
              "      <th>996</th>\n",
              "      <td>5.250715</td>\n",
              "      <td>6.930948</td>\n",
              "    </tr>\n",
              "    <tr>\n",
              "      <th>997</th>\n",
              "      <td>-11.818752</td>\n",
              "      <td>-5.609853</td>\n",
              "    </tr>\n",
              "    <tr>\n",
              "      <th>998</th>\n",
              "      <td>0.613725</td>\n",
              "      <td>3.809334</td>\n",
              "    </tr>\n",
              "    <tr>\n",
              "      <th>999</th>\n",
              "      <td>3.516961</td>\n",
              "      <td>8.486305</td>\n",
              "    </tr>\n",
              "  </tbody>\n",
              "</table>\n",
              "<p>1000 rows × 2 columns</p>\n",
              "</div>\n",
              "      <button class=\"colab-df-convert\" onclick=\"convertToInteractive('df-49f8a94a-3803-42e8-9a80-7818f6edc9c2')\"\n",
              "              title=\"Convert this dataframe to an interactive table.\"\n",
              "              style=\"display:none;\">\n",
              "        \n",
              "  <svg xmlns=\"http://www.w3.org/2000/svg\" height=\"24px\"viewBox=\"0 0 24 24\"\n",
              "       width=\"24px\">\n",
              "    <path d=\"M0 0h24v24H0V0z\" fill=\"none\"/>\n",
              "    <path d=\"M18.56 5.44l.94 2.06.94-2.06 2.06-.94-2.06-.94-.94-2.06-.94 2.06-2.06.94zm-11 1L8.5 8.5l.94-2.06 2.06-.94-2.06-.94L8.5 2.5l-.94 2.06-2.06.94zm10 10l.94 2.06.94-2.06 2.06-.94-2.06-.94-.94-2.06-.94 2.06-2.06.94z\"/><path d=\"M17.41 7.96l-1.37-1.37c-.4-.4-.92-.59-1.43-.59-.52 0-1.04.2-1.43.59L10.3 9.45l-7.72 7.72c-.78.78-.78 2.05 0 2.83L4 21.41c.39.39.9.59 1.41.59.51 0 1.02-.2 1.41-.59l7.78-7.78 2.81-2.81c.8-.78.8-2.07 0-2.86zM5.41 20L4 18.59l7.72-7.72 1.47 1.35L5.41 20z\"/>\n",
              "  </svg>\n",
              "      </button>\n",
              "      \n",
              "  <style>\n",
              "    .colab-df-container {\n",
              "      display:flex;\n",
              "      flex-wrap:wrap;\n",
              "      gap: 12px;\n",
              "    }\n",
              "\n",
              "    .colab-df-convert {\n",
              "      background-color: #E8F0FE;\n",
              "      border: none;\n",
              "      border-radius: 50%;\n",
              "      cursor: pointer;\n",
              "      display: none;\n",
              "      fill: #1967D2;\n",
              "      height: 32px;\n",
              "      padding: 0 0 0 0;\n",
              "      width: 32px;\n",
              "    }\n",
              "\n",
              "    .colab-df-convert:hover {\n",
              "      background-color: #E2EBFA;\n",
              "      box-shadow: 0px 1px 2px rgba(60, 64, 67, 0.3), 0px 1px 3px 1px rgba(60, 64, 67, 0.15);\n",
              "      fill: #174EA6;\n",
              "    }\n",
              "\n",
              "    [theme=dark] .colab-df-convert {\n",
              "      background-color: #3B4455;\n",
              "      fill: #D2E3FC;\n",
              "    }\n",
              "\n",
              "    [theme=dark] .colab-df-convert:hover {\n",
              "      background-color: #434B5C;\n",
              "      box-shadow: 0px 1px 3px 1px rgba(0, 0, 0, 0.15);\n",
              "      filter: drop-shadow(0px 1px 2px rgba(0, 0, 0, 0.3));\n",
              "      fill: #FFFFFF;\n",
              "    }\n",
              "  </style>\n",
              "\n",
              "      <script>\n",
              "        const buttonEl =\n",
              "          document.querySelector('#df-49f8a94a-3803-42e8-9a80-7818f6edc9c2 button.colab-df-convert');\n",
              "        buttonEl.style.display =\n",
              "          google.colab.kernel.accessAllowed ? 'block' : 'none';\n",
              "\n",
              "        async function convertToInteractive(key) {\n",
              "          const element = document.querySelector('#df-49f8a94a-3803-42e8-9a80-7818f6edc9c2');\n",
              "          const dataTable =\n",
              "            await google.colab.kernel.invokeFunction('convertToInteractive',\n",
              "                                                     [key], {});\n",
              "          if (!dataTable) return;\n",
              "\n",
              "          const docLinkHtml = 'Like what you see? Visit the ' +\n",
              "            '<a target=\"_blank\" href=https://colab.research.google.com/notebooks/data_table.ipynb>data table notebook</a>'\n",
              "            + ' to learn more about interactive tables.';\n",
              "          element.innerHTML = '';\n",
              "          dataTable['output_type'] = 'display_data';\n",
              "          await google.colab.output.renderOutput(dataTable, element);\n",
              "          const docLink = document.createElement('div');\n",
              "          docLink.innerHTML = docLinkHtml;\n",
              "          element.appendChild(docLink);\n",
              "        }\n",
              "      </script>\n",
              "    </div>\n",
              "  </div>\n",
              "  "
            ]
          },
          "metadata": {},
          "execution_count": 2
        }
      ]
    },
    {
      "cell_type": "code",
      "source": [
        "sns.scatterplot(x='var_1', y='var_2', data=data)  # 산점도"
      ],
      "metadata": {
        "colab": {
          "base_uri": "https://localhost:8080/",
          "height": 467
        },
        "id": "PjxoFsRc2mlg",
        "outputId": "4993e928-5fb9-46c8-c313-b6da786099db"
      },
      "execution_count": 3,
      "outputs": [
        {
          "output_type": "execute_result",
          "data": {
            "text/plain": [
              "<Axes: xlabel='var_1', ylabel='var_2'>"
            ]
          },
          "metadata": {},
          "execution_count": 3
        },
        {
          "output_type": "display_data",
          "data": {
            "text/plain": [
              "<Figure size 640x480 with 1 Axes>"
            ],
            "image/png": "[encoded data removed]"
          },
          "metadata": {}
        }
      ]
    },
    {
      "cell_type": "markdown",
      "source": [
        "한눈에 보기에도 데이터가 크게 3가지 그룹으로 나뉘어 보임\n",
        "\n",
        "이 데이터를 K-means Clustering을 이용해 3개 그룹으로 나누기"
      ],
      "metadata": {
        "id": "rTUImOWI2yY6"
      }
    },
    {
      "cell_type": "markdown",
      "source": [
        "### 2. 연습용 데이터 모델링 및 평가"
      ],
      "metadata": {
        "id": "BHRztwB23ie8"
      }
    },
    {
      "cell_type": "code",
      "source": [
        "from sklearn.cluster import KMeans\n",
        "kmeans_model = KMeans(n_clusters=3, random_state=100)  # 모델\n",
        "kmeans_model.fit(data)  # 학습\n",
        "kmeans_model.predict(data)  # 예측"
      ],
      "metadata": {
        "colab": {
          "base_uri": "https://localhost:8080/"
        },
        "id": "g7I2eNE22vgE",
        "outputId": "f3db1684-6c6a-46a7-ea1e-d8f5338239ee"
      },
      "execution_count": 4,
      "outputs": [
        {
          "output_type": "stream",
          "name": "stderr",
          "text": [
            "/usr/local/lib/python3.10/dist-packages/sklearn/cluster/_kmeans.py:870: FutureWarning: The default value of `n_init` will change from 10 to 'auto' in 1.4. Set the value of `n_init` explicitly to suppress the warning\n",
            "  warnings.warn(\n"
          ]
        },
        {
          "output_type": "execute_result",
          "data": {
            "text/plain": [
              "array([1, 2, 0, 2, 1, 2, 1, 0, 1, 1, 1, 1, 2, 1, 0, 2, 0, 1, 1, 0, 2, 0,\n",
              "       0, 0, 2, 1, 2, 0, 2, 2, 2, 0, 2, 1, 1, 0, 0, 1, 1, 1, 2, 2, 1, 2,\n",
              "       0, 1, 1, 2, 0, 2, 1, 0, 1, 2, 1, 0, 0, 0, 2, 2, 2, 1, 2, 1, 0, 1,\n",
              "       2, 0, 1, 0, 2, 1, 2, 2, 2, 2, 1, 2, 2, 2, 1, 2, 0, 2, 1, 1, 2, 1,\n",
              "       0, 2, 1, 2, 0, 2, 0, 0, 0, 1, 2, 2, 2, 0, 0, 2, 0, 1, 0, 0, 0, 1,\n",
              "       0, 2, 1, 2, 2, 2, 0, 2, 0, 0, 1, 1, 2, 0, 2, 0, 2, 0, 1, 1, 0, 1,\n",
              "       2, 1, 0, 1, 2, 2, 2, 1, 2, 1, 0, 0, 2, 1, 0, 2, 2, 1, 1, 2, 2, 1,\n",
              "       1, 1, 2, 0, 1, 0, 1, 2, 1, 0, 0, 1, 2, 1, 0, 1, 2, 1, 0, 1, 1, 0,\n",
              "       2, 1, 0, 2, 2, 0, 2, 2, 1, 1, 1, 2, 1, 0, 2, 2, 2, 0, 1, 2, 2, 2,\n",
              "       1, 1, 1, 2, 2, 2, 1, 0, 2, 2, 2, 0, 0, 1, 2, 1, 2, 0, 0, 1, 2, 0,\n",
              "       2, 2, 0, 1, 0, 0, 1, 0, 1, 2, 0, 1, 1, 0, 0, 0, 1, 1, 1, 0, 2, 0,\n",
              "       1, 0, 0, 1, 2, 0, 1, 1, 0, 1, 2, 0, 1, 2, 0, 0, 2, 0, 1, 0, 1, 2,\n",
              "       2, 2, 0, 1, 2, 1, 1, 1, 1, 0, 1, 0, 2, 2, 1, 0, 2, 0, 1, 0, 2, 2,\n",
              "       2, 2, 2, 0, 2, 1, 2, 1, 2, 1, 0, 2, 0, 2, 2, 0, 0, 0, 1, 0, 0, 2,\n",
              "       0, 0, 0, 2, 0, 0, 0, 0, 1, 0, 0, 1, 2, 1, 0, 0, 1, 0, 2, 2, 0, 0,\n",
              "       1, 2, 0, 0, 2, 2, 1, 1, 1, 1, 2, 1, 1, 2, 1, 2, 1, 0, 2, 1, 1, 0,\n",
              "       1, 1, 1, 1, 1, 1, 0, 0, 0, 0, 0, 0, 2, 0, 0, 2, 0, 1, 1, 0, 1, 0,\n",
              "       0, 2, 1, 1, 1, 2, 2, 1, 1, 2, 0, 2, 1, 0, 2, 1, 2, 2, 0, 1, 1, 1,\n",
              "       0, 1, 0, 0, 2, 1, 0, 0, 1, 2, 1, 0, 2, 1, 1, 0, 2, 2, 2, 1, 0, 0,\n",
              "       1, 0, 0, 1, 0, 2, 0, 2, 0, 2, 2, 1, 1, 1, 1, 1, 1, 1, 0, 0, 2, 1,\n",
              "       1, 1, 0, 0, 0, 0, 2, 2, 2, 1, 0, 2, 0, 2, 0, 1, 2, 2, 1, 2, 0, 0,\n",
              "       0, 0, 0, 0, 0, 2, 0, 2, 0, 0, 1, 1, 0, 1, 2, 1, 0, 1, 2, 1, 1, 2,\n",
              "       1, 0, 2, 0, 1, 2, 2, 2, 2, 1, 2, 1, 0, 1, 1, 1, 0, 2, 0, 2, 2, 2,\n",
              "       0, 0, 0, 1, 2, 2, 0, 2, 1, 0, 0, 1, 1, 1, 0, 2, 0, 1, 1, 0, 1, 0,\n",
              "       1, 2, 0, 1, 0, 2, 0, 2, 0, 1, 0, 0, 1, 2, 1, 0, 2, 0, 1, 2, 0, 0,\n",
              "       0, 0, 0, 0, 1, 0, 1, 1, 2, 2, 1, 2, 0, 2, 0, 1, 0, 0, 0, 2, 0, 1,\n",
              "       0, 0, 0, 2, 1, 0, 1, 0, 2, 1, 0, 1, 2, 2, 0, 0, 0, 2, 0, 0, 0, 1,\n",
              "       0, 1, 1, 1, 2, 2, 0, 0, 2, 0, 0, 1, 2, 1, 1, 0, 2, 2, 0, 1, 0, 1,\n",
              "       0, 1, 0, 1, 2, 2, 2, 0, 0, 0, 0, 2, 2, 1, 1, 2, 2, 2, 0, 2, 0, 0,\n",
              "       0, 1, 1, 0, 0, 2, 1, 1, 1, 1, 2, 0, 1, 1, 1, 2, 0, 2, 0, 0, 0, 1,\n",
              "       1, 0, 1, 0, 0, 1, 1, 0, 2, 2, 1, 0, 0, 2, 2, 2, 1, 0, 2, 2, 1, 1,\n",
              "       2, 0, 0, 2, 2, 2, 2, 2, 1, 0, 2, 0, 0, 1, 1, 1, 2, 2, 2, 1, 0, 1,\n",
              "       1, 0, 2, 0, 2, 0, 0, 0, 2, 1, 2, 0, 1, 0, 2, 0, 2, 0, 2, 0, 0, 2,\n",
              "       2, 2, 1, 0, 0, 2, 1, 1, 0, 1, 2, 2, 2, 2, 1, 0, 1, 0, 2, 0, 0, 1,\n",
              "       1, 1, 2, 2, 0, 2, 1, 1, 2, 2, 0, 1, 2, 2, 0, 2, 2, 2, 2, 0, 0, 0,\n",
              "       2, 2, 2, 1, 1, 2, 2, 2, 0, 2, 2, 2, 2, 0, 2, 0, 2, 2, 1, 0, 2, 2,\n",
              "       1, 2, 0, 2, 2, 2, 1, 2, 2, 2, 2, 0, 0, 0, 2, 1, 1, 2, 2, 2, 1, 2,\n",
              "       0, 1, 1, 1, 2, 0, 2, 1, 2, 2, 1, 2, 2, 2, 0, 1, 0, 2, 0, 2, 0, 2,\n",
              "       1, 2, 1, 0, 2, 2, 1, 2, 2, 2, 1, 0, 2, 2, 1, 2, 1, 1, 0, 0, 0, 0,\n",
              "       1, 2, 0, 0, 2, 2, 1, 2, 0, 0, 2, 1, 2, 0, 0, 1, 1, 0, 0, 2, 1, 2,\n",
              "       1, 1, 0, 2, 1, 2, 2, 0, 1, 0, 1, 1, 2, 1, 2, 2, 2, 0, 1, 1, 0, 0,\n",
              "       1, 2, 2, 2, 1, 0, 2, 0, 1, 2, 0, 0, 0, 2, 2, 0, 1, 0, 1, 1, 2, 0,\n",
              "       2, 2, 0, 1, 0, 2, 1, 1, 1, 1, 2, 1, 1, 1, 1, 1, 2, 1, 2, 1, 2, 0,\n",
              "       1, 1, 1, 0, 2, 1, 0, 1, 1, 1, 2, 0, 1, 2, 1, 0, 1, 1, 0, 1, 0, 2,\n",
              "       1, 1, 1, 1, 0, 2, 0, 2, 1, 1, 2, 1, 0, 0, 1, 2, 0, 0, 0, 1, 0, 1,\n",
              "       1, 1, 1, 2, 1, 1, 1, 0, 2, 1], dtype=int32)"
            ]
          },
          "metadata": {},
          "execution_count": 4
        }
      ]
    },
    {
      "cell_type": "code",
      "source": [
        "data['label'] = kmeans_model.predict(data)  # 예측값 저장"
      ],
      "metadata": {
        "id": "KyLOzRUy3FF9"
      },
      "execution_count": 5,
      "outputs": []
    },
    {
      "cell_type": "code",
      "source": [
        "sns.scatterplot(x='var_1', y='var_2', data=data, hue='label', palette='rainbow')  # 산점도"
      ],
      "metadata": {
        "colab": {
          "base_uri": "https://localhost:8080/",
          "height": 467
        },
        "id": "vAwu7W053Lce",
        "outputId": "2bd96ea4-4cfd-45dd-bdb2-3e64a284869f"
      },
      "execution_count": 6,
      "outputs": [
        {
          "output_type": "execute_result",
          "data": {
            "text/plain": [
              "<Axes: xlabel='var_1', ylabel='var_2'>"
            ]
          },
          "metadata": {},
          "execution_count": 6
        },
        {
          "output_type": "display_data",
          "data": {
            "text/plain": [
              "<Figure size 640x480 with 1 Axes>"
            ],
            "image/png": "[encoded data removed]"
          },
          "metadata": {}
        }
      ]
    },
    {
      "cell_type": "markdown",
      "source": [
        "### 3. 엘보우 기법으로 최적의 K값 구하기\n",
        "엘보우 기법(elbow method)\n",
        "- 최적의 클러스터 개수를 확인하는 방법으로, 클러스터의 중점과 각 데이터간의 거리를 기반으로 계산함\n",
        "\n",
        "이너셔(inertia)\n",
        "- 각 그룹에서의 중심과 각 그룹에 해당하는 데이터 간의 거리에 대한 합\n",
        "\n",
        "\n",
        "연습 데이터는 한 눈에 보기에도 데이터가 3개의 무리로 구성되어 있어 K를 손쉽게 3으로 지정할 수 있지만, 실제 상황에서는 변수가 너무 많아 그래프로 확인하기 어려울 뿐더러, 사람의 눈으로 보기에 정확하게 몇 개의 그룹인지 구분이 애매함\n",
        "- 사람의 눈에 의존해 적절한 K값을 찾는데 한계가 있음 → `엘보우 기법`을 활용\n",
        "- 각 그룹에서의 중심과 각 그룹에 해당하는 데이터 간의 거리에 대한 합, `이너셔`를 계산함\n",
        "- 모델이 학습을 할 때 자동적으로 이너셔값을 계산하기 때문에 `inertia_`로 확인할 수 있음"
      ],
      "metadata": {
        "id": "dSfzy4GR3mPI"
      }
    },
    {
      "cell_type": "code",
      "source": [
        "kmeans_model.inertia_  # 이너셔"
      ],
      "metadata": {
        "colab": {
          "base_uri": "https://localhost:8080/"
        },
        "id": "AQTWDn4m3R4B",
        "outputId": "6f64771b-dc62-42e9-da5e-38238afd4cad"
      },
      "execution_count": 7,
      "outputs": [
        {
          "output_type": "execute_result",
          "data": {
            "text/plain": [
              "3090.03323707666"
            ]
          },
          "metadata": {},
          "execution_count": 7
        }
      ]
    },
    {
      "cell_type": "markdown",
      "source": [
        "이너셔값은 클러스터의 중점과 데이터 간의 거리이기 때문에 작을 수록 그룹별로 더 잘 모이게 분류됐다고 할 수 있음\n",
        "- K값이 커지면 거리의 합인 이너셔는 필연적으로 작아지게 됨"
      ],
      "metadata": {
        "id": "0yZICg2E4oP5"
      }
    },
    {
      "cell_type": "code",
      "source": [
        "temp_model = KMeans(n_clusters=500, random_state=100)\n",
        "temp_model.fit(data)\n",
        "temp_model.inertia_"
      ],
      "metadata": {
        "colab": {
          "base_uri": "https://localhost:8080/"
        },
        "id": "o-_3U1kW4lVX",
        "outputId": "3581b275-c9c0-49fd-e38e-3f3dcd18e3f6"
      },
      "execution_count": 8,
      "outputs": [
        {
          "output_type": "stream",
          "name": "stderr",
          "text": [
            "/usr/local/lib/python3.10/dist-packages/sklearn/cluster/_kmeans.py:870: FutureWarning: The default value of `n_init` will change from 10 to 'auto' in 1.4. Set the value of `n_init` explicitly to suppress the warning\n",
            "  warnings.warn(\n"
          ]
        },
        {
          "output_type": "execute_result",
          "data": {
            "text/plain": [
              "6.22354210658421"
            ]
          },
          "metadata": {},
          "execution_count": 8
        }
      ]
    },
    {
      "cell_type": "markdown",
      "source": [
        "K=3일 때 3090이던 값이 K=500이 되니 6으로 작아짐"
      ],
      "metadata": {
        "id": "dFM-uo0O49sV"
      }
    },
    {
      "cell_type": "markdown",
      "source": [
        "클러스터링에는 클러스터 수를 가급적 적게 유지하면서, 동시에 거리의 합이 어느정도 작은, 즉 적절한 K값이 필요함\n",
        "- 이에 대한 솔루션으로 엘보우 기법을 사용함\n",
        "- 다양한 K를 넣어 모델링해보고 각각에 대한 이너셔를 구한 뒤, 이를 그림으로 풀어 적절한 K값을 ㅏㅊㅈ아냄"
      ],
      "metadata": {
        "id": "qA4viwzY5H1K"
      }
    },
    {
      "cell_type": "code",
      "source": [
        "# 2부터 10까지의 K를 넣어 이너셔 저장\n",
        "distance = []\n",
        "for k in range(2, 10):\n",
        "  k_model = KMeans(n_clusters=k)\n",
        "  k_model.fit(data)\n",
        "  distance.append(k_model.inertia_)"
      ],
      "metadata": {
        "colab": {
          "base_uri": "https://localhost:8080/"
        },
        "id": "POTpVvdz42Pc",
        "outputId": "7e3e2084-d613-423d-b3d7-f82c5604c24d"
      },
      "execution_count": 9,
      "outputs": [
        {
          "output_type": "stream",
          "name": "stderr",
          "text": [
            "/usr/local/lib/python3.10/dist-packages/sklearn/cluster/_kmeans.py:870: FutureWarning: The default value of `n_init` will change from 10 to 'auto' in 1.4. Set the value of `n_init` explicitly to suppress the warning\n",
            "  warnings.warn(\n",
            "/usr/local/lib/python3.10/dist-packages/sklearn/cluster/_kmeans.py:870: FutureWarning: The default value of `n_init` will change from 10 to 'auto' in 1.4. Set the value of `n_init` explicitly to suppress the warning\n",
            "  warnings.warn(\n",
            "/usr/local/lib/python3.10/dist-packages/sklearn/cluster/_kmeans.py:870: FutureWarning: The default value of `n_init` will change from 10 to 'auto' in 1.4. Set the value of `n_init` explicitly to suppress the warning\n",
            "  warnings.warn(\n",
            "/usr/local/lib/python3.10/dist-packages/sklearn/cluster/_kmeans.py:870: FutureWarning: The default value of `n_init` will change from 10 to 'auto' in 1.4. Set the value of `n_init` explicitly to suppress the warning\n",
            "  warnings.warn(\n",
            "/usr/local/lib/python3.10/dist-packages/sklearn/cluster/_kmeans.py:870: FutureWarning: The default value of `n_init` will change from 10 to 'auto' in 1.4. Set the value of `n_init` explicitly to suppress the warning\n",
            "  warnings.warn(\n",
            "/usr/local/lib/python3.10/dist-packages/sklearn/cluster/_kmeans.py:870: FutureWarning: The default value of `n_init` will change from 10 to 'auto' in 1.4. Set the value of `n_init` explicitly to suppress the warning\n",
            "  warnings.warn(\n",
            "/usr/local/lib/python3.10/dist-packages/sklearn/cluster/_kmeans.py:870: FutureWarning: The default value of `n_init` will change from 10 to 'auto' in 1.4. Set the value of `n_init` explicitly to suppress the warning\n",
            "  warnings.warn(\n",
            "/usr/local/lib/python3.10/dist-packages/sklearn/cluster/_kmeans.py:870: FutureWarning: The default value of `n_init` will change from 10 to 'auto' in 1.4. Set the value of `n_init` explicitly to suppress the warning\n",
            "  warnings.warn(\n"
          ]
        }
      ]
    },
    {
      "cell_type": "code",
      "source": [
        "distance"
      ],
      "metadata": {
        "colab": {
          "base_uri": "https://localhost:8080/"
        },
        "id": "WCL-lWzd5eyr",
        "outputId": "a99a5d9c-921a-44ea-89f4-f103ffa570ad"
      },
      "execution_count": 10,
      "outputs": [
        {
          "output_type": "execute_result",
          "data": {
            "text/plain": [
              "[9908.551424778394,\n",
              " 3090.03323707666,\n",
              " 2722.116201293762,\n",
              " 2382.202884583966,\n",
              " 2049.219361151966,\n",
              " 1828.0083798838696,\n",
              " 1595.543174733291,\n",
              " 1373.8857171311465]"
            ]
          },
          "metadata": {},
          "execution_count": 10
        }
      ]
    },
    {
      "cell_type": "code",
      "source": [
        "sns.lineplot(x=range(2, 10), y=distance)  # 엘보우 그래프"
      ],
      "metadata": {
        "colab": {
          "base_uri": "https://localhost:8080/",
          "height": 448
        },
        "id": "Yyo0wdz05oFB",
        "outputId": "b786d737-ff5d-4ae6-a9fa-6f87ba8585ff"
      },
      "execution_count": 11,
      "outputs": [
        {
          "output_type": "execute_result",
          "data": {
            "text/plain": [
              "<Axes: >"
            ]
          },
          "metadata": {},
          "execution_count": 11
        },
        {
          "output_type": "display_data",
          "data": {
            "text/plain": [
              "<Figure size 640x480 with 1 Axes>"
            ],
            "image/png": "[encoded data removed]"
          },
          "metadata": {}
        }
      ]
    },
    {
      "cell_type": "markdown",
      "source": [
        "K값이 커질수록 distance는 점점 작아지는 모양임\n",
        "- K=3 지점에서 y가 크게 감소하고, 그 이후로는 조금씩 감소함\n",
        "- 사람의 팔을 100도 정도로 접은 모습과 유사하며, K=3 지점이 팔꿈치를 연상하기 떄문에 엘보우 기법이라고 부름\n",
        "\n",
        "엘보우 기법은 이와 같이 distance가 급격히 줄어드는 K값을 포착하여 최적의 K값을 찾도록 도와주는 방법론임"
      ],
      "metadata": {
        "id": "hJM1Gn9y5yr0"
      }
    },
    {
      "cell_type": "markdown",
      "source": [
        "## 데이터 불러오기: 고객 데이터셋"
      ],
      "metadata": {
        "id": "jNjlO9Um6N1Y"
      }
    },
    {
      "cell_type": "code",
      "source": [
        "file_url = 'https://raw.githubusercontent.com/musthave-ML10/data_source/main/customer.csv'\n",
        "customer = pd.read_csv(file_url)\n",
        "customer.head()"
      ],
      "metadata": {
        "colab": {
          "base_uri": "https://localhost:8080/",
          "height": 206
        },
        "id": "UHOxdNKe5wN7",
        "outputId": "ed4aa637-8c6d-479e-cb9a-c6a2e07acb84"
      },
      "execution_count": 12,
      "outputs": [
        {
          "output_type": "execute_result",
          "data": {
            "text/plain": [
              "             cc_num       category     amt\n",
              "0  2703186189652095           misc    4.97\n",
              "1      630423337322        grocery  107.23\n",
              "2    38859492057661  entertainment  220.11\n",
              "3  3534093764340240  gas_transport   45.00\n",
              "4   375534208663984           misc   41.96"
            ],
            "text/html": [
              "\n",
              "  <div id=\"df-88c46d53-adc9-4aca-8121-960c7007cb95\">\n",
              "    <div class=\"colab-df-container\">\n",
              "      <div>\n",
              "<style scoped>\n",
              "    .dataframe tbody tr th:only-of-type {\n",
              "        vertical-align: middle;\n",
              "    }\n",
              "\n",
              "    .dataframe tbody tr th {\n",
              "        vertical-align: top;\n",
              "    }\n",
              "\n",
              "    .dataframe thead th {\n",
              "        text-align: right;\n",
              "    }\n",
              "</style>\n",
              "<table border=\"1\" class=\"dataframe\">\n",
              "  <thead>\n",
              "    <tr style=\"text-align: right;\">\n",
              "      <th></th>\n",
              "      <th>cc_num</th>\n",
              "      <th>category</th>\n",
              "      <th>amt</th>\n",
              "    </tr>\n",
              "  </thead>\n",
              "  <tbody>\n",
              "    <tr>\n",
              "      <th>0</th>\n",
              "      <td>2703186189652095</td>\n",
              "      <td>misc</td>\n",
              "      <td>4.97</td>\n",
              "    </tr>\n",
              "    <tr>\n",
              "      <th>1</th>\n",
              "      <td>630423337322</td>\n",
              "      <td>grocery</td>\n",
              "      <td>107.23</td>\n",
              "    </tr>\n",
              "    <tr>\n",
              "      <th>2</th>\n",
              "      <td>38859492057661</td>\n",
              "      <td>entertainment</td>\n",
              "      <td>220.11</td>\n",
              "    </tr>\n",
              "    <tr>\n",
              "      <th>3</th>\n",
              "      <td>3534093764340240</td>\n",
              "      <td>gas_transport</td>\n",
              "      <td>45.00</td>\n",
              "    </tr>\n",
              "    <tr>\n",
              "      <th>4</th>\n",
              "      <td>375534208663984</td>\n",
              "      <td>misc</td>\n",
              "      <td>41.96</td>\n",
              "    </tr>\n",
              "  </tbody>\n",
              "</table>\n",
              "</div>\n",
              "      <button class=\"colab-df-convert\" onclick=\"convertToInteractive('df-88c46d53-adc9-4aca-8121-960c7007cb95')\"\n",
              "              title=\"Convert this dataframe to an interactive table.\"\n",
              "              style=\"display:none;\">\n",
              "        \n",
              "  <svg xmlns=\"http://www.w3.org/2000/svg\" height=\"24px\"viewBox=\"0 0 24 24\"\n",
              "       width=\"24px\">\n",
              "    <path d=\"M0 0h24v24H0V0z\" fill=\"none\"/>\n",
              "    <path d=\"M18.56 5.44l.94 2.06.94-2.06 2.06-.94-2.06-.94-.94-2.06-.94 2.06-2.06.94zm-11 1L8.5 8.5l.94-2.06 2.06-.94-2.06-.94L8.5 2.5l-.94 2.06-2.06.94zm10 10l.94 2.06.94-2.06 2.06-.94-2.06-.94-.94-2.06-.94 2.06-2.06.94z\"/><path d=\"M17.41 7.96l-1.37-1.37c-.4-.4-.92-.59-1.43-.59-.52 0-1.04.2-1.43.59L10.3 9.45l-7.72 7.72c-.78.78-.78 2.05 0 2.83L4 21.41c.39.39.9.59 1.41.59.51 0 1.02-.2 1.41-.59l7.78-7.78 2.81-2.81c.8-.78.8-2.07 0-2.86zM5.41 20L4 18.59l7.72-7.72 1.47 1.35L5.41 20z\"/>\n",
              "  </svg>\n",
              "      </button>\n",
              "      \n",
              "  <style>\n",
              "    .colab-df-container {\n",
              "      display:flex;\n",
              "      flex-wrap:wrap;\n",
              "      gap: 12px;\n",
              "    }\n",
              "\n",
              "    .colab-df-convert {\n",
              "      background-color: #E8F0FE;\n",
              "      border: none;\n",
              "      border-radius: 50%;\n",
              "      cursor: pointer;\n",
              "      display: none;\n",
              "      fill: #1967D2;\n",
              "      height: 32px;\n",
              "      padding: 0 0 0 0;\n",
              "      width: 32px;\n",
              "    }\n",
              "\n",
              "    .colab-df-convert:hover {\n",
              "      background-color: #E2EBFA;\n",
              "      box-shadow: 0px 1px 2px rgba(60, 64, 67, 0.3), 0px 1px 3px 1px rgba(60, 64, 67, 0.15);\n",
              "      fill: #174EA6;\n",
              "    }\n",
              "\n",
              "    [theme=dark] .colab-df-convert {\n",
              "      background-color: #3B4455;\n",
              "      fill: #D2E3FC;\n",
              "    }\n",
              "\n",
              "    [theme=dark] .colab-df-convert:hover {\n",
              "      background-color: #434B5C;\n",
              "      box-shadow: 0px 1px 3px 1px rgba(0, 0, 0, 0.15);\n",
              "      filter: drop-shadow(0px 1px 2px rgba(0, 0, 0, 0.3));\n",
              "      fill: #FFFFFF;\n",
              "    }\n",
              "  </style>\n",
              "\n",
              "      <script>\n",
              "        const buttonEl =\n",
              "          document.querySelector('#df-88c46d53-adc9-4aca-8121-960c7007cb95 button.colab-df-convert');\n",
              "        buttonEl.style.display =\n",
              "          google.colab.kernel.accessAllowed ? 'block' : 'none';\n",
              "\n",
              "        async function convertToInteractive(key) {\n",
              "          const element = document.querySelector('#df-88c46d53-adc9-4aca-8121-960c7007cb95');\n",
              "          const dataTable =\n",
              "            await google.colab.kernel.invokeFunction('convertToInteractive',\n",
              "                                                     [key], {});\n",
              "          if (!dataTable) return;\n",
              "\n",
              "          const docLinkHtml = 'Like what you see? Visit the ' +\n",
              "            '<a target=\"_blank\" href=https://colab.research.google.com/notebooks/data_table.ipynb>data table notebook</a>'\n",
              "            + ' to learn more about interactive tables.';\n",
              "          element.innerHTML = '';\n",
              "          dataTable['output_type'] = 'display_data';\n",
              "          await google.colab.output.renderOutput(dataTable, element);\n",
              "          const docLink = document.createElement('div');\n",
              "          docLink.innerHTML = docLinkHtml;\n",
              "          element.appendChild(docLink);\n",
              "        }\n",
              "      </script>\n",
              "    </div>\n",
              "  </div>\n",
              "  "
            ]
          },
          "metadata": {},
          "execution_count": 12
        }
      ]
    },
    {
      "cell_type": "markdown",
      "source": [
        "- cc_num: 카드번호\n",
        "- cateogry: 번주\n",
        "- amt: 거래 금액"
      ],
      "metadata": {
        "id": "FMw8EMcm6cQd"
      }
    },
    {
      "cell_type": "code",
      "source": [
        "customer['cc_num'].nunique()"
      ],
      "metadata": {
        "colab": {
          "base_uri": "https://localhost:8080/"
        },
        "id": "ozaiMPMn6ZtB",
        "outputId": "8026a391-9de7-41f2-89aa-363956564e02"
      },
      "execution_count": 13,
      "outputs": [
        {
          "output_type": "execute_result",
          "data": {
            "text/plain": [
              "100"
            ]
          },
          "metadata": {},
          "execution_count": 13
        }
      ]
    },
    {
      "cell_type": "code",
      "source": [
        "customer['category'].nunique()"
      ],
      "metadata": {
        "colab": {
          "base_uri": "https://localhost:8080/"
        },
        "id": "UTceJcyY6iv_",
        "outputId": "6029ede3-000f-4823-cf61-cffc21261339"
      },
      "execution_count": 14,
      "outputs": [
        {
          "output_type": "execute_result",
          "data": {
            "text/plain": [
              "11"
            ]
          },
          "metadata": {},
          "execution_count": 14
        }
      ]
    },
    {
      "cell_type": "markdown",
      "source": [
        "고객 100명, 11개의 범주에 대한 데이터임을 알 수 있음"
      ],
      "metadata": {
        "id": "HqukVrIK6nX4"
      }
    },
    {
      "cell_type": "markdown",
      "source": [
        "## 전처리: 피처 엔지니어링"
      ],
      "metadata": {
        "id": "wN-S-Waq6tu2"
      }
    },
    {
      "cell_type": "code",
      "source": [
        "customer_dummy = pd.get_dummies(customer, columns=['category'])  # 더미 변환\n",
        "customer_dummy.head()"
      ],
      "metadata": {
        "colab": {
          "base_uri": "https://localhost:8080/",
          "height": 270
        },
        "id": "bT-mYfPt6k73",
        "outputId": "94f03ac5-3ca9-40ae-a161-4b6f6d130614"
      },
      "execution_count": 15,
      "outputs": [
        {
          "output_type": "execute_result",
          "data": {
            "text/plain": [
              "             cc_num     amt  category_entertainment  category_food_dining  \\\n",
              "0  2703186189652095    4.97                       0                     0   \n",
              "1      630423337322  107.23                       0                     0   \n",
              "2    38859492057661  220.11                       1                     0   \n",
              "3  3534093764340240   45.00                       0                     0   \n",
              "4   375534208663984   41.96                       0                     0   \n",
              "\n",
              "   category_gas_transport  category_grocery  category_health_fitness  \\\n",
              "0                       0                 0                        0   \n",
              "1                       0                 1                        0   \n",
              "2                       0                 0                        0   \n",
              "3                       1                 0                        0   \n",
              "4                       0                 0                        0   \n",
              "\n",
              "   category_home  category_kids_pets  category_misc  category_personal_care  \\\n",
              "0              0                   0              1                       0   \n",
              "1              0                   0              0                       0   \n",
              "2              0                   0              0                       0   \n",
              "3              0                   0              0                       0   \n",
              "4              0                   0              1                       0   \n",
              "\n",
              "   category_shopping  category_travel  \n",
              "0                  0                0  \n",
              "1                  0                0  \n",
              "2                  0                0  \n",
              "3                  0                0  \n",
              "4                  0                0  "
            ],
            "text/html": [
              "\n",
              "  <div id=\"df-e553aaab-846b-4b7e-b53f-2fcff3ec37db\">\n",
              "    <div class=\"colab-df-container\">\n",
              "      <div>\n",
              "<style scoped>\n",
              "    .dataframe tbody tr th:only-of-type {\n",
              "        vertical-align: middle;\n",
              "    }\n",
              "\n",
              "    .dataframe tbody tr th {\n",
              "        vertical-align: top;\n",
              "    }\n",
              "\n",
              "    .dataframe thead th {\n",
              "        text-align: right;\n",
              "    }\n",
              "</style>\n",
              "<table border=\"1\" class=\"dataframe\">\n",
              "  <thead>\n",
              "    <tr style=\"text-align: right;\">\n",
              "      <th></th>\n",
              "      <th>cc_num</th>\n",
              "      <th>amt</th>\n",
              "      <th>category_entertainment</th>\n",
              "      <th>category_food_dining</th>\n",
              "      <th>category_gas_transport</th>\n",
              "      <th>category_grocery</th>\n",
              "      <th>category_health_fitness</th>\n",
              "      <th>category_home</th>\n",
              "      <th>category_kids_pets</th>\n",
              "      <th>category_misc</th>\n",
              "      <th>category_personal_care</th>\n",
              "      <th>category_shopping</th>\n",
              "      <th>category_travel</th>\n",
              "    </tr>\n",
              "  </thead>\n",
              "  <tbody>\n",
              "    <tr>\n",
              "      <th>0</th>\n",
              "      <td>2703186189652095</td>\n",
              "      <td>4.97</td>\n",
              "      <td>0</td>\n",
              "      <td>0</td>\n",
              "      <td>0</td>\n",
              "      <td>0</td>\n",
              "      <td>0</td>\n",
              "      <td>0</td>\n",
              "      <td>0</td>\n",
              "      <td>1</td>\n",
              "      <td>0</td>\n",
              "      <td>0</td>\n",
              "      <td>0</td>\n",
              "    </tr>\n",
              "    <tr>\n",
              "      <th>1</th>\n",
              "      <td>630423337322</td>\n",
              "      <td>107.23</td>\n",
              "      <td>0</td>\n",
              "      <td>0</td>\n",
              "      <td>0</td>\n",
              "      <td>1</td>\n",
              "      <td>0</td>\n",
              "      <td>0</td>\n",
              "      <td>0</td>\n",
              "      <td>0</td>\n",
              "      <td>0</td>\n",
              "      <td>0</td>\n",
              "      <td>0</td>\n",
              "    </tr>\n",
              "    <tr>\n",
              "      <th>2</th>\n",
              "      <td>38859492057661</td>\n",
              "      <td>220.11</td>\n",
              "      <td>1</td>\n",
              "      <td>0</td>\n",
              "      <td>0</td>\n",
              "      <td>0</td>\n",
              "      <td>0</td>\n",
              "      <td>0</td>\n",
              "      <td>0</td>\n",
              "      <td>0</td>\n",
              "      <td>0</td>\n",
              "      <td>0</td>\n",
              "      <td>0</td>\n",
              "    </tr>\n",
              "    <tr>\n",
              "      <th>3</th>\n",
              "      <td>3534093764340240</td>\n",
              "      <td>45.00</td>\n",
              "      <td>0</td>\n",
              "      <td>0</td>\n",
              "      <td>1</td>\n",
              "      <td>0</td>\n",
              "      <td>0</td>\n",
              "      <td>0</td>\n",
              "      <td>0</td>\n",
              "      <td>0</td>\n",
              "      <td>0</td>\n",
              "      <td>0</td>\n",
              "      <td>0</td>\n",
              "    </tr>\n",
              "    <tr>\n",
              "      <th>4</th>\n",
              "      <td>375534208663984</td>\n",
              "      <td>41.96</td>\n",
              "      <td>0</td>\n",
              "      <td>0</td>\n",
              "      <td>0</td>\n",
              "      <td>0</td>\n",
              "      <td>0</td>\n",
              "      <td>0</td>\n",
              "      <td>0</td>\n",
              "      <td>1</td>\n",
              "      <td>0</td>\n",
              "      <td>0</td>\n",
              "      <td>0</td>\n",
              "    </tr>\n",
              "  </tbody>\n",
              "</table>\n",
              "</div>\n",
              "      <button class=\"colab-df-convert\" onclick=\"convertToInteractive('df-e553aaab-846b-4b7e-b53f-2fcff3ec37db')\"\n",
              "              title=\"Convert this dataframe to an interactive table.\"\n",
              "              style=\"display:none;\">\n",
              "        \n",
              "  <svg xmlns=\"http://www.w3.org/2000/svg\" height=\"24px\"viewBox=\"0 0 24 24\"\n",
              "       width=\"24px\">\n",
              "    <path d=\"M0 0h24v24H0V0z\" fill=\"none\"/>\n",
              "    <path d=\"M18.56 5.44l.94 2.06.94-2.06 2.06-.94-2.06-.94-.94-2.06-.94 2.06-2.06.94zm-11 1L8.5 8.5l.94-2.06 2.06-.94-2.06-.94L8.5 2.5l-.94 2.06-2.06.94zm10 10l.94 2.06.94-2.06 2.06-.94-2.06-.94-.94-2.06-.94 2.06-2.06.94z\"/><path d=\"M17.41 7.96l-1.37-1.37c-.4-.4-.92-.59-1.43-.59-.52 0-1.04.2-1.43.59L10.3 9.45l-7.72 7.72c-.78.78-.78 2.05 0 2.83L4 21.41c.39.39.9.59 1.41.59.51 0 1.02-.2 1.41-.59l7.78-7.78 2.81-2.81c.8-.78.8-2.07 0-2.86zM5.41 20L4 18.59l7.72-7.72 1.47 1.35L5.41 20z\"/>\n",
              "  </svg>\n",
              "      </button>\n",
              "      \n",
              "  <style>\n",
              "    .colab-df-container {\n",
              "      display:flex;\n",
              "      flex-wrap:wrap;\n",
              "      gap: 12px;\n",
              "    }\n",
              "\n",
              "    .colab-df-convert {\n",
              "      background-color: #E8F0FE;\n",
              "      border: none;\n",
              "      border-radius: 50%;\n",
              "      cursor: pointer;\n",
              "      display: none;\n",
              "      fill: #1967D2;\n",
              "      height: 32px;\n",
              "      padding: 0 0 0 0;\n",
              "      width: 32px;\n",
              "    }\n",
              "\n",
              "    .colab-df-convert:hover {\n",
              "      background-color: #E2EBFA;\n",
              "      box-shadow: 0px 1px 2px rgba(60, 64, 67, 0.3), 0px 1px 3px 1px rgba(60, 64, 67, 0.15);\n",
              "      fill: #174EA6;\n",
              "    }\n",
              "\n",
              "    [theme=dark] .colab-df-convert {\n",
              "      background-color: #3B4455;\n",
              "      fill: #D2E3FC;\n",
              "    }\n",
              "\n",
              "    [theme=dark] .colab-df-convert:hover {\n",
              "      background-color: #434B5C;\n",
              "      box-shadow: 0px 1px 3px 1px rgba(0, 0, 0, 0.15);\n",
              "      filter: drop-shadow(0px 1px 2px rgba(0, 0, 0, 0.3));\n",
              "      fill: #FFFFFF;\n",
              "    }\n",
              "  </style>\n",
              "\n",
              "      <script>\n",
              "        const buttonEl =\n",
              "          document.querySelector('#df-e553aaab-846b-4b7e-b53f-2fcff3ec37db button.colab-df-convert');\n",
              "        buttonEl.style.display =\n",
              "          google.colab.kernel.accessAllowed ? 'block' : 'none';\n",
              "\n",
              "        async function convertToInteractive(key) {\n",
              "          const element = document.querySelector('#df-e553aaab-846b-4b7e-b53f-2fcff3ec37db');\n",
              "          const dataTable =\n",
              "            await google.colab.kernel.invokeFunction('convertToInteractive',\n",
              "                                                     [key], {});\n",
              "          if (!dataTable) return;\n",
              "\n",
              "          const docLinkHtml = 'Like what you see? Visit the ' +\n",
              "            '<a target=\"_blank\" href=https://colab.research.google.com/notebooks/data_table.ipynb>data table notebook</a>'\n",
              "            + ' to learn more about interactive tables.';\n",
              "          element.innerHTML = '';\n",
              "          dataTable['output_type'] = 'display_data';\n",
              "          await google.colab.output.renderOutput(dataTable, element);\n",
              "          const docLink = document.createElement('div');\n",
              "          docLink.innerHTML = docLinkHtml;\n",
              "          element.appendChild(docLink);\n",
              "        }\n",
              "      </script>\n",
              "    </div>\n",
              "  </div>\n",
              "  "
            ]
          },
          "metadata": {},
          "execution_count": 15
        }
      ]
    },
    {
      "cell_type": "markdown",
      "source": [
        "범주별로 얼마만큼의 금액을 썼는지 계산하기 위해, 더미 변수로 변환된 영역에 amt 값을 곱함\n",
        "- 1인 영역에만 계산이 되어 자연스럽게 사용된 변수에 금액이 들어감"
      ],
      "metadata": {
        "id": "BHmcgQRP7JUb"
      }
    },
    {
      "cell_type": "code",
      "source": [
        "cat_list = customer_dummy.columns[2:]  # 더미 변환된 변수 이름\n",
        "for i in cat_list:\n",
        "  customer_dummy[i] = customer_dummy[i] * customer_dummy['amt']  # 금액으로 변수 업데이트\n",
        "\n",
        "customer_dummy.head()"
      ],
      "metadata": {
        "colab": {
          "base_uri": "https://localhost:8080/",
          "height": 270
        },
        "id": "mh4uSYjR64fn",
        "outputId": "4817aec6-eda9-43df-86a0-e8eabba42dfd"
      },
      "execution_count": 16,
      "outputs": [
        {
          "output_type": "execute_result",
          "data": {
            "text/plain": [
              "             cc_num     amt  category_entertainment  category_food_dining  \\\n",
              "0  2703186189652095    4.97                    0.00                   0.0   \n",
              "1      630423337322  107.23                    0.00                   0.0   \n",
              "2    38859492057661  220.11                  220.11                   0.0   \n",
              "3  3534093764340240   45.00                    0.00                   0.0   \n",
              "4   375534208663984   41.96                    0.00                   0.0   \n",
              "\n",
              "   category_gas_transport  category_grocery  category_health_fitness  \\\n",
              "0                     0.0              0.00                      0.0   \n",
              "1                     0.0            107.23                      0.0   \n",
              "2                     0.0              0.00                      0.0   \n",
              "3                    45.0              0.00                      0.0   \n",
              "4                     0.0              0.00                      0.0   \n",
              "\n",
              "   category_home  category_kids_pets  category_misc  category_personal_care  \\\n",
              "0            0.0                 0.0           4.97                     0.0   \n",
              "1            0.0                 0.0           0.00                     0.0   \n",
              "2            0.0                 0.0           0.00                     0.0   \n",
              "3            0.0                 0.0           0.00                     0.0   \n",
              "4            0.0                 0.0          41.96                     0.0   \n",
              "\n",
              "   category_shopping  category_travel  \n",
              "0                0.0              0.0  \n",
              "1                0.0              0.0  \n",
              "2                0.0              0.0  \n",
              "3                0.0              0.0  \n",
              "4                0.0              0.0  "
            ],
            "text/html": [
              "\n",
              "  <div id=\"df-a57c1b54-fe22-4af6-a6ca-002019f26492\">\n",
              "    <div class=\"colab-df-container\">\n",
              "      <div>\n",
              "<style scoped>\n",
              "    .dataframe tbody tr th:only-of-type {\n",
              "        vertical-align: middle;\n",
              "    }\n",
              "\n",
              "    .dataframe tbody tr th {\n",
              "        vertical-align: top;\n",
              "    }\n",
              "\n",
              "    .dataframe thead th {\n",
              "        text-align: right;\n",
              "    }\n",
              "</style>\n",
              "<table border=\"1\" class=\"dataframe\">\n",
              "  <thead>\n",
              "    <tr style=\"text-align: right;\">\n",
              "      <th></th>\n",
              "      <th>cc_num</th>\n",
              "      <th>amt</th>\n",
              "      <th>category_entertainment</th>\n",
              "      <th>category_food_dining</th>\n",
              "      <th>category_gas_transport</th>\n",
              "      <th>category_grocery</th>\n",
              "      <th>category_health_fitness</th>\n",
              "      <th>category_home</th>\n",
              "      <th>category_kids_pets</th>\n",
              "      <th>category_misc</th>\n",
              "      <th>category_personal_care</th>\n",
              "      <th>category_shopping</th>\n",
              "      <th>category_travel</th>\n",
              "    </tr>\n",
              "  </thead>\n",
              "  <tbody>\n",
              "    <tr>\n",
              "      <th>0</th>\n",
              "      <td>2703186189652095</td>\n",
              "      <td>4.97</td>\n",
              "      <td>0.00</td>\n",
              "      <td>0.0</td>\n",
              "      <td>0.0</td>\n",
              "      <td>0.00</td>\n",
              "      <td>0.0</td>\n",
              "      <td>0.0</td>\n",
              "      <td>0.0</td>\n",
              "      <td>4.97</td>\n",
              "      <td>0.0</td>\n",
              "      <td>0.0</td>\n",
              "      <td>0.0</td>\n",
              "    </tr>\n",
              "    <tr>\n",
              "      <th>1</th>\n",
              "      <td>630423337322</td>\n",
              "      <td>107.23</td>\n",
              "      <td>0.00</td>\n",
              "      <td>0.0</td>\n",
              "      <td>0.0</td>\n",
              "      <td>107.23</td>\n",
              "      <td>0.0</td>\n",
              "      <td>0.0</td>\n",
              "      <td>0.0</td>\n",
              "      <td>0.00</td>\n",
              "      <td>0.0</td>\n",
              "      <td>0.0</td>\n",
              "      <td>0.0</td>\n",
              "    </tr>\n",
              "    <tr>\n",
              "      <th>2</th>\n",
              "      <td>38859492057661</td>\n",
              "      <td>220.11</td>\n",
              "      <td>220.11</td>\n",
              "      <td>0.0</td>\n",
              "      <td>0.0</td>\n",
              "      <td>0.00</td>\n",
              "      <td>0.0</td>\n",
              "      <td>0.0</td>\n",
              "      <td>0.0</td>\n",
              "      <td>0.00</td>\n",
              "      <td>0.0</td>\n",
              "      <td>0.0</td>\n",
              "      <td>0.0</td>\n",
              "    </tr>\n",
              "    <tr>\n",
              "      <th>3</th>\n",
              "      <td>3534093764340240</td>\n",
              "      <td>45.00</td>\n",
              "      <td>0.00</td>\n",
              "      <td>0.0</td>\n",
              "      <td>45.0</td>\n",
              "      <td>0.00</td>\n",
              "      <td>0.0</td>\n",
              "      <td>0.0</td>\n",
              "      <td>0.0</td>\n",
              "      <td>0.00</td>\n",
              "      <td>0.0</td>\n",
              "      <td>0.0</td>\n",
              "      <td>0.0</td>\n",
              "    </tr>\n",
              "    <tr>\n",
              "      <th>4</th>\n",
              "      <td>375534208663984</td>\n",
              "      <td>41.96</td>\n",
              "      <td>0.00</td>\n",
              "      <td>0.0</td>\n",
              "      <td>0.0</td>\n",
              "      <td>0.00</td>\n",
              "      <td>0.0</td>\n",
              "      <td>0.0</td>\n",
              "      <td>0.0</td>\n",
              "      <td>41.96</td>\n",
              "      <td>0.0</td>\n",
              "      <td>0.0</td>\n",
              "      <td>0.0</td>\n",
              "    </tr>\n",
              "  </tbody>\n",
              "</table>\n",
              "</div>\n",
              "      <button class=\"colab-df-convert\" onclick=\"convertToInteractive('df-a57c1b54-fe22-4af6-a6ca-002019f26492')\"\n",
              "              title=\"Convert this dataframe to an interactive table.\"\n",
              "              style=\"display:none;\">\n",
              "        \n",
              "  <svg xmlns=\"http://www.w3.org/2000/svg\" height=\"24px\"viewBox=\"0 0 24 24\"\n",
              "       width=\"24px\">\n",
              "    <path d=\"M0 0h24v24H0V0z\" fill=\"none\"/>\n",
              "    <path d=\"M18.56 5.44l.94 2.06.94-2.06 2.06-.94-2.06-.94-.94-2.06-.94 2.06-2.06.94zm-11 1L8.5 8.5l.94-2.06 2.06-.94-2.06-.94L8.5 2.5l-.94 2.06-2.06.94zm10 10l.94 2.06.94-2.06 2.06-.94-2.06-.94-.94-2.06-.94 2.06-2.06.94z\"/><path d=\"M17.41 7.96l-1.37-1.37c-.4-.4-.92-.59-1.43-.59-.52 0-1.04.2-1.43.59L10.3 9.45l-7.72 7.72c-.78.78-.78 2.05 0 2.83L4 21.41c.39.39.9.59 1.41.59.51 0 1.02-.2 1.41-.59l7.78-7.78 2.81-2.81c.8-.78.8-2.07 0-2.86zM5.41 20L4 18.59l7.72-7.72 1.47 1.35L5.41 20z\"/>\n",
              "  </svg>\n",
              "      </button>\n",
              "      \n",
              "  <style>\n",
              "    .colab-df-container {\n",
              "      display:flex;\n",
              "      flex-wrap:wrap;\n",
              "      gap: 12px;\n",
              "    }\n",
              "\n",
              "    .colab-df-convert {\n",
              "      background-color: #E8F0FE;\n",
              "      border: none;\n",
              "      border-radius: 50%;\n",
              "      cursor: pointer;\n",
              "      display: none;\n",
              "      fill: #1967D2;\n",
              "      height: 32px;\n",
              "      padding: 0 0 0 0;\n",
              "      width: 32px;\n",
              "    }\n",
              "\n",
              "    .colab-df-convert:hover {\n",
              "      background-color: #E2EBFA;\n",
              "      box-shadow: 0px 1px 2px rgba(60, 64, 67, 0.3), 0px 1px 3px 1px rgba(60, 64, 67, 0.15);\n",
              "      fill: #174EA6;\n",
              "    }\n",
              "\n",
              "    [theme=dark] .colab-df-convert {\n",
              "      background-color: #3B4455;\n",
              "      fill: #D2E3FC;\n",
              "    }\n",
              "\n",
              "    [theme=dark] .colab-df-convert:hover {\n",
              "      background-color: #434B5C;\n",
              "      box-shadow: 0px 1px 3px 1px rgba(0, 0, 0, 0.15);\n",
              "      filter: drop-shadow(0px 1px 2px rgba(0, 0, 0, 0.3));\n",
              "      fill: #FFFFFF;\n",
              "    }\n",
              "  </style>\n",
              "\n",
              "      <script>\n",
              "        const buttonEl =\n",
              "          document.querySelector('#df-a57c1b54-fe22-4af6-a6ca-002019f26492 button.colab-df-convert');\n",
              "        buttonEl.style.display =\n",
              "          google.colab.kernel.accessAllowed ? 'block' : 'none';\n",
              "\n",
              "        async function convertToInteractive(key) {\n",
              "          const element = document.querySelector('#df-a57c1b54-fe22-4af6-a6ca-002019f26492');\n",
              "          const dataTable =\n",
              "            await google.colab.kernel.invokeFunction('convertToInteractive',\n",
              "                                                     [key], {});\n",
              "          if (!dataTable) return;\n",
              "\n",
              "          const docLinkHtml = 'Like what you see? Visit the ' +\n",
              "            '<a target=\"_blank\" href=https://colab.research.google.com/notebooks/data_table.ipynb>data table notebook</a>'\n",
              "            + ' to learn more about interactive tables.';\n",
              "          element.innerHTML = '';\n",
              "          dataTable['output_type'] = 'display_data';\n",
              "          await google.colab.output.renderOutput(dataTable, element);\n",
              "          const docLink = document.createElement('div');\n",
              "          docLink.innerHTML = docLinkHtml;\n",
              "          element.appendChild(docLink);\n",
              "        }\n",
              "      </script>\n",
              "    </div>\n",
              "  </div>\n",
              "  "
            ]
          },
          "metadata": {},
          "execution_count": 16
        }
      ]
    },
    {
      "cell_type": "markdown",
      "source": [
        "각 고객별로 데이터를 정리하기 위해 `groupby()` 함수 사용\n",
        "- 고객별 총 사용 금액 및 범주별 사용 금액"
      ],
      "metadata": {
        "id": "K5xwStSi7qVq"
      }
    },
    {
      "cell_type": "code",
      "source": [
        "customer_agg = customer_dummy.groupby('cc_num').sum()  # 고객 별 총 거래 금액\n",
        "customer_agg.head()"
      ],
      "metadata": {
        "colab": {
          "base_uri": "https://localhost:8080/",
          "height": 302
        },
        "id": "ctQFxudX7c1g",
        "outputId": "4b4fa695-3b67-4c58-a75a-2832bb5d3386"
      },
      "execution_count": 17,
      "outputs": [
        {
          "output_type": "execute_result",
          "data": {
            "text/plain": [
              "                    amt  category_entertainment  category_food_dining  \\\n",
              "cc_num                                                                  \n",
              "60495593109    48149.62                 3169.74               4043.46   \n",
              "571365235126  259784.87                13864.51               9055.51   \n",
              "571465035400  270081.63                16162.98              15448.75   \n",
              "630412733309   41959.52                 3212.46               1543.16   \n",
              "630423337322  244612.73                12786.75               6905.07   \n",
              "\n",
              "              category_gas_transport  category_grocery  \\\n",
              "cc_num                                                   \n",
              "60495593109                  5076.36           7576.58   \n",
              "571365235126                36525.79          48812.73   \n",
              "571465035400                 9081.62          41643.82   \n",
              "630412733309                 5786.98           8416.70   \n",
              "630423337322                36460.40          43854.26   \n",
              "\n",
              "              category_health_fitness  category_home  category_kids_pets  \\\n",
              "cc_num                                                                     \n",
              "60495593109                   1631.22        5458.58             4924.97   \n",
              "571365235126                 13685.60       19342.79            17726.82   \n",
              "571465035400                 15244.03       28282.98            13737.95   \n",
              "630412733309                  3201.04        2474.68             3648.97   \n",
              "630423337322                 12136.74       21106.87            16807.24   \n",
              "\n",
              "              category_misc  category_personal_care  category_shopping  \\\n",
              "cc_num                                                                   \n",
              "60495593109         4889.57                 3135.25            8106.36   \n",
              "571365235126       32542.61                16672.08           45994.60   \n",
              "571465035400       15880.82                 8771.27           59454.96   \n",
              "630412733309        3109.83                 2592.17            7586.79   \n",
              "630423337322       32400.76                15885.32           44287.02   \n",
              "\n",
              "              category_travel  \n",
              "cc_num                         \n",
              "60495593109            137.53  \n",
              "571365235126          5561.83  \n",
              "571465035400         46372.45  \n",
              "630412733309           386.74  \n",
              "630423337322          1982.30  "
            ],
            "text/html": [
              "\n",
              "  <div id=\"df-e6f8d996-7b6a-4852-9678-5e300c7b348f\">\n",
              "    <div class=\"colab-df-container\">\n",
              "      <div>\n",
              "<style scoped>\n",
              "    .dataframe tbody tr th:only-of-type {\n",
              "        vertical-align: middle;\n",
              "    }\n",
              "\n",
              "    .dataframe tbody tr th {\n",
              "        vertical-align: top;\n",
              "    }\n",
              "\n",
              "    .dataframe thead th {\n",
              "        text-align: right;\n",
              "    }\n",
              "</style>\n",
              "<table border=\"1\" class=\"dataframe\">\n",
              "  <thead>\n",
              "    <tr style=\"text-align: right;\">\n",
              "      <th></th>\n",
              "      <th>amt</th>\n",
              "      <th>category_entertainment</th>\n",
              "      <th>category_food_dining</th>\n",
              "      <th>category_gas_transport</th>\n",
              "      <th>category_grocery</th>\n",
              "      <th>category_health_fitness</th>\n",
              "      <th>category_home</th>\n",
              "      <th>category_kids_pets</th>\n",
              "      <th>category_misc</th>\n",
              "      <th>category_personal_care</th>\n",
              "      <th>category_shopping</th>\n",
              "      <th>category_travel</th>\n",
              "    </tr>\n",
              "    <tr>\n",
              "      <th>cc_num</th>\n",
              "      <th></th>\n",
              "      <th></th>\n",
              "      <th></th>\n",
              "      <th></th>\n",
              "      <th></th>\n",
              "      <th></th>\n",
              "      <th></th>\n",
              "      <th></th>\n",
              "      <th></th>\n",
              "      <th></th>\n",
              "      <th></th>\n",
              "      <th></th>\n",
              "    </tr>\n",
              "  </thead>\n",
              "  <tbody>\n",
              "    <tr>\n",
              "      <th>60495593109</th>\n",
              "      <td>48149.62</td>\n",
              "      <td>3169.74</td>\n",
              "      <td>4043.46</td>\n",
              "      <td>5076.36</td>\n",
              "      <td>7576.58</td>\n",
              "      <td>1631.22</td>\n",
              "      <td>5458.58</td>\n",
              "      <td>4924.97</td>\n",
              "      <td>4889.57</td>\n",
              "      <td>3135.25</td>\n",
              "      <td>8106.36</td>\n",
              "      <td>137.53</td>\n",
              "    </tr>\n",
              "    <tr>\n",
              "      <th>571365235126</th>\n",
              "      <td>259784.87</td>\n",
              "      <td>13864.51</td>\n",
              "      <td>9055.51</td>\n",
              "      <td>36525.79</td>\n",
              "      <td>48812.73</td>\n",
              "      <td>13685.60</td>\n",
              "      <td>19342.79</td>\n",
              "      <td>17726.82</td>\n",
              "      <td>32542.61</td>\n",
              "      <td>16672.08</td>\n",
              "      <td>45994.60</td>\n",
              "      <td>5561.83</td>\n",
              "    </tr>\n",
              "    <tr>\n",
              "      <th>571465035400</th>\n",
              "      <td>270081.63</td>\n",
              "      <td>16162.98</td>\n",
              "      <td>15448.75</td>\n",
              "      <td>9081.62</td>\n",
              "      <td>41643.82</td>\n",
              "      <td>15244.03</td>\n",
              "      <td>28282.98</td>\n",
              "      <td>13737.95</td>\n",
              "      <td>15880.82</td>\n",
              "      <td>8771.27</td>\n",
              "      <td>59454.96</td>\n",
              "      <td>46372.45</td>\n",
              "    </tr>\n",
              "    <tr>\n",
              "      <th>630412733309</th>\n",
              "      <td>41959.52</td>\n",
              "      <td>3212.46</td>\n",
              "      <td>1543.16</td>\n",
              "      <td>5786.98</td>\n",
              "      <td>8416.70</td>\n",
              "      <td>3201.04</td>\n",
              "      <td>2474.68</td>\n",
              "      <td>3648.97</td>\n",
              "      <td>3109.83</td>\n",
              "      <td>2592.17</td>\n",
              "      <td>7586.79</td>\n",
              "      <td>386.74</td>\n",
              "    </tr>\n",
              "    <tr>\n",
              "      <th>630423337322</th>\n",
              "      <td>244612.73</td>\n",
              "      <td>12786.75</td>\n",
              "      <td>6905.07</td>\n",
              "      <td>36460.40</td>\n",
              "      <td>43854.26</td>\n",
              "      <td>12136.74</td>\n",
              "      <td>21106.87</td>\n",
              "      <td>16807.24</td>\n",
              "      <td>32400.76</td>\n",
              "      <td>15885.32</td>\n",
              "      <td>44287.02</td>\n",
              "      <td>1982.30</td>\n",
              "    </tr>\n",
              "  </tbody>\n",
              "</table>\n",
              "</div>\n",
              "      <button class=\"colab-df-convert\" onclick=\"convertToInteractive('df-e6f8d996-7b6a-4852-9678-5e300c7b348f')\"\n",
              "              title=\"Convert this dataframe to an interactive table.\"\n",
              "              style=\"display:none;\">\n",
              "        \n",
              "  <svg xmlns=\"http://www.w3.org/2000/svg\" height=\"24px\"viewBox=\"0 0 24 24\"\n",
              "       width=\"24px\">\n",
              "    <path d=\"M0 0h24v24H0V0z\" fill=\"none\"/>\n",
              "    <path d=\"M18.56 5.44l.94 2.06.94-2.06 2.06-.94-2.06-.94-.94-2.06-.94 2.06-2.06.94zm-11 1L8.5 8.5l.94-2.06 2.06-.94-2.06-.94L8.5 2.5l-.94 2.06-2.06.94zm10 10l.94 2.06.94-2.06 2.06-.94-2.06-.94-.94-2.06-.94 2.06-2.06.94z\"/><path d=\"M17.41 7.96l-1.37-1.37c-.4-.4-.92-.59-1.43-.59-.52 0-1.04.2-1.43.59L10.3 9.45l-7.72 7.72c-.78.78-.78 2.05 0 2.83L4 21.41c.39.39.9.59 1.41.59.51 0 1.02-.2 1.41-.59l7.78-7.78 2.81-2.81c.8-.78.8-2.07 0-2.86zM5.41 20L4 18.59l7.72-7.72 1.47 1.35L5.41 20z\"/>\n",
              "  </svg>\n",
              "      </button>\n",
              "      \n",
              "  <style>\n",
              "    .colab-df-container {\n",
              "      display:flex;\n",
              "      flex-wrap:wrap;\n",
              "      gap: 12px;\n",
              "    }\n",
              "\n",
              "    .colab-df-convert {\n",
              "      background-color: #E8F0FE;\n",
              "      border: none;\n",
              "      border-radius: 50%;\n",
              "      cursor: pointer;\n",
              "      display: none;\n",
              "      fill: #1967D2;\n",
              "      height: 32px;\n",
              "      padding: 0 0 0 0;\n",
              "      width: 32px;\n",
              "    }\n",
              "\n",
              "    .colab-df-convert:hover {\n",
              "      background-color: #E2EBFA;\n",
              "      box-shadow: 0px 1px 2px rgba(60, 64, 67, 0.3), 0px 1px 3px 1px rgba(60, 64, 67, 0.15);\n",
              "      fill: #174EA6;\n",
              "    }\n",
              "\n",
              "    [theme=dark] .colab-df-convert {\n",
              "      background-color: #3B4455;\n",
              "      fill: #D2E3FC;\n",
              "    }\n",
              "\n",
              "    [theme=dark] .colab-df-convert:hover {\n",
              "      background-color: #434B5C;\n",
              "      box-shadow: 0px 1px 3px 1px rgba(0, 0, 0, 0.15);\n",
              "      filter: drop-shadow(0px 1px 2px rgba(0, 0, 0, 0.3));\n",
              "      fill: #FFFFFF;\n",
              "    }\n",
              "  </style>\n",
              "\n",
              "      <script>\n",
              "        const buttonEl =\n",
              "          document.querySelector('#df-e6f8d996-7b6a-4852-9678-5e300c7b348f button.colab-df-convert');\n",
              "        buttonEl.style.display =\n",
              "          google.colab.kernel.accessAllowed ? 'block' : 'none';\n",
              "\n",
              "        async function convertToInteractive(key) {\n",
              "          const element = document.querySelector('#df-e6f8d996-7b6a-4852-9678-5e300c7b348f');\n",
              "          const dataTable =\n",
              "            await google.colab.kernel.invokeFunction('convertToInteractive',\n",
              "                                                     [key], {});\n",
              "          if (!dataTable) return;\n",
              "\n",
              "          const docLinkHtml = 'Like what you see? Visit the ' +\n",
              "            '<a target=\"_blank\" href=https://colab.research.google.com/notebooks/data_table.ipynb>data table notebook</a>'\n",
              "            + ' to learn more about interactive tables.';\n",
              "          element.innerHTML = '';\n",
              "          dataTable['output_type'] = 'display_data';\n",
              "          await google.colab.output.renderOutput(dataTable, element);\n",
              "          const docLink = document.createElement('div');\n",
              "          docLink.innerHTML = docLinkHtml;\n",
              "          element.appendChild(docLink);\n",
              "        }\n",
              "      </script>\n",
              "    </div>\n",
              "  </div>\n",
              "  "
            ]
          },
          "metadata": {},
          "execution_count": 17
        }
      ]
    },
    {
      "cell_type": "markdown",
      "source": [
        "K-평균 군집화는 거리 기반 알고리즘이기 때문에 데이터의 스케일에 영향을 받음\n",
        "- StandardScaler 사용"
      ],
      "metadata": {
        "id": "dwFUcY6t73XR"
      }
    },
    {
      "cell_type": "code",
      "source": [
        "from sklearn.preprocessing import StandardScaler\n",
        "scaler = StandardScaler()\n",
        "scaled_df = pd.DataFrame(scaler.fit_transform(customer_agg), columns=customer_agg.columns, index=customer_agg.index)  # 스케일링 후 데이터 프레임으로 변환"
      ],
      "metadata": {
        "id": "-1J26yyY7n8N"
      },
      "execution_count": 18,
      "outputs": []
    },
    {
      "cell_type": "code",
      "source": [
        "scaled_df.head()"
      ],
      "metadata": {
        "colab": {
          "base_uri": "https://localhost:8080/",
          "height": 302
        },
        "id": "iWvJ4sXr8I8J",
        "outputId": "8ff1d9e5-2b0e-4806-dcc1-2d9e61b960ed"
      },
      "execution_count": 19,
      "outputs": [
        {
          "output_type": "execute_result",
          "data": {
            "text/plain": [
              "                   amt  category_entertainment  category_food_dining  \\\n",
              "cc_num                                                                 \n",
              "60495593109  -1.402327               -1.135617             -0.971069   \n",
              "571365235126  1.079407                0.414075              0.168880   \n",
              "571465035400  1.200151                0.747127              1.622968   \n",
              "630412733309 -1.474915               -1.129427             -1.539741   \n",
              "630423337322  0.901491                0.257905             -0.320220   \n",
              "\n",
              "              category_gas_transport  category_grocery  \\\n",
              "cc_num                                                   \n",
              "60495593109                -1.000180         -1.118217   \n",
              "571365235126                2.090013          0.767268   \n",
              "571465035400               -0.606627          0.439476   \n",
              "630412733309               -0.930355         -1.079803   \n",
              "630423337322                2.083588          0.540547   \n",
              "\n",
              "              category_health_fitness  category_home  category_kids_pets  \\\n",
              "cc_num                                                                     \n",
              "60495593109                 -1.561756      -1.145051           -1.276913   \n",
              "571365235126                 1.040236       0.844969            1.127922   \n",
              "571465035400                 1.376630       2.126364            0.378610   \n",
              "630412733309                -1.222903      -1.572733           -1.516610   \n",
              "630423337322                 0.705908       1.097814            0.955178   \n",
              "\n",
              "              category_misc  category_personal_care  category_shopping  \\\n",
              "cc_num                                                                   \n",
              "60495593109       -1.124693               -1.070260          -1.141424   \n",
              "571365235126       1.210503                1.807350           0.659967   \n",
              "571465035400      -0.196523                0.127825           1.299938   \n",
              "630412733309      -1.274986               -1.185705          -1.166127   \n",
              "630423337322       1.198524                1.640103           0.578781   \n",
              "\n",
              "              category_travel  \n",
              "cc_num                         \n",
              "60495593109         -0.619930  \n",
              "571365235126        -0.222587  \n",
              "571465035400         2.766891  \n",
              "630412733309        -0.601675  \n",
              "630423337322        -0.484796  "
            ],
            "text/html": [
              "\n",
              "  <div id=\"df-a1e781da-82f7-4cb0-aea4-650e7bc06a29\">\n",
              "    <div class=\"colab-df-container\">\n",
              "      <div>\n",
              "<style scoped>\n",
              "    .dataframe tbody tr th:only-of-type {\n",
              "        vertical-align: middle;\n",
              "    }\n",
              "\n",
              "    .dataframe tbody tr th {\n",
              "        vertical-align: top;\n",
              "    }\n",
              "\n",
              "    .dataframe thead th {\n",
              "        text-align: right;\n",
              "    }\n",
              "</style>\n",
              "<table border=\"1\" class=\"dataframe\">\n",
              "  <thead>\n",
              "    <tr style=\"text-align: right;\">\n",
              "      <th></th>\n",
              "      <th>amt</th>\n",
              "      <th>category_entertainment</th>\n",
              "      <th>category_food_dining</th>\n",
              "      <th>category_gas_transport</th>\n",
              "      <th>category_grocery</th>\n",
              "      <th>category_health_fitness</th>\n",
              "      <th>category_home</th>\n",
              "      <th>category_kids_pets</th>\n",
              "      <th>category_misc</th>\n",
              "      <th>category_personal_care</th>\n",
              "      <th>category_shopping</th>\n",
              "      <th>category_travel</th>\n",
              "    </tr>\n",
              "    <tr>\n",
              "      <th>cc_num</th>\n",
              "      <th></th>\n",
              "      <th></th>\n",
              "      <th></th>\n",
              "      <th></th>\n",
              "      <th></th>\n",
              "      <th></th>\n",
              "      <th></th>\n",
              "      <th></th>\n",
              "      <th></th>\n",
              "      <th></th>\n",
              "      <th></th>\n",
              "      <th></th>\n",
              "    </tr>\n",
              "  </thead>\n",
              "  <tbody>\n",
              "    <tr>\n",
              "      <th>60495593109</th>\n",
              "      <td>-1.402327</td>\n",
              "      <td>-1.135617</td>\n",
              "      <td>-0.971069</td>\n",
              "      <td>-1.000180</td>\n",
              "      <td>-1.118217</td>\n",
              "      <td>-1.561756</td>\n",
              "      <td>-1.145051</td>\n",
              "      <td>-1.276913</td>\n",
              "      <td>-1.124693</td>\n",
              "      <td>-1.070260</td>\n",
              "      <td>-1.141424</td>\n",
              "      <td>-0.619930</td>\n",
              "    </tr>\n",
              "    <tr>\n",
              "      <th>571365235126</th>\n",
              "      <td>1.079407</td>\n",
              "      <td>0.414075</td>\n",
              "      <td>0.168880</td>\n",
              "      <td>2.090013</td>\n",
              "      <td>0.767268</td>\n",
              "      <td>1.040236</td>\n",
              "      <td>0.844969</td>\n",
              "      <td>1.127922</td>\n",
              "      <td>1.210503</td>\n",
              "      <td>1.807350</td>\n",
              "      <td>0.659967</td>\n",
              "      <td>-0.222587</td>\n",
              "    </tr>\n",
              "    <tr>\n",
              "      <th>571465035400</th>\n",
              "      <td>1.200151</td>\n",
              "      <td>0.747127</td>\n",
              "      <td>1.622968</td>\n",
              "      <td>-0.606627</td>\n",
              "      <td>0.439476</td>\n",
              "      <td>1.376630</td>\n",
              "      <td>2.126364</td>\n",
              "      <td>0.378610</td>\n",
              "      <td>-0.196523</td>\n",
              "      <td>0.127825</td>\n",
              "      <td>1.299938</td>\n",
              "      <td>2.766891</td>\n",
              "    </tr>\n",
              "    <tr>\n",
              "      <th>630412733309</th>\n",
              "      <td>-1.474915</td>\n",
              "      <td>-1.129427</td>\n",
              "      <td>-1.539741</td>\n",
              "      <td>-0.930355</td>\n",
              "      <td>-1.079803</td>\n",
              "      <td>-1.222903</td>\n",
              "      <td>-1.572733</td>\n",
              "      <td>-1.516610</td>\n",
              "      <td>-1.274986</td>\n",
              "      <td>-1.185705</td>\n",
              "      <td>-1.166127</td>\n",
              "      <td>-0.601675</td>\n",
              "    </tr>\n",
              "    <tr>\n",
              "      <th>630423337322</th>\n",
              "      <td>0.901491</td>\n",
              "      <td>0.257905</td>\n",
              "      <td>-0.320220</td>\n",
              "      <td>2.083588</td>\n",
              "      <td>0.540547</td>\n",
              "      <td>0.705908</td>\n",
              "      <td>1.097814</td>\n",
              "      <td>0.955178</td>\n",
              "      <td>1.198524</td>\n",
              "      <td>1.640103</td>\n",
              "      <td>0.578781</td>\n",
              "      <td>-0.484796</td>\n",
              "    </tr>\n",
              "  </tbody>\n",
              "</table>\n",
              "</div>\n",
              "      <button class=\"colab-df-convert\" onclick=\"convertToInteractive('df-a1e781da-82f7-4cb0-aea4-650e7bc06a29')\"\n",
              "              title=\"Convert this dataframe to an interactive table.\"\n",
              "              style=\"display:none;\">\n",
              "        \n",
              "  <svg xmlns=\"http://www.w3.org/2000/svg\" height=\"24px\"viewBox=\"0 0 24 24\"\n",
              "       width=\"24px\">\n",
              "    <path d=\"M0 0h24v24H0V0z\" fill=\"none\"/>\n",
              "    <path d=\"M18.56 5.44l.94 2.06.94-2.06 2.06-.94-2.06-.94-.94-2.06-.94 2.06-2.06.94zm-11 1L8.5 8.5l.94-2.06 2.06-.94-2.06-.94L8.5 2.5l-.94 2.06-2.06.94zm10 10l.94 2.06.94-2.06 2.06-.94-2.06-.94-.94-2.06-.94 2.06-2.06.94z\"/><path d=\"M17.41 7.96l-1.37-1.37c-.4-.4-.92-.59-1.43-.59-.52 0-1.04.2-1.43.59L10.3 9.45l-7.72 7.72c-.78.78-.78 2.05 0 2.83L4 21.41c.39.39.9.59 1.41.59.51 0 1.02-.2 1.41-.59l7.78-7.78 2.81-2.81c.8-.78.8-2.07 0-2.86zM5.41 20L4 18.59l7.72-7.72 1.47 1.35L5.41 20z\"/>\n",
              "  </svg>\n",
              "      </button>\n",
              "      \n",
              "  <style>\n",
              "    .colab-df-container {\n",
              "      display:flex;\n",
              "      flex-wrap:wrap;\n",
              "      gap: 12px;\n",
              "    }\n",
              "\n",
              "    .colab-df-convert {\n",
              "      background-color: #E8F0FE;\n",
              "      border: none;\n",
              "      border-radius: 50%;\n",
              "      cursor: pointer;\n",
              "      display: none;\n",
              "      fill: #1967D2;\n",
              "      height: 32px;\n",
              "      padding: 0 0 0 0;\n",
              "      width: 32px;\n",
              "    }\n",
              "\n",
              "    .colab-df-convert:hover {\n",
              "      background-color: #E2EBFA;\n",
              "      box-shadow: 0px 1px 2px rgba(60, 64, 67, 0.3), 0px 1px 3px 1px rgba(60, 64, 67, 0.15);\n",
              "      fill: #174EA6;\n",
              "    }\n",
              "\n",
              "    [theme=dark] .colab-df-convert {\n",
              "      background-color: #3B4455;\n",
              "      fill: #D2E3FC;\n",
              "    }\n",
              "\n",
              "    [theme=dark] .colab-df-convert:hover {\n",
              "      background-color: #434B5C;\n",
              "      box-shadow: 0px 1px 3px 1px rgba(0, 0, 0, 0.15);\n",
              "      filter: drop-shadow(0px 1px 2px rgba(0, 0, 0, 0.3));\n",
              "      fill: #FFFFFF;\n",
              "    }\n",
              "  </style>\n",
              "\n",
              "      <script>\n",
              "        const buttonEl =\n",
              "          document.querySelector('#df-a1e781da-82f7-4cb0-aea4-650e7bc06a29 button.colab-df-convert');\n",
              "        buttonEl.style.display =\n",
              "          google.colab.kernel.accessAllowed ? 'block' : 'none';\n",
              "\n",
              "        async function convertToInteractive(key) {\n",
              "          const element = document.querySelector('#df-a1e781da-82f7-4cb0-aea4-650e7bc06a29');\n",
              "          const dataTable =\n",
              "            await google.colab.kernel.invokeFunction('convertToInteractive',\n",
              "                                                     [key], {});\n",
              "          if (!dataTable) return;\n",
              "\n",
              "          const docLinkHtml = 'Like what you see? Visit the ' +\n",
              "            '<a target=\"_blank\" href=https://colab.research.google.com/notebooks/data_table.ipynb>data table notebook</a>'\n",
              "            + ' to learn more about interactive tables.';\n",
              "          element.innerHTML = '';\n",
              "          dataTable['output_type'] = 'display_data';\n",
              "          await google.colab.output.renderOutput(dataTable, element);\n",
              "          const docLink = document.createElement('div');\n",
              "          docLink.innerHTML = docLinkHtml;\n",
              "          element.appendChild(docLink);\n",
              "        }\n",
              "      </script>\n",
              "    </div>\n",
              "  </div>\n",
              "  "
            ]
          },
          "metadata": {},
          "execution_count": 19
        }
      ]
    },
    {
      "cell_type": "markdown",
      "source": [
        "다른 고객들과 비슷한 수준이면(=평균에 가까울 경우) 0에 근접한 값을 보여주고, 더 많이 사용했으면 더 큰 양수를, 더 적게 사용했으면 더 작은 음수를 가짐"
      ],
      "metadata": {
        "id": "SpMgGhnw8NJg"
      }
    },
    {
      "cell_type": "markdown",
      "source": [
        "## 데이터 모델링 및 실루엣 계수"
      ],
      "metadata": {
        "id": "tWd7Qdm98UDs"
      }
    },
    {
      "cell_type": "code",
      "source": [
        "distance = []\n",
        "for k in range(2, 10):\n",
        "  k_model = KMeans(n_clusters=k)\n",
        "  k_model.fit(scaled_df)\n",
        "  labels = k_model.predict(scaled_df)\n",
        "  distance.append(k_model.inertia_)\n",
        "\n",
        "sns.lineplot(x=range(2, 10), y=distance)"
      ],
      "metadata": {
        "colab": {
          "base_uri": "https://localhost:8080/",
          "height": 742
        },
        "id": "R4QejDXn8KSd",
        "outputId": "93606d1c-6f53-4a24-a939-73e76360cda7"
      },
      "execution_count": 20,
      "outputs": [
        {
          "output_type": "stream",
          "name": "stderr",
          "text": [
            "/usr/local/lib/python3.10/dist-packages/sklearn/cluster/_kmeans.py:870: FutureWarning: The default value of `n_init` will change from 10 to 'auto' in 1.4. Set the value of `n_init` explicitly to suppress the warning\n",
            "  warnings.warn(\n",
            "/usr/local/lib/python3.10/dist-packages/sklearn/cluster/_kmeans.py:870: FutureWarning: The default value of `n_init` will change from 10 to 'auto' in 1.4. Set the value of `n_init` explicitly to suppress the warning\n",
            "  warnings.warn(\n",
            "/usr/local/lib/python3.10/dist-packages/sklearn/cluster/_kmeans.py:870: FutureWarning: The default value of `n_init` will change from 10 to 'auto' in 1.4. Set the value of `n_init` explicitly to suppress the warning\n",
            "  warnings.warn(\n",
            "/usr/local/lib/python3.10/dist-packages/sklearn/cluster/_kmeans.py:870: FutureWarning: The default value of `n_init` will change from 10 to 'auto' in 1.4. Set the value of `n_init` explicitly to suppress the warning\n",
            "  warnings.warn(\n",
            "/usr/local/lib/python3.10/dist-packages/sklearn/cluster/_kmeans.py:870: FutureWarning: The default value of `n_init` will change from 10 to 'auto' in 1.4. Set the value of `n_init` explicitly to suppress the warning\n",
            "  warnings.warn(\n",
            "/usr/local/lib/python3.10/dist-packages/sklearn/cluster/_kmeans.py:870: FutureWarning: The default value of `n_init` will change from 10 to 'auto' in 1.4. Set the value of `n_init` explicitly to suppress the warning\n",
            "  warnings.warn(\n",
            "/usr/local/lib/python3.10/dist-packages/sklearn/cluster/_kmeans.py:870: FutureWarning: The default value of `n_init` will change from 10 to 'auto' in 1.4. Set the value of `n_init` explicitly to suppress the warning\n",
            "  warnings.warn(\n",
            "/usr/local/lib/python3.10/dist-packages/sklearn/cluster/_kmeans.py:870: FutureWarning: The default value of `n_init` will change from 10 to 'auto' in 1.4. Set the value of `n_init` explicitly to suppress the warning\n",
            "  warnings.warn(\n"
          ]
        },
        {
          "output_type": "execute_result",
          "data": {
            "text/plain": [
              "<Axes: >"
            ]
          },
          "metadata": {},
          "execution_count": 20
        },
        {
          "output_type": "display_data",
          "data": {
            "text/plain": [
              "<Figure size 640x480 with 1 Axes>"
            ],
            "image/png": "[encoded data removed]"
          },
          "metadata": {}
        }
      ]
    },
    {
      "cell_type": "markdown",
      "source": [
        "어느 한 지점에서 크게 떨어지지 않고 비교적 완만하게 그래프가 내려가 K값을 결정하기 어려움\n",
        "- 대안으로 실루엣 계수를 사용할 수 있음\n",
        "- 실루엣 계수: 클러스터 내부에서의 평균 거리와, 최근접한 다른 클러스터 데이터와의 평군 거리도 점수에 반영함\n",
        "\n",
        "\n",
        "**실루엣 계수(silhouette coefficient)**\n",
        "- 엘보우 기법과 같이 최적의 클러스터 수를 찾는 방법\n",
        "- 높은 값일수록 더 좋은 분류의 의미\n",
        "- 엘보우 기법에서 적절한 클러스터 수를 찾지 못했을 대 대안으로 사용\n",
        "- 엘보우 기법보다 계산 시간이 오래 걸리는 단점 존재\n"
      ],
      "metadata": {
        "id": "4H3nHujr8plg"
      }
    },
    {
      "cell_type": "code",
      "source": [
        "from sklearn.metrics import silhouette_score"
      ],
      "metadata": {
        "id": "v_HbS7gF8lyN"
      },
      "execution_count": 21,
      "outputs": []
    },
    {
      "cell_type": "code",
      "source": [
        "silhouette = []\n",
        "for k in range(2, 10):\n",
        "  k_model = KMeans(n_clusters=k)\n",
        "  k_model.fit(scaled_df)\n",
        "  labels = k_model.predict(scaled_df)\n",
        "  silhouette.append(silhouette_score(scaled_df, labels))  # 실루엣 계수 리스트에 추가\n",
        "\n",
        "sns.lineplot(x=range(2, 10), y=silhouette)"
      ],
      "metadata": {
        "colab": {
          "base_uri": "https://localhost:8080/",
          "height": 742
        },
        "id": "CGM81LO79R6E",
        "outputId": "e3b47f1a-de62-49ee-97b8-e0a21e25c9aa"
      },
      "execution_count": 22,
      "outputs": [
        {
          "output_type": "stream",
          "name": "stderr",
          "text": [
            "/usr/local/lib/python3.10/dist-packages/sklearn/cluster/_kmeans.py:870: FutureWarning: The default value of `n_init` will change from 10 to 'auto' in 1.4. Set the value of `n_init` explicitly to suppress the warning\n",
            "  warnings.warn(\n",
            "/usr/local/lib/python3.10/dist-packages/sklearn/cluster/_kmeans.py:870: FutureWarning: The default value of `n_init` will change from 10 to 'auto' in 1.4. Set the value of `n_init` explicitly to suppress the warning\n",
            "  warnings.warn(\n",
            "/usr/local/lib/python3.10/dist-packages/sklearn/cluster/_kmeans.py:870: FutureWarning: The default value of `n_init` will change from 10 to 'auto' in 1.4. Set the value of `n_init` explicitly to suppress the warning\n",
            "  warnings.warn(\n",
            "/usr/local/lib/python3.10/dist-packages/sklearn/cluster/_kmeans.py:870: FutureWarning: The default value of `n_init` will change from 10 to 'auto' in 1.4. Set the value of `n_init` explicitly to suppress the warning\n",
            "  warnings.warn(\n",
            "/usr/local/lib/python3.10/dist-packages/sklearn/cluster/_kmeans.py:870: FutureWarning: The default value of `n_init` will change from 10 to 'auto' in 1.4. Set the value of `n_init` explicitly to suppress the warning\n",
            "  warnings.warn(\n",
            "/usr/local/lib/python3.10/dist-packages/sklearn/cluster/_kmeans.py:870: FutureWarning: The default value of `n_init` will change from 10 to 'auto' in 1.4. Set the value of `n_init` explicitly to suppress the warning\n",
            "  warnings.warn(\n",
            "/usr/local/lib/python3.10/dist-packages/sklearn/cluster/_kmeans.py:870: FutureWarning: The default value of `n_init` will change from 10 to 'auto' in 1.4. Set the value of `n_init` explicitly to suppress the warning\n",
            "  warnings.warn(\n",
            "/usr/local/lib/python3.10/dist-packages/sklearn/cluster/_kmeans.py:870: FutureWarning: The default value of `n_init` will change from 10 to 'auto' in 1.4. Set the value of `n_init` explicitly to suppress the warning\n",
            "  warnings.warn(\n"
          ]
        },
        {
          "output_type": "execute_result",
          "data": {
            "text/plain": [
              "<Axes: >"
            ]
          },
          "metadata": {},
          "execution_count": 22
        },
        {
          "output_type": "display_data",
          "data": {
            "text/plain": [
              "<Figure size 640x480 with 1 Axes>"
            ],
            "image/png": "[encoded data removed]"
          },
          "metadata": {}
        }
      ]
    },
    {
      "cell_type": "markdown",
      "source": [
        "실루엣 계수에서는 높은 값일수록 더 좋은 분류를 의미하므로 여기에서는 명확하게 K=4일 때 가장 좋은 분류 성능을 나타냄\n",
        "- 실루엣 계수는 계산 비용이 상대적으로 크기 때문에\n",
        "- 엘보우 기법을 우선 활용하되, 적절한 K값을 찾기 어려울 때 실루엣 계수를 사용해야 함"
      ],
      "metadata": {
        "id": "G_FsiSEg9t07"
      }
    },
    {
      "cell_type": "markdown",
      "source": [
        "## 최종 예측 모델 및 결과 해석"
      ],
      "metadata": {
        "id": "wD4dwIIJ980w"
      }
    },
    {
      "cell_type": "code",
      "source": [
        "k_model = KMeans(n_clusters=4)\n",
        "k_model.fit(scaled_df)\n",
        "labels = k_model.predict(scaled_df)"
      ],
      "metadata": {
        "colab": {
          "base_uri": "https://localhost:8080/"
        },
        "id": "MbsvxO4B9fm6",
        "outputId": "b3ea868a-1e12-43b4-bac5-372c5d76455c"
      },
      "execution_count": 23,
      "outputs": [
        {
          "output_type": "stream",
          "name": "stderr",
          "text": [
            "/usr/local/lib/python3.10/dist-packages/sklearn/cluster/_kmeans.py:870: FutureWarning: The default value of `n_init` will change from 10 to 'auto' in 1.4. Set the value of `n_init` explicitly to suppress the warning\n",
            "  warnings.warn(\n"
          ]
        }
      ]
    },
    {
      "cell_type": "code",
      "source": [
        "scaled_df['label'] = labels"
      ],
      "metadata": {
        "id": "M2jROtt8-Fyi"
      },
      "execution_count": 24,
      "outputs": []
    },
    {
      "cell_type": "code",
      "source": [
        "scaled_df_mean = scaled_df.groupby('label').mean()  # label별 평균값\n",
        "scaled_df_count = scaled_df.groupby('label').count()['category_travel']  # label별 등장 횟수"
      ],
      "metadata": {
        "id": "Cut8bWCs-I1y"
      },
      "execution_count": 25,
      "outputs": []
    },
    {
      "cell_type": "code",
      "source": [
        "scaled_df_mean"
      ],
      "metadata": {
        "colab": {
          "base_uri": "https://localhost:8080/",
          "height": 270
        },
        "id": "3WNbYZ2v-iAe",
        "outputId": "3bbb8111-8f22-472d-951c-8cf8846af39f"
      },
      "execution_count": 26,
      "outputs": [
        {
          "output_type": "execute_result",
          "data": {
            "text/plain": [
              "            amt  category_entertainment  category_food_dining  \\\n",
              "label                                                           \n",
              "0      0.181113                0.043536              0.071197   \n",
              "1     -0.983797               -0.826826             -0.820264   \n",
              "2      1.908120                2.155375              1.796299   \n",
              "3      1.000533                0.776166              1.036432   \n",
              "\n",
              "       category_gas_transport  category_grocery  category_health_fitness  \\\n",
              "label                                                                      \n",
              "0                    0.868891          0.032581                 0.356233   \n",
              "1                   -0.807530         -0.746914                -1.037601   \n",
              "2                   -0.490418          2.290553                 1.155923   \n",
              "3                   -0.749213          0.310577                 1.175961   \n",
              "\n",
              "       category_home  category_kids_pets  category_misc  \\\n",
              "label                                                     \n",
              "0           0.220808            0.524956       0.235603   \n",
              "1          -0.943190           -1.017107      -0.788890   \n",
              "2           0.943950            1.255997       2.005393   \n",
              "3           1.794775           -0.011510      -0.311453   \n",
              "\n",
              "       category_personal_care  category_shopping  category_travel  \n",
              "label                                                              \n",
              "0                    0.341387          -0.070841        -0.264840  \n",
              "1                   -0.903252          -0.760563        -0.266604  \n",
              "2                    1.756210           2.272314        -0.262740  \n",
              "3                   -0.093603           0.989477         3.050970  "
            ],
            "text/html": [
              "\n",
              "  <div id=\"df-a593a2ce-e783-4451-8e32-04854c04a084\">\n",
              "    <div class=\"colab-df-container\">\n",
              "      <div>\n",
              "<style scoped>\n",
              "    .dataframe tbody tr th:only-of-type {\n",
              "        vertical-align: middle;\n",
              "    }\n",
              "\n",
              "    .dataframe tbody tr th {\n",
              "        vertical-align: top;\n",
              "    }\n",
              "\n",
              "    .dataframe thead th {\n",
              "        text-align: right;\n",
              "    }\n",
              "</style>\n",
              "<table border=\"1\" class=\"dataframe\">\n",
              "  <thead>\n",
              "    <tr style=\"text-align: right;\">\n",
              "      <th></th>\n",
              "      <th>amt</th>\n",
              "      <th>category_entertainment</th>\n",
              "      <th>category_food_dining</th>\n",
              "      <th>category_gas_transport</th>\n",
              "      <th>category_grocery</th>\n",
              "      <th>category_health_fitness</th>\n",
              "      <th>category_home</th>\n",
              "      <th>category_kids_pets</th>\n",
              "      <th>category_misc</th>\n",
              "      <th>category_personal_care</th>\n",
              "      <th>category_shopping</th>\n",
              "      <th>category_travel</th>\n",
              "    </tr>\n",
              "    <tr>\n",
              "      <th>label</th>\n",
              "      <th></th>\n",
              "      <th></th>\n",
              "      <th></th>\n",
              "      <th></th>\n",
              "      <th></th>\n",
              "      <th></th>\n",
              "      <th></th>\n",
              "      <th></th>\n",
              "      <th></th>\n",
              "      <th></th>\n",
              "      <th></th>\n",
              "      <th></th>\n",
              "    </tr>\n",
              "  </thead>\n",
              "  <tbody>\n",
              "    <tr>\n",
              "      <th>0</th>\n",
              "      <td>0.181113</td>\n",
              "      <td>0.043536</td>\n",
              "      <td>0.071197</td>\n",
              "      <td>0.868891</td>\n",
              "      <td>0.032581</td>\n",
              "      <td>0.356233</td>\n",
              "      <td>0.220808</td>\n",
              "      <td>0.524956</td>\n",
              "      <td>0.235603</td>\n",
              "      <td>0.341387</td>\n",
              "      <td>-0.070841</td>\n",
              "      <td>-0.264840</td>\n",
              "    </tr>\n",
              "    <tr>\n",
              "      <th>1</th>\n",
              "      <td>-0.983797</td>\n",
              "      <td>-0.826826</td>\n",
              "      <td>-0.820264</td>\n",
              "      <td>-0.807530</td>\n",
              "      <td>-0.746914</td>\n",
              "      <td>-1.037601</td>\n",
              "      <td>-0.943190</td>\n",
              "      <td>-1.017107</td>\n",
              "      <td>-0.788890</td>\n",
              "      <td>-0.903252</td>\n",
              "      <td>-0.760563</td>\n",
              "      <td>-0.266604</td>\n",
              "    </tr>\n",
              "    <tr>\n",
              "      <th>2</th>\n",
              "      <td>1.908120</td>\n",
              "      <td>2.155375</td>\n",
              "      <td>1.796299</td>\n",
              "      <td>-0.490418</td>\n",
              "      <td>2.290553</td>\n",
              "      <td>1.155923</td>\n",
              "      <td>0.943950</td>\n",
              "      <td>1.255997</td>\n",
              "      <td>2.005393</td>\n",
              "      <td>1.756210</td>\n",
              "      <td>2.272314</td>\n",
              "      <td>-0.262740</td>\n",
              "    </tr>\n",
              "    <tr>\n",
              "      <th>3</th>\n",
              "      <td>1.000533</td>\n",
              "      <td>0.776166</td>\n",
              "      <td>1.036432</td>\n",
              "      <td>-0.749213</td>\n",
              "      <td>0.310577</td>\n",
              "      <td>1.175961</td>\n",
              "      <td>1.794775</td>\n",
              "      <td>-0.011510</td>\n",
              "      <td>-0.311453</td>\n",
              "      <td>-0.093603</td>\n",
              "      <td>0.989477</td>\n",
              "      <td>3.050970</td>\n",
              "    </tr>\n",
              "  </tbody>\n",
              "</table>\n",
              "</div>\n",
              "      <button class=\"colab-df-convert\" onclick=\"convertToInteractive('df-a593a2ce-e783-4451-8e32-04854c04a084')\"\n",
              "              title=\"Convert this dataframe to an interactive table.\"\n",
              "              style=\"display:none;\">\n",
              "        \n",
              "  <svg xmlns=\"http://www.w3.org/2000/svg\" height=\"24px\"viewBox=\"0 0 24 24\"\n",
              "       width=\"24px\">\n",
              "    <path d=\"M0 0h24v24H0V0z\" fill=\"none\"/>\n",
              "    <path d=\"M18.56 5.44l.94 2.06.94-2.06 2.06-.94-2.06-.94-.94-2.06-.94 2.06-2.06.94zm-11 1L8.5 8.5l.94-2.06 2.06-.94-2.06-.94L8.5 2.5l-.94 2.06-2.06.94zm10 10l.94 2.06.94-2.06 2.06-.94-2.06-.94-.94-2.06-.94 2.06-2.06.94z\"/><path d=\"M17.41 7.96l-1.37-1.37c-.4-.4-.92-.59-1.43-.59-.52 0-1.04.2-1.43.59L10.3 9.45l-7.72 7.72c-.78.78-.78 2.05 0 2.83L4 21.41c.39.39.9.59 1.41.59.51 0 1.02-.2 1.41-.59l7.78-7.78 2.81-2.81c.8-.78.8-2.07 0-2.86zM5.41 20L4 18.59l7.72-7.72 1.47 1.35L5.41 20z\"/>\n",
              "  </svg>\n",
              "      </button>\n",
              "      \n",
              "  <style>\n",
              "    .colab-df-container {\n",
              "      display:flex;\n",
              "      flex-wrap:wrap;\n",
              "      gap: 12px;\n",
              "    }\n",
              "\n",
              "    .colab-df-convert {\n",
              "      background-color: #E8F0FE;\n",
              "      border: none;\n",
              "      border-radius: 50%;\n",
              "      cursor: pointer;\n",
              "      display: none;\n",
              "      fill: #1967D2;\n",
              "      height: 32px;\n",
              "      padding: 0 0 0 0;\n",
              "      width: 32px;\n",
              "    }\n",
              "\n",
              "    .colab-df-convert:hover {\n",
              "      background-color: #E2EBFA;\n",
              "      box-shadow: 0px 1px 2px rgba(60, 64, 67, 0.3), 0px 1px 3px 1px rgba(60, 64, 67, 0.15);\n",
              "      fill: #174EA6;\n",
              "    }\n",
              "\n",
              "    [theme=dark] .colab-df-convert {\n",
              "      background-color: #3B4455;\n",
              "      fill: #D2E3FC;\n",
              "    }\n",
              "\n",
              "    [theme=dark] .colab-df-convert:hover {\n",
              "      background-color: #434B5C;\n",
              "      box-shadow: 0px 1px 3px 1px rgba(0, 0, 0, 0.15);\n",
              "      filter: drop-shadow(0px 1px 2px rgba(0, 0, 0, 0.3));\n",
              "      fill: #FFFFFF;\n",
              "    }\n",
              "  </style>\n",
              "\n",
              "      <script>\n",
              "        const buttonEl =\n",
              "          document.querySelector('#df-a593a2ce-e783-4451-8e32-04854c04a084 button.colab-df-convert');\n",
              "        buttonEl.style.display =\n",
              "          google.colab.kernel.accessAllowed ? 'block' : 'none';\n",
              "\n",
              "        async function convertToInteractive(key) {\n",
              "          const element = document.querySelector('#df-a593a2ce-e783-4451-8e32-04854c04a084');\n",
              "          const dataTable =\n",
              "            await google.colab.kernel.invokeFunction('convertToInteractive',\n",
              "                                                     [key], {});\n",
              "          if (!dataTable) return;\n",
              "\n",
              "          const docLinkHtml = 'Like what you see? Visit the ' +\n",
              "            '<a target=\"_blank\" href=https://colab.research.google.com/notebooks/data_table.ipynb>data table notebook</a>'\n",
              "            + ' to learn more about interactive tables.';\n",
              "          element.innerHTML = '';\n",
              "          dataTable['output_type'] = 'display_data';\n",
              "          await google.colab.output.renderOutput(dataTable, element);\n",
              "          const docLink = document.createElement('div');\n",
              "          docLink.innerHTML = docLinkHtml;\n",
              "          element.appendChild(docLink);\n",
              "        }\n",
              "      </script>\n",
              "    </div>\n",
              "  </div>\n",
              "  "
            ]
          },
          "metadata": {},
          "execution_count": 26
        }
      ]
    },
    {
      "cell_type": "code",
      "source": [
        "scaled_df_count"
      ],
      "metadata": {
        "colab": {
          "base_uri": "https://localhost:8080/"
        },
        "id": "DOGQfh42-k4O",
        "outputId": "c4f3d8dd-dd93-4059-99e5-ff9575498b7a"
      },
      "execution_count": 27,
      "outputs": [
        {
          "output_type": "execute_result",
          "data": {
            "text/plain": [
              "label\n",
              "0    46\n",
              "1    36\n",
              "2    10\n",
              "3     8\n",
              "Name: category_travel, dtype: int64"
            ]
          },
          "metadata": {},
          "execution_count": 27
        }
      ]
    },
    {
      "cell_type": "code",
      "source": [
        "scaled_df_count = scaled_df_count.rename('count')  # join 함수 사용 시 같은 컬럼이 존재하면 에러가 발생하므로 이름 변경"
      ],
      "metadata": {
        "id": "cd7_Dbam-V83"
      },
      "execution_count": 28,
      "outputs": []
    },
    {
      "cell_type": "code",
      "source": [
        "scaled_df_all = scaled_df_mean.join(scaled_df_count)\n",
        "scaled_df_all"
      ],
      "metadata": {
        "colab": {
          "base_uri": "https://localhost:8080/",
          "height": 270
        },
        "id": "KmyJjOxB-0Qy",
        "outputId": "f6fb2ad2-3af4-4617-8b05-ac2fef0989a8"
      },
      "execution_count": 29,
      "outputs": [
        {
          "output_type": "execute_result",
          "data": {
            "text/plain": [
              "            amt  category_entertainment  category_food_dining  \\\n",
              "label                                                           \n",
              "0      0.181113                0.043536              0.071197   \n",
              "1     -0.983797               -0.826826             -0.820264   \n",
              "2      1.908120                2.155375              1.796299   \n",
              "3      1.000533                0.776166              1.036432   \n",
              "\n",
              "       category_gas_transport  category_grocery  category_health_fitness  \\\n",
              "label                                                                      \n",
              "0                    0.868891          0.032581                 0.356233   \n",
              "1                   -0.807530         -0.746914                -1.037601   \n",
              "2                   -0.490418          2.290553                 1.155923   \n",
              "3                   -0.749213          0.310577                 1.175961   \n",
              "\n",
              "       category_home  category_kids_pets  category_misc  \\\n",
              "label                                                     \n",
              "0           0.220808            0.524956       0.235603   \n",
              "1          -0.943190           -1.017107      -0.788890   \n",
              "2           0.943950            1.255997       2.005393   \n",
              "3           1.794775           -0.011510      -0.311453   \n",
              "\n",
              "       category_personal_care  category_shopping  category_travel  count  \n",
              "label                                                                     \n",
              "0                    0.341387          -0.070841        -0.264840     46  \n",
              "1                   -0.903252          -0.760563        -0.266604     36  \n",
              "2                    1.756210           2.272314        -0.262740     10  \n",
              "3                   -0.093603           0.989477         3.050970      8  "
            ],
            "text/html": [
              "\n",
              "  <div id=\"df-18352193-fbeb-45b8-a55b-bf17f561741c\">\n",
              "    <div class=\"colab-df-container\">\n",
              "      <div>\n",
              "<style scoped>\n",
              "    .dataframe tbody tr th:only-of-type {\n",
              "        vertical-align: middle;\n",
              "    }\n",
              "\n",
              "    .dataframe tbody tr th {\n",
              "        vertical-align: top;\n",
              "    }\n",
              "\n",
              "    .dataframe thead th {\n",
              "        text-align: right;\n",
              "    }\n",
              "</style>\n",
              "<table border=\"1\" class=\"dataframe\">\n",
              "  <thead>\n",
              "    <tr style=\"text-align: right;\">\n",
              "      <th></th>\n",
              "      <th>amt</th>\n",
              "      <th>category_entertainment</th>\n",
              "      <th>category_food_dining</th>\n",
              "      <th>category_gas_transport</th>\n",
              "      <th>category_grocery</th>\n",
              "      <th>category_health_fitness</th>\n",
              "      <th>category_home</th>\n",
              "      <th>category_kids_pets</th>\n",
              "      <th>category_misc</th>\n",
              "      <th>category_personal_care</th>\n",
              "      <th>category_shopping</th>\n",
              "      <th>category_travel</th>\n",
              "      <th>count</th>\n",
              "    </tr>\n",
              "    <tr>\n",
              "      <th>label</th>\n",
              "      <th></th>\n",
              "      <th></th>\n",
              "      <th></th>\n",
              "      <th></th>\n",
              "      <th></th>\n",
              "      <th></th>\n",
              "      <th></th>\n",
              "      <th></th>\n",
              "      <th></th>\n",
              "      <th></th>\n",
              "      <th></th>\n",
              "      <th></th>\n",
              "      <th></th>\n",
              "    </tr>\n",
              "  </thead>\n",
              "  <tbody>\n",
              "    <tr>\n",
              "      <th>0</th>\n",
              "      <td>0.181113</td>\n",
              "      <td>0.043536</td>\n",
              "      <td>0.071197</td>\n",
              "      <td>0.868891</td>\n",
              "      <td>0.032581</td>\n",
              "      <td>0.356233</td>\n",
              "      <td>0.220808</td>\n",
              "      <td>0.524956</td>\n",
              "      <td>0.235603</td>\n",
              "      <td>0.341387</td>\n",
              "      <td>-0.070841</td>\n",
              "      <td>-0.264840</td>\n",
              "      <td>46</td>\n",
              "    </tr>\n",
              "    <tr>\n",
              "      <th>1</th>\n",
              "      <td>-0.983797</td>\n",
              "      <td>-0.826826</td>\n",
              "      <td>-0.820264</td>\n",
              "      <td>-0.807530</td>\n",
              "      <td>-0.746914</td>\n",
              "      <td>-1.037601</td>\n",
              "      <td>-0.943190</td>\n",
              "      <td>-1.017107</td>\n",
              "      <td>-0.788890</td>\n",
              "      <td>-0.903252</td>\n",
              "      <td>-0.760563</td>\n",
              "      <td>-0.266604</td>\n",
              "      <td>36</td>\n",
              "    </tr>\n",
              "    <tr>\n",
              "      <th>2</th>\n",
              "      <td>1.908120</td>\n",
              "      <td>2.155375</td>\n",
              "      <td>1.796299</td>\n",
              "      <td>-0.490418</td>\n",
              "      <td>2.290553</td>\n",
              "      <td>1.155923</td>\n",
              "      <td>0.943950</td>\n",
              "      <td>1.255997</td>\n",
              "      <td>2.005393</td>\n",
              "      <td>1.756210</td>\n",
              "      <td>2.272314</td>\n",
              "      <td>-0.262740</td>\n",
              "      <td>10</td>\n",
              "    </tr>\n",
              "    <tr>\n",
              "      <th>3</th>\n",
              "      <td>1.000533</td>\n",
              "      <td>0.776166</td>\n",
              "      <td>1.036432</td>\n",
              "      <td>-0.749213</td>\n",
              "      <td>0.310577</td>\n",
              "      <td>1.175961</td>\n",
              "      <td>1.794775</td>\n",
              "      <td>-0.011510</td>\n",
              "      <td>-0.311453</td>\n",
              "      <td>-0.093603</td>\n",
              "      <td>0.989477</td>\n",
              "      <td>3.050970</td>\n",
              "      <td>8</td>\n",
              "    </tr>\n",
              "  </tbody>\n",
              "</table>\n",
              "</div>\n",
              "      <button class=\"colab-df-convert\" onclick=\"convertToInteractive('df-18352193-fbeb-45b8-a55b-bf17f561741c')\"\n",
              "              title=\"Convert this dataframe to an interactive table.\"\n",
              "              style=\"display:none;\">\n",
              "        \n",
              "  <svg xmlns=\"http://www.w3.org/2000/svg\" height=\"24px\"viewBox=\"0 0 24 24\"\n",
              "       width=\"24px\">\n",
              "    <path d=\"M0 0h24v24H0V0z\" fill=\"none\"/>\n",
              "    <path d=\"M18.56 5.44l.94 2.06.94-2.06 2.06-.94-2.06-.94-.94-2.06-.94 2.06-2.06.94zm-11 1L8.5 8.5l.94-2.06 2.06-.94-2.06-.94L8.5 2.5l-.94 2.06-2.06.94zm10 10l.94 2.06.94-2.06 2.06-.94-2.06-.94-.94-2.06-.94 2.06-2.06.94z\"/><path d=\"M17.41 7.96l-1.37-1.37c-.4-.4-.92-.59-1.43-.59-.52 0-1.04.2-1.43.59L10.3 9.45l-7.72 7.72c-.78.78-.78 2.05 0 2.83L4 21.41c.39.39.9.59 1.41.59.51 0 1.02-.2 1.41-.59l7.78-7.78 2.81-2.81c.8-.78.8-2.07 0-2.86zM5.41 20L4 18.59l7.72-7.72 1.47 1.35L5.41 20z\"/>\n",
              "  </svg>\n",
              "      </button>\n",
              "      \n",
              "  <style>\n",
              "    .colab-df-container {\n",
              "      display:flex;\n",
              "      flex-wrap:wrap;\n",
              "      gap: 12px;\n",
              "    }\n",
              "\n",
              "    .colab-df-convert {\n",
              "      background-color: #E8F0FE;\n",
              "      border: none;\n",
              "      border-radius: 50%;\n",
              "      cursor: pointer;\n",
              "      display: none;\n",
              "      fill: #1967D2;\n",
              "      height: 32px;\n",
              "      padding: 0 0 0 0;\n",
              "      width: 32px;\n",
              "    }\n",
              "\n",
              "    .colab-df-convert:hover {\n",
              "      background-color: #E2EBFA;\n",
              "      box-shadow: 0px 1px 2px rgba(60, 64, 67, 0.3), 0px 1px 3px 1px rgba(60, 64, 67, 0.15);\n",
              "      fill: #174EA6;\n",
              "    }\n",
              "\n",
              "    [theme=dark] .colab-df-convert {\n",
              "      background-color: #3B4455;\n",
              "      fill: #D2E3FC;\n",
              "    }\n",
              "\n",
              "    [theme=dark] .colab-df-convert:hover {\n",
              "      background-color: #434B5C;\n",
              "      box-shadow: 0px 1px 3px 1px rgba(0, 0, 0, 0.15);\n",
              "      filter: drop-shadow(0px 1px 2px rgba(0, 0, 0, 0.3));\n",
              "      fill: #FFFFFF;\n",
              "    }\n",
              "  </style>\n",
              "\n",
              "      <script>\n",
              "        const buttonEl =\n",
              "          document.querySelector('#df-18352193-fbeb-45b8-a55b-bf17f561741c button.colab-df-convert');\n",
              "        buttonEl.style.display =\n",
              "          google.colab.kernel.accessAllowed ? 'block' : 'none';\n",
              "\n",
              "        async function convertToInteractive(key) {\n",
              "          const element = document.querySelector('#df-18352193-fbeb-45b8-a55b-bf17f561741c');\n",
              "          const dataTable =\n",
              "            await google.colab.kernel.invokeFunction('convertToInteractive',\n",
              "                                                     [key], {});\n",
              "          if (!dataTable) return;\n",
              "\n",
              "          const docLinkHtml = 'Like what you see? Visit the ' +\n",
              "            '<a target=\"_blank\" href=https://colab.research.google.com/notebooks/data_table.ipynb>data table notebook</a>'\n",
              "            + ' to learn more about interactive tables.';\n",
              "          element.innerHTML = '';\n",
              "          dataTable['output_type'] = 'display_data';\n",
              "          await google.colab.output.renderOutput(dataTable, element);\n",
              "          const docLink = document.createElement('div');\n",
              "          docLink.innerHTML = docLinkHtml;\n",
              "          element.appendChild(docLink);\n",
              "        }\n",
              "      </script>\n",
              "    </div>\n",
              "  </div>\n",
              "  "
            ]
          },
          "metadata": {},
          "execution_count": 29
        }
      ]
    },
    {
      "cell_type": "markdown",
      "source": [
        "- 클러스터 0인 그룹은 전체 지출액부터 각 범주의 금액까지 모두 타 클러스터에 비해 낮음 - 46명(지출이 낮은 일반 고객군)\n",
        "- 클러스터 1인 그룹은 gas_transport에서 상대적으로 조금 높은 지출을 보이지만, 전체 지출 및 각 범주에서 대부분 0에 가까운 숫자를 보여줌 - 36명(특징이 없는 일반 고객군)\n",
        "- 클러스터 2인 그룹은 전체 지출금액부터 대다수의 범주에서 높은 지출을 보여줌 - 10명(상위 10%의 VIP 고객)\n",
        "- 클러스터 3인 그룹은 health, home, travel에서 다른 클러스터보다 지출이 높으며, 특히 travel이 굉장히 높게 나옴 - 8명(여행에 관심이 많은 고객군)"
      ],
      "metadata": {
        "id": "b8iM7iaM_F4z"
      }
    }
  ]
}